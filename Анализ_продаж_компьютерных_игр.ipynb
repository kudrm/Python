{
  "cells": [
    {
      "cell_type": "markdown",
      "metadata": {
        "id": "MslctQUJztnf"
      },
      "source": [
        "## Описание проекта\n",
        "Вы работаете в интернет-магазине «Стримчик», который продаёт по всему миру компьютерные игры. Из открытых источников доступны исторические данные о продажах игр, оценки пользователей и экспертов, жанры и платформы (например, Xbox или PlayStation). Вам нужно выявить определяющие успешность игры закономерности. Это позволит сделать ставку на потенциально популярный продукт и спланировать рекламные кампании.\n",
        "\n",
        "Перед вами данные до 2016 года. Представим, что сейчас декабрь 2016 г., и вы планируете кампанию на 2017-й. Нужно отработать принцип работы с данными. Неважно, прогнозируете ли вы продажи на 2017 год по данным 2016-го или же 2027-й — по данным 2026 года.\n",
        "\n",
        "В наборе данных попадается аббревиатура ESRB (Entertainment Software Rating Board) — это ассоциация, определяющая возрастной рейтинг компьютерных игр. ESRB оценивает игровой контент и присваивает ему подходящую возрастную категорию, например, «Для взрослых», «Для детей младшего возраста» или «Для подростков»."
      ]
    },
    {
      "cell_type": "markdown",
      "metadata": {
        "id": "Ns9psbRwztng"
      },
      "source": [
        "# Описание данных\n",
        "- Name — название игры\n",
        "- Platform — платформа\n",
        "- Year_of_Release — год выпуска\n",
        "- Genre — жанр игры\n",
        "- NA_sales — продажи в Северной Америке (миллионы проданных копий)\n",
        "- EU_sales — продажи в Европе (миллионы проданных копий)\n",
        "- JP_sales — продажи в Японии (миллионы проданных копий)\n",
        "- Other_sales — продажи в других странах (миллионы проданных копий)\n",
        "- Critic_Score — оценка критиков (максимум 100)\n",
        "- User_Score — оценка пользователей (максимум 10)\n",
        "- Rating — рейтинг от организации ESRB (англ. Entertainment Software Rating Board). Эта ассоциация определяет рейтинг компьютерных игр и присваивает им подходящую возрастную категорию.\n",
        "- Данные за 2016 год могут быть неполными."
      ]
    },
    {
      "cell_type": "markdown",
      "metadata": {
        "id": "Wed0Q7m5ztnk"
      },
      "source": [
        "## Изучение данных из файла\n",
        "Путь к файлу: /datasets/games.csv. Скачать датасет"
      ]
    },
    {
      "cell_type": "code",
      "execution_count": null,
      "metadata": {
        "id": "W_ll7rRXztnn"
      },
      "outputs": [],
      "source": [
        "import warnings\n",
        "warnings.filterwarnings('ignore')"
      ]
    },
    {
      "cell_type": "code",
      "execution_count": null,
      "metadata": {
        "id": "ylFsxsG0ztnq"
      },
      "outputs": [],
      "source": [
        "import pandas as pd\n",
        "\n",
        "from scipy import stats as st\n",
        "import matplotlib.pyplot as plt\n",
        "import numpy as np\n",
        "import seaborn as sns\n",
        "import math"
      ]
    },
    {
      "cell_type": "code",
      "execution_count": null,
      "metadata": {
        "id": "KM1qoirvztnr"
      },
      "outputs": [],
      "source": [
        "df = pd.read_csv('/datasets/games.csv')"
      ]
    },
    {
      "cell_type": "code",
      "execution_count": null,
      "metadata": {
        "id": "A5l3f90Bztns",
        "outputId": "ea28897d-ea24-4879-d0e5-2099f144649a"
      },
      "outputs": [
        {
          "name": "stdout",
          "output_type": "stream",
          "text": [
            "<class 'pandas.core.frame.DataFrame'>\n",
            "RangeIndex: 16715 entries, 0 to 16714\n",
            "Data columns (total 11 columns):\n",
            "Name               16713 non-null object\n",
            "Platform           16715 non-null object\n",
            "Year_of_Release    16446 non-null float64\n",
            "Genre              16713 non-null object\n",
            "NA_sales           16715 non-null float64\n",
            "EU_sales           16715 non-null float64\n",
            "JP_sales           16715 non-null float64\n",
            "Other_sales        16715 non-null float64\n",
            "Critic_Score       8137 non-null float64\n",
            "User_Score         10014 non-null object\n",
            "Rating             9949 non-null object\n",
            "dtypes: float64(6), object(5)\n",
            "memory usage: 1.4+ MB\n"
          ]
        }
      ],
      "source": [
        "df.info() #общая инфо о базе"
      ]
    },
    {
      "cell_type": "code",
      "execution_count": null,
      "metadata": {
        "id": "w35wa-l2ztnu",
        "outputId": "5a015e10-f036-4ee7-8e99-b8f96a7d8b8f"
      },
      "outputs": [
        {
          "data": {
            "text/plain": [
              "Name                0.0\n",
              "Platform            0.0\n",
              "Year_of_Release     1.6\n",
              "Genre               0.0\n",
              "NA_sales            0.0\n",
              "EU_sales            0.0\n",
              "JP_sales            0.0\n",
              "Other_sales         0.0\n",
              "Critic_Score       51.3\n",
              "User_Score         40.1\n",
              "Rating             40.5\n",
              "dtype: float64"
            ]
          },
          "execution_count": 5,
          "metadata": {},
          "output_type": "execute_result"
        }
      ],
      "source": [
        "df.isna().sum()#пропуски есть в 6 столбцах\n",
        "df.isna().mean().round(3)*100"
      ]
    },
    {
      "cell_type": "code",
      "execution_count": null,
      "metadata": {
        "id": "lth6qYnfztnv",
        "outputId": "56bd29cb-b23b-40d6-b0ad-3865075777b2"
      },
      "outputs": [
        {
          "data": {
            "text/plain": [
              "0"
            ]
          },
          "execution_count": 6,
          "metadata": {},
          "output_type": "execute_result"
        }
      ],
      "source": [
        "df.duplicated().sum() #дубликатов нет"
      ]
    },
    {
      "cell_type": "code",
      "execution_count": null,
      "metadata": {
        "id": "ewrQa4EHztnw",
        "outputId": "f0518c8f-caec-4803-ce05-1a79547e8223"
      },
      "outputs": [
        {
          "data": {
            "text/html": [
              "<div>\n",
              "<style scoped>\n",
              "    .dataframe tbody tr th:only-of-type {\n",
              "        vertical-align: middle;\n",
              "    }\n",
              "\n",
              "    .dataframe tbody tr th {\n",
              "        vertical-align: top;\n",
              "    }\n",
              "\n",
              "    .dataframe thead th {\n",
              "        text-align: right;\n",
              "    }\n",
              "</style>\n",
              "<table border=\"1\" class=\"dataframe\">\n",
              "  <thead>\n",
              "    <tr style=\"text-align: right;\">\n",
              "      <th></th>\n",
              "      <th>Year_of_Release</th>\n",
              "      <th>NA_sales</th>\n",
              "      <th>EU_sales</th>\n",
              "      <th>JP_sales</th>\n",
              "      <th>Other_sales</th>\n",
              "      <th>Critic_Score</th>\n",
              "    </tr>\n",
              "  </thead>\n",
              "  <tbody>\n",
              "    <tr>\n",
              "      <td>count</td>\n",
              "      <td>16446.000000</td>\n",
              "      <td>16715.000000</td>\n",
              "      <td>16715.000000</td>\n",
              "      <td>16715.000000</td>\n",
              "      <td>16715.000000</td>\n",
              "      <td>8137.000000</td>\n",
              "    </tr>\n",
              "    <tr>\n",
              "      <td>mean</td>\n",
              "      <td>2006.484616</td>\n",
              "      <td>0.263377</td>\n",
              "      <td>0.145060</td>\n",
              "      <td>0.077617</td>\n",
              "      <td>0.047342</td>\n",
              "      <td>68.967679</td>\n",
              "    </tr>\n",
              "    <tr>\n",
              "      <td>std</td>\n",
              "      <td>5.877050</td>\n",
              "      <td>0.813604</td>\n",
              "      <td>0.503339</td>\n",
              "      <td>0.308853</td>\n",
              "      <td>0.186731</td>\n",
              "      <td>13.938165</td>\n",
              "    </tr>\n",
              "    <tr>\n",
              "      <td>min</td>\n",
              "      <td>1980.000000</td>\n",
              "      <td>0.000000</td>\n",
              "      <td>0.000000</td>\n",
              "      <td>0.000000</td>\n",
              "      <td>0.000000</td>\n",
              "      <td>13.000000</td>\n",
              "    </tr>\n",
              "    <tr>\n",
              "      <td>25%</td>\n",
              "      <td>2003.000000</td>\n",
              "      <td>0.000000</td>\n",
              "      <td>0.000000</td>\n",
              "      <td>0.000000</td>\n",
              "      <td>0.000000</td>\n",
              "      <td>60.000000</td>\n",
              "    </tr>\n",
              "    <tr>\n",
              "      <td>50%</td>\n",
              "      <td>2007.000000</td>\n",
              "      <td>0.080000</td>\n",
              "      <td>0.020000</td>\n",
              "      <td>0.000000</td>\n",
              "      <td>0.010000</td>\n",
              "      <td>71.000000</td>\n",
              "    </tr>\n",
              "    <tr>\n",
              "      <td>75%</td>\n",
              "      <td>2010.000000</td>\n",
              "      <td>0.240000</td>\n",
              "      <td>0.110000</td>\n",
              "      <td>0.040000</td>\n",
              "      <td>0.030000</td>\n",
              "      <td>79.000000</td>\n",
              "    </tr>\n",
              "    <tr>\n",
              "      <td>max</td>\n",
              "      <td>2016.000000</td>\n",
              "      <td>41.360000</td>\n",
              "      <td>28.960000</td>\n",
              "      <td>10.220000</td>\n",
              "      <td>10.570000</td>\n",
              "      <td>98.000000</td>\n",
              "    </tr>\n",
              "  </tbody>\n",
              "</table>\n",
              "</div>"
            ],
            "text/plain": [
              "       Year_of_Release      NA_sales      EU_sales      JP_sales  \\\n",
              "count     16446.000000  16715.000000  16715.000000  16715.000000   \n",
              "mean       2006.484616      0.263377      0.145060      0.077617   \n",
              "std           5.877050      0.813604      0.503339      0.308853   \n",
              "min        1980.000000      0.000000      0.000000      0.000000   \n",
              "25%        2003.000000      0.000000      0.000000      0.000000   \n",
              "50%        2007.000000      0.080000      0.020000      0.000000   \n",
              "75%        2010.000000      0.240000      0.110000      0.040000   \n",
              "max        2016.000000     41.360000     28.960000     10.220000   \n",
              "\n",
              "        Other_sales  Critic_Score  \n",
              "count  16715.000000   8137.000000  \n",
              "mean       0.047342     68.967679  \n",
              "std        0.186731     13.938165  \n",
              "min        0.000000     13.000000  \n",
              "25%        0.000000     60.000000  \n",
              "50%        0.010000     71.000000  \n",
              "75%        0.030000     79.000000  \n",
              "max       10.570000     98.000000  "
            ]
          },
          "execution_count": 7,
          "metadata": {},
          "output_type": "execute_result"
        }
      ],
      "source": [
        "df.describe()"
      ]
    },
    {
      "cell_type": "code",
      "execution_count": null,
      "metadata": {
        "id": "iNZ5fFXtztnx",
        "outputId": "b192bdaa-81e0-4109-cbd6-dd7978cb4ea4"
      },
      "outputs": [
        {
          "data": {
            "text/html": [
              "<div>\n",
              "<style scoped>\n",
              "    .dataframe tbody tr th:only-of-type {\n",
              "        vertical-align: middle;\n",
              "    }\n",
              "\n",
              "    .dataframe tbody tr th {\n",
              "        vertical-align: top;\n",
              "    }\n",
              "\n",
              "    .dataframe thead th {\n",
              "        text-align: right;\n",
              "    }\n",
              "</style>\n",
              "<table border=\"1\" class=\"dataframe\">\n",
              "  <thead>\n",
              "    <tr style=\"text-align: right;\">\n",
              "      <th></th>\n",
              "      <th>Name</th>\n",
              "      <th>Platform</th>\n",
              "      <th>Year_of_Release</th>\n",
              "      <th>Genre</th>\n",
              "      <th>NA_sales</th>\n",
              "      <th>EU_sales</th>\n",
              "      <th>JP_sales</th>\n",
              "      <th>Other_sales</th>\n",
              "      <th>Critic_Score</th>\n",
              "      <th>User_Score</th>\n",
              "      <th>Rating</th>\n",
              "    </tr>\n",
              "  </thead>\n",
              "  <tbody>\n",
              "    <tr>\n",
              "      <td>5556</td>\n",
              "      <td>SWAT: Global Strike Team</td>\n",
              "      <td>PS2</td>\n",
              "      <td>2003.0</td>\n",
              "      <td>Shooter</td>\n",
              "      <td>0.16</td>\n",
              "      <td>0.12</td>\n",
              "      <td>0.00</td>\n",
              "      <td>0.04</td>\n",
              "      <td>69.0</td>\n",
              "      <td>7.8</td>\n",
              "      <td>M</td>\n",
              "    </tr>\n",
              "    <tr>\n",
              "      <td>11755</td>\n",
              "      <td>Nicola Kanshuu: Model Oshare * Audition Platina</td>\n",
              "      <td>3DS</td>\n",
              "      <td>2012.0</td>\n",
              "      <td>Action</td>\n",
              "      <td>0.00</td>\n",
              "      <td>0.00</td>\n",
              "      <td>0.08</td>\n",
              "      <td>0.00</td>\n",
              "      <td>NaN</td>\n",
              "      <td>NaN</td>\n",
              "      <td>NaN</td>\n",
              "    </tr>\n",
              "    <tr>\n",
              "      <td>6125</td>\n",
              "      <td>Fable: The Journey</td>\n",
              "      <td>X360</td>\n",
              "      <td>2012.0</td>\n",
              "      <td>Role-Playing</td>\n",
              "      <td>0.18</td>\n",
              "      <td>0.08</td>\n",
              "      <td>0.00</td>\n",
              "      <td>0.02</td>\n",
              "      <td>61.0</td>\n",
              "      <td>4.8</td>\n",
              "      <td>T</td>\n",
              "    </tr>\n",
              "    <tr>\n",
              "      <td>7683</td>\n",
              "      <td>The Fairly Odd Parents: Enter the Cleft</td>\n",
              "      <td>GBA</td>\n",
              "      <td>2002.0</td>\n",
              "      <td>Platform</td>\n",
              "      <td>0.14</td>\n",
              "      <td>0.05</td>\n",
              "      <td>0.00</td>\n",
              "      <td>0.00</td>\n",
              "      <td>NaN</td>\n",
              "      <td>NaN</td>\n",
              "      <td>NaN</td>\n",
              "    </tr>\n",
              "    <tr>\n",
              "      <td>14246</td>\n",
              "      <td>Mashiro Iro Symphony: *mutsu-no-hana</td>\n",
              "      <td>PSP</td>\n",
              "      <td>2011.0</td>\n",
              "      <td>Adventure</td>\n",
              "      <td>0.00</td>\n",
              "      <td>0.00</td>\n",
              "      <td>0.03</td>\n",
              "      <td>0.00</td>\n",
              "      <td>NaN</td>\n",
              "      <td>NaN</td>\n",
              "      <td>NaN</td>\n",
              "    </tr>\n",
              "  </tbody>\n",
              "</table>\n",
              "</div>"
            ],
            "text/plain": [
              "                                                  Name Platform  \\\n",
              "5556                          SWAT: Global Strike Team      PS2   \n",
              "11755  Nicola Kanshuu: Model Oshare * Audition Platina      3DS   \n",
              "6125                                Fable: The Journey     X360   \n",
              "7683           The Fairly Odd Parents: Enter the Cleft      GBA   \n",
              "14246             Mashiro Iro Symphony: *mutsu-no-hana      PSP   \n",
              "\n",
              "       Year_of_Release         Genre  NA_sales  EU_sales  JP_sales  \\\n",
              "5556            2003.0       Shooter      0.16      0.12      0.00   \n",
              "11755           2012.0        Action      0.00      0.00      0.08   \n",
              "6125            2012.0  Role-Playing      0.18      0.08      0.00   \n",
              "7683            2002.0      Platform      0.14      0.05      0.00   \n",
              "14246           2011.0     Adventure      0.00      0.00      0.03   \n",
              "\n",
              "       Other_sales  Critic_Score User_Score Rating  \n",
              "5556          0.04          69.0        7.8      M  \n",
              "11755         0.00           NaN        NaN    NaN  \n",
              "6125          0.02          61.0        4.8      T  \n",
              "7683          0.00           NaN        NaN    NaN  \n",
              "14246         0.00           NaN        NaN    NaN  "
            ]
          },
          "execution_count": 8,
          "metadata": {},
          "output_type": "execute_result"
        }
      ],
      "source": [
        "df.sample(5)"
      ]
    },
    {
      "cell_type": "markdown",
      "metadata": {
        "id": "pT-LhtZ_ztny"
      },
      "source": [
        "1. в базе 11 столбцов, 16715 записей\\\n",
        "\n",
        "2. пропуски в 6 столбцах, от 2 до 8578 строк\\\n",
        "основные пропуски (40-51%) оценках критиков, пользователей и рейтинге\\\n",
        "Name                  2\\\n",
        "Year_of_Release     269\\\n",
        "Genre                 2\\\n",
        "Critic_Score       8578\\\n",
        "User_Score         6701\\\n",
        "Rating             6766\n",
        "\n",
        "\n",
        "3. дубликатов пока нет\n",
        "\n",
        "4. Данные по играм начиная с 1980г по 2016г, но тоже есть пропуски - 269 строк\\\n",
        "Свыше 50% записей с нулевыми продажами в Японии, и свыше 25% - в Северной Америке и Европе и других странах.\n",
        "Максимум продаж по каждому рынку сильно отличается от 3 квартиля (41 vs 0,24 для Северной Америки, и т.п.) - похоже на выбросы, которые нужно исследовать.\n",
        "\n",
        "5. Оценки критиков лежат в диапазоне 60-79, минимум =13, 100 баллов никто не поставил, мах=98.\n",
        "\n",
        "6. Нужно изменить тип данных: User_Score - заменить object на float64\n"
      ]
    },
    {
      "cell_type": "markdown",
      "metadata": {
        "id": "cXiK9scUztn0"
      },
      "source": [
        "## Предобработка данных\n",
        "Замените названия столбцов (приведите к нижнему регистру);\n",
        "Преобразуйте данные в нужные типы. Опишите, в каких столбцах заменили тип данных и почему;\n",
        "Обработайте пропуски при необходимости:\n",
        "Объясните, почему заполнили пропуски определённым образом или почему не стали это делать;\n",
        "Опишите причины, которые могли привести к пропускам;\n",
        "Обратите внимание на аббревиатуру 'tbd' в столбце с оценкой пользователей. Отдельно разберите это значение и опишите, как его обработать;\n",
        "Посчитайте суммарные продажи во всех регионах и запишите их в отдельный столбец."
      ]
    },
    {
      "cell_type": "markdown",
      "metadata": {
        "id": "7oCjC-ivztn1"
      },
      "source": [
        "**названия столбцов**"
      ]
    },
    {
      "cell_type": "code",
      "execution_count": null,
      "metadata": {
        "id": "3LK51rXnztn2",
        "outputId": "712c32f1-6fbf-4a32-d730-9dbec695bd0b"
      },
      "outputs": [
        {
          "data": {
            "text/html": [
              "<div>\n",
              "<style scoped>\n",
              "    .dataframe tbody tr th:only-of-type {\n",
              "        vertical-align: middle;\n",
              "    }\n",
              "\n",
              "    .dataframe tbody tr th {\n",
              "        vertical-align: top;\n",
              "    }\n",
              "\n",
              "    .dataframe thead th {\n",
              "        text-align: right;\n",
              "    }\n",
              "</style>\n",
              "<table border=\"1\" class=\"dataframe\">\n",
              "  <thead>\n",
              "    <tr style=\"text-align: right;\">\n",
              "      <th></th>\n",
              "      <th>name</th>\n",
              "      <th>platform</th>\n",
              "      <th>year_of_release</th>\n",
              "      <th>genre</th>\n",
              "      <th>na_sales</th>\n",
              "      <th>eu_sales</th>\n",
              "      <th>jp_sales</th>\n",
              "      <th>other_sales</th>\n",
              "      <th>critic_score</th>\n",
              "      <th>user_score</th>\n",
              "      <th>rating</th>\n",
              "    </tr>\n",
              "  </thead>\n",
              "  <tbody>\n",
              "    <tr>\n",
              "      <td>1539</td>\n",
              "      <td>Yakuman</td>\n",
              "      <td>GB</td>\n",
              "      <td>1989.0</td>\n",
              "      <td>Misc</td>\n",
              "      <td>0.0</td>\n",
              "      <td>0.0</td>\n",
              "      <td>1.28</td>\n",
              "      <td>0.0</td>\n",
              "      <td>NaN</td>\n",
              "      <td>NaN</td>\n",
              "      <td>NaN</td>\n",
              "    </tr>\n",
              "  </tbody>\n",
              "</table>\n",
              "</div>"
            ],
            "text/plain": [
              "         name platform  year_of_release genre  na_sales  eu_sales  jp_sales  \\\n",
              "1539  Yakuman       GB           1989.0  Misc       0.0       0.0      1.28   \n",
              "\n",
              "      other_sales  critic_score user_score rating  \n",
              "1539          0.0           NaN        NaN    NaN  "
            ]
          },
          "execution_count": 9,
          "metadata": {},
          "output_type": "execute_result"
        }
      ],
      "source": [
        "df.columns = df.columns.str.lower()  \n",
        "df.sample()"
      ]
    },
    {
      "cell_type": "markdown",
      "metadata": {
        "id": "HfY5wF0dztn3"
      },
      "source": [
        "**строковое значение tbd** помешает изменить тип данных в столбце с оценками пользователей.\\\n",
        "tbd = to be determined = оценки нет, т.е. нужно поставить пропуск.\n",
        "tbd это строка, а пропуск - это float.  \n",
        "Пока в столбце есть строки, нельзя работать с ним как с числовым (например, посчитать его корреляцию с другими параметрами)."
      ]
    },
    {
      "cell_type": "code",
      "execution_count": null,
      "metadata": {
        "id": "FbibNjBUztn4",
        "outputId": "596eaab4-1c7b-45f8-87be-cb71bda30cfa"
      },
      "outputs": [
        {
          "data": {
            "text/plain": [
              "array(['8', nan, '8.3', '8.5', '6.6', '8.4', '8.6', '7.7', '6.3', '7.4',\n",
              "       '8.2', '9', '7.9', '8.1', '8.7', '7.1', '3.4', '5.3', '4.8', '3.2',\n",
              "       '8.9', '6.4', '7.8', '7.5', '2.6', '7.2', '9.2', '7', '7.3', '4.3',\n",
              "       '7.6', '5.7', '5', '9.1', '6.5', '8.8', '6.9', '9.4', '6.8', '6.1',\n",
              "       '6.7', '5.4', '4', '4.9', '4.5', '9.3', '6.2', '4.2', '6', '3.7',\n",
              "       '4.1', '5.8', '5.6', '5.5', '4.4', '4.6', '5.9', '3.9', '3.1',\n",
              "       '2.9', '5.2', '3.3', '4.7', '5.1', '3.5', '2.5', '1.9', '3', '2.7',\n",
              "       '2.2', '2', '9.5', '2.1', '3.6', '2.8', '1.8', '3.8', '0', '1.6',\n",
              "       '9.6', '2.4', '1.7', '1.1', '0.3', '1.5', '0.7', '1.2', '2.3',\n",
              "       '0.5', '1.3', '0.2', '0.6', '1.4', '0.9', '1', '9.7'], dtype=object)"
            ]
          },
          "execution_count": 10,
          "metadata": {},
          "output_type": "execute_result"
        }
      ],
      "source": [
        "df.loc[df['user_score'] == 'tbd', 'user_score'] = float('nan')\n",
        "df['user_score'].unique()"
      ]
    },
    {
      "cell_type": "markdown",
      "metadata": {
        "id": "Cua4xMJLztn5"
      },
      "source": [
        "**замена типов данных**"
      ]
    },
    {
      "cell_type": "code",
      "execution_count": null,
      "metadata": {
        "id": "INZNcvCmztn6"
      },
      "outputs": [],
      "source": [
        "df['user_score'] = df['user_score'].astype('float64')"
      ]
    },
    {
      "cell_type": "markdown",
      "metadata": {
        "id": "g2i7ZmdTztn7"
      },
      "source": [
        "**пропуски в названии и жанре** - это всего 2 строки, их можно удалить из таблицы"
      ]
    },
    {
      "cell_type": "code",
      "execution_count": null,
      "metadata": {
        "id": "TGEtCvxBztn7",
        "outputId": "04bb154c-053d-4b65-94f3-8cf9bbe84bab"
      },
      "outputs": [
        {
          "name": "stdout",
          "output_type": "stream",
          "text": [
            "      name platform  year_of_release genre  na_sales  eu_sales  jp_sales  \\\n",
            "659    NaN      GEN           1993.0   NaN      1.78      0.53      0.00   \n",
            "14244  NaN      GEN           1993.0   NaN      0.00      0.00      0.03   \n",
            "\n",
            "       other_sales  critic_score  user_score rating  \n",
            "659           0.08           NaN         NaN    NaN  \n",
            "14244         0.00           NaN         NaN    NaN  \n"
          ]
        },
        {
          "data": {
            "text/plain": [
              "name                  0\n",
              "platform              0\n",
              "year_of_release     269\n",
              "genre                 0\n",
              "na_sales              0\n",
              "eu_sales              0\n",
              "jp_sales              0\n",
              "other_sales           0\n",
              "critic_score       8576\n",
              "user_score         9123\n",
              "rating             6764\n",
              "dtype: int64"
            ]
          },
          "execution_count": 12,
          "metadata": {},
          "output_type": "execute_result"
        }
      ],
      "source": [
        "print(df.loc[(df['name'].isna()) | (df['genre'].isna())])\n",
        "df = df.loc[~((df['name'].isna()) | (df['genre'].isna()))] \n",
        "df.isna().sum()"
      ]
    },
    {
      "cell_type": "markdown",
      "metadata": {
        "id": "pIud6bfSztn8"
      },
      "source": [
        "**пропуски в столбце год выпуска**\n",
        "- 269 строк или 1,6% от общего числа записей, также можно удалить из таблицы\n",
        "- или можно заменить на 0, чтобы было проще работать с данными, т.к. эти записи могут изменить статистику внутри какого-нибудь \n",
        "специфического сегмента\\периода. Список 269 - относительно небольшой, можно отдать его на перепроверку."
      ]
    },
    {
      "cell_type": "code",
      "execution_count": null,
      "metadata": {
        "id": "1keYrSoyztn9",
        "outputId": "a5061f53-397d-4753-dffe-08f82a2bf9ee"
      },
      "outputs": [
        {
          "data": {
            "text/html": [
              "<div>\n",
              "<style scoped>\n",
              "    .dataframe tbody tr th:only-of-type {\n",
              "        vertical-align: middle;\n",
              "    }\n",
              "\n",
              "    .dataframe tbody tr th {\n",
              "        vertical-align: top;\n",
              "    }\n",
              "\n",
              "    .dataframe thead th {\n",
              "        text-align: right;\n",
              "    }\n",
              "</style>\n",
              "<table border=\"1\" class=\"dataframe\">\n",
              "  <thead>\n",
              "    <tr style=\"text-align: right;\">\n",
              "      <th></th>\n",
              "      <th>year_of_release</th>\n",
              "      <th>na_sales</th>\n",
              "      <th>eu_sales</th>\n",
              "      <th>jp_sales</th>\n",
              "      <th>other_sales</th>\n",
              "      <th>critic_score</th>\n",
              "      <th>user_score</th>\n",
              "    </tr>\n",
              "  </thead>\n",
              "  <tbody>\n",
              "    <tr>\n",
              "      <td>count</td>\n",
              "      <td>0.0</td>\n",
              "      <td>269.000000</td>\n",
              "      <td>269.000000</td>\n",
              "      <td>269.000000</td>\n",
              "      <td>269.000000</td>\n",
              "      <td>154.000000</td>\n",
              "      <td>127.000000</td>\n",
              "    </tr>\n",
              "    <tr>\n",
              "      <td>mean</td>\n",
              "      <td>NaN</td>\n",
              "      <td>0.219888</td>\n",
              "      <td>0.090929</td>\n",
              "      <td>0.024907</td>\n",
              "      <td>0.032007</td>\n",
              "      <td>67.584416</td>\n",
              "      <td>7.049606</td>\n",
              "    </tr>\n",
              "    <tr>\n",
              "      <td>std</td>\n",
              "      <td>NaN</td>\n",
              "      <td>0.424907</td>\n",
              "      <td>0.207933</td>\n",
              "      <td>0.090160</td>\n",
              "      <td>0.075546</td>\n",
              "      <td>14.828740</td>\n",
              "      <td>1.536688</td>\n",
              "    </tr>\n",
              "    <tr>\n",
              "      <td>min</td>\n",
              "      <td>NaN</td>\n",
              "      <td>0.000000</td>\n",
              "      <td>0.000000</td>\n",
              "      <td>0.000000</td>\n",
              "      <td>0.000000</td>\n",
              "      <td>22.000000</td>\n",
              "      <td>1.800000</td>\n",
              "    </tr>\n",
              "    <tr>\n",
              "      <td>25%</td>\n",
              "      <td>NaN</td>\n",
              "      <td>0.010000</td>\n",
              "      <td>0.000000</td>\n",
              "      <td>0.000000</td>\n",
              "      <td>0.000000</td>\n",
              "      <td>57.000000</td>\n",
              "      <td>6.400000</td>\n",
              "    </tr>\n",
              "    <tr>\n",
              "      <td>50%</td>\n",
              "      <td>NaN</td>\n",
              "      <td>0.090000</td>\n",
              "      <td>0.020000</td>\n",
              "      <td>0.000000</td>\n",
              "      <td>0.010000</td>\n",
              "      <td>70.000000</td>\n",
              "      <td>7.400000</td>\n",
              "    </tr>\n",
              "    <tr>\n",
              "      <td>75%</td>\n",
              "      <td>NaN</td>\n",
              "      <td>0.240000</td>\n",
              "      <td>0.100000</td>\n",
              "      <td>0.000000</td>\n",
              "      <td>0.030000</td>\n",
              "      <td>78.000000</td>\n",
              "      <td>8.150000</td>\n",
              "    </tr>\n",
              "    <tr>\n",
              "      <td>max</td>\n",
              "      <td>NaN</td>\n",
              "      <td>4.260000</td>\n",
              "      <td>2.360000</td>\n",
              "      <td>0.770000</td>\n",
              "      <td>0.710000</td>\n",
              "      <td>94.000000</td>\n",
              "      <td>9.500000</td>\n",
              "    </tr>\n",
              "  </tbody>\n",
              "</table>\n",
              "</div>"
            ],
            "text/plain": [
              "       year_of_release    na_sales    eu_sales    jp_sales  other_sales  \\\n",
              "count              0.0  269.000000  269.000000  269.000000   269.000000   \n",
              "mean               NaN    0.219888    0.090929    0.024907     0.032007   \n",
              "std                NaN    0.424907    0.207933    0.090160     0.075546   \n",
              "min                NaN    0.000000    0.000000    0.000000     0.000000   \n",
              "25%                NaN    0.010000    0.000000    0.000000     0.000000   \n",
              "50%                NaN    0.090000    0.020000    0.000000     0.010000   \n",
              "75%                NaN    0.240000    0.100000    0.000000     0.030000   \n",
              "max                NaN    4.260000    2.360000    0.770000     0.710000   \n",
              "\n",
              "       critic_score  user_score  \n",
              "count    154.000000  127.000000  \n",
              "mean      67.584416    7.049606  \n",
              "std       14.828740    1.536688  \n",
              "min       22.000000    1.800000  \n",
              "25%       57.000000    6.400000  \n",
              "50%       70.000000    7.400000  \n",
              "75%       78.000000    8.150000  \n",
              "max       94.000000    9.500000  "
            ]
          },
          "execution_count": 13,
          "metadata": {},
          "output_type": "execute_result"
        }
      ],
      "source": [
        "df.loc[df['year_of_release'].isna()].describe()"
      ]
    },
    {
      "cell_type": "markdown",
      "metadata": {
        "id": "tfBs5_Hsztn-"
      },
      "source": [
        "Оказалось, что среди этих записей есть игры с высоким рейтингом и продажами - эта информация нас интересует, поэтому пропуски меняю на заглушку \"no_data\", чтобы видеть эту категорию на последующих этапах анализа"
      ]
    },
    {
      "cell_type": "code",
      "execution_count": null,
      "metadata": {
        "id": "D4rNwTIzztn-",
        "outputId": "14f802b8-ad29-4124-e7f0-2f15758a8f12"
      },
      "outputs": [
        {
          "data": {
            "text/plain": [
              "array([2006.0, 1985.0, 2008.0, 2009.0, 1996.0, 1989.0, 1984.0, 2005.0,\n",
              "       1999.0, 2007.0, 2010.0, 2013.0, 2004.0, 1990.0, 1988.0, 2002.0,\n",
              "       2001.0, 2011.0, 1998.0, 2015.0, 2012.0, 2014.0, 1992.0, 1997.0,\n",
              "       1993.0, 1994.0, 1982.0, 2016.0, 2003.0, 1986.0, 2000.0, 'no_data',\n",
              "       1995.0, 1991.0, 1981.0, 1987.0, 1980.0, 1983.0], dtype=object)"
            ]
          },
          "execution_count": 14,
          "metadata": {},
          "output_type": "execute_result"
        }
      ],
      "source": [
        "df['year_of_release'] = df['year_of_release'].fillna('no_data')\n",
        "df['year_of_release'].unique()"
      ]
    },
    {
      "cell_type": "markdown",
      "metadata": {
        "id": "JrYJc4bGztn_"
      },
      "source": [
        "**пропуски в оценках**\n",
        "- пропусков очень много, удалять нельзя\n",
        "- можно заменить на среднее по категории (год выпуска, рейтинг)\n",
        "- можно заменить на 0, как маркер пропуска, но это исказит результаты корреляционного анализа и стат-тестов.\n",
        "\n",
        "вывод - пока оставим пропуски как есть."
      ]
    },
    {
      "cell_type": "markdown",
      "metadata": {
        "id": "MA8WF_Q5ztoA"
      },
      "source": [
        "**пропуски в рейтинге**\n",
        "можно пометить значением-заглушкой, т.к. в в столбце не числовые, а категориальные данные.   \n",
        "пропуск не будет показываться при группировках, а категория no_data будет"
      ]
    },
    {
      "cell_type": "code",
      "execution_count": null,
      "metadata": {
        "id": "82v2bvuFztoA",
        "outputId": "241a367e-5e2f-402d-dbc6-6d0c10be04ae"
      },
      "outputs": [
        {
          "data": {
            "text/plain": [
              "array(['E', 'no_data', 'M', 'T', 'E10+', 'K-A', 'AO', 'EC', 'RP'],\n",
              "      dtype=object)"
            ]
          },
          "execution_count": 15,
          "metadata": {},
          "output_type": "execute_result"
        }
      ],
      "source": [
        "df['rating'] = df['rating'].fillna('no_data')\n",
        "df['rating'].unique()"
      ]
    },
    {
      "cell_type": "markdown",
      "metadata": {
        "id": "VBlCmeLqztoB"
      },
      "source": [
        "**суммарные продажи во всех регионах**"
      ]
    },
    {
      "cell_type": "code",
      "execution_count": null,
      "metadata": {
        "id": "gurycdO_ztoC",
        "outputId": "82f9f136-0aaa-40df-d6db-91a965665cb6"
      },
      "outputs": [
        {
          "data": {
            "text/html": [
              "<div>\n",
              "<style scoped>\n",
              "    .dataframe tbody tr th:only-of-type {\n",
              "        vertical-align: middle;\n",
              "    }\n",
              "\n",
              "    .dataframe tbody tr th {\n",
              "        vertical-align: top;\n",
              "    }\n",
              "\n",
              "    .dataframe thead th {\n",
              "        text-align: right;\n",
              "    }\n",
              "</style>\n",
              "<table border=\"1\" class=\"dataframe\">\n",
              "  <thead>\n",
              "    <tr style=\"text-align: right;\">\n",
              "      <th></th>\n",
              "      <th>name</th>\n",
              "      <th>platform</th>\n",
              "      <th>year_of_release</th>\n",
              "      <th>genre</th>\n",
              "      <th>na_sales</th>\n",
              "      <th>eu_sales</th>\n",
              "      <th>jp_sales</th>\n",
              "      <th>other_sales</th>\n",
              "      <th>critic_score</th>\n",
              "      <th>user_score</th>\n",
              "      <th>rating</th>\n",
              "      <th>sales_total</th>\n",
              "    </tr>\n",
              "  </thead>\n",
              "  <tbody>\n",
              "    <tr>\n",
              "      <td>1364</td>\n",
              "      <td>Medal of Honor: Warfighter</td>\n",
              "      <td>PS3</td>\n",
              "      <td>2012</td>\n",
              "      <td>Action</td>\n",
              "      <td>0.48</td>\n",
              "      <td>0.62</td>\n",
              "      <td>0.06</td>\n",
              "      <td>0.26</td>\n",
              "      <td>55.0</td>\n",
              "      <td>6.0</td>\n",
              "      <td>M</td>\n",
              "      <td>1.42</td>\n",
              "    </tr>\n",
              "  </tbody>\n",
              "</table>\n",
              "</div>"
            ],
            "text/plain": [
              "                            name platform year_of_release   genre  na_sales  \\\n",
              "1364  Medal of Honor: Warfighter      PS3            2012  Action      0.48   \n",
              "\n",
              "      eu_sales  jp_sales  other_sales  critic_score  user_score rating  \\\n",
              "1364      0.62      0.06         0.26          55.0         6.0      M   \n",
              "\n",
              "      sales_total  \n",
              "1364         1.42  "
            ]
          },
          "execution_count": 16,
          "metadata": {},
          "output_type": "execute_result"
        }
      ],
      "source": [
        "df['sales_total'] = df['na_sales'] + df['eu_sales'] + df['jp_sales'] + df['other_sales']\n",
        "df.sample()"
      ]
    },
    {
      "cell_type": "markdown",
      "metadata": {
        "id": "8BV4FVnrztoD"
      },
      "source": [
        "<div class=\"alert alert-info\">\n",
        "На этапе предобработки данных были обработаны пропуски с данных, заменен тип данных и добавлен суммирующий столбец:\n",
        "    \n",
        "1. названия столбцов были приведены к нижнему регистру\n",
        "2. в столбце user_score (оценка пользователя) произведена замена \"tbd\" на пропуск, \n",
        "для корректной работы с этим столбцов на следующих этапах анализа. \n",
        "Также заменен тип данных на float.\n",
        "3. пропуски в названии (name) и жанре (genre) - это всего 2 строки, удалены из таблицы\n",
        "4. пропуски в столбцах год выпуска (year_of_release) и рейтин (rating) заменены на заглушку \"no_data\", чтобы видеть эту категорию на последующих этапах анализа\n",
        "6. добавлен столбец sales_total с суммарными продажами во всех регионах\n",
        "\n",
        "\n",
        "</div>"
      ]
    },
    {
      "cell_type": "markdown",
      "metadata": {
        "id": "UsOiMuXAztoE"
      },
      "source": [
        "## Исследовательский анализ данных"
      ]
    },
    {
      "cell_type": "markdown",
      "metadata": {
        "id": "pE-pi2mfztoF"
      },
      "source": [
        "<div class=\"alert alert-info\">\n",
        "    \n",
        "- сколько игр выпускалось в разные годы\n",
        "- как менялись продажи по платформам\n",
        "- платформы с наибольшими суммарными продажами, распределение по годам. За какой характерный срок появляются новые и исчезают старые платформы?\n",
        "- определить актуальный период, эти данные помогут построить прогноз на 2017 год\n",
        "- какие платформы лидируют по продажам, растут или падают? \n",
        "- выбрать несколько потенциально прибыльных платформ.\n",
        "- график «ящик с усами» по глобальным продажам игр в разбивке по платформам. Описать результат.\n",
        "- как влияют на продажи внутри одной популярной платформы отзывы пользователей и критиков. \n",
        "- Построить диаграмму рассеяния и посчитать корреляцию между отзывами и продажами. Сформулировать выводы.\n",
        "- Соотнести выводы с продажами игр на других платформах.\n",
        "- Посмотреть на общее распределение игр по жанрам. Что можно сказать о самых прибыльных жанрах? Выделяются ли жанры с высокими и низкими продажами?\n",
        "    \n",
        "</div>"
      ]
    },
    {
      "cell_type": "markdown",
      "metadata": {
        "id": "AIf90OLNztoG"
      },
      "source": [
        "#### сколько игр выпускалось в разные годы\n",
        "Важны ли данные за все периоды?"
      ]
    },
    {
      "cell_type": "code",
      "execution_count": null,
      "metadata": {
        "id": "jHagPcc5ztoG",
        "outputId": "4b9e340e-1f46-4976-99e2-a78b488324c8"
      },
      "outputs": [
        {
          "data": {
            "image/png": "[encoded data removed]",
            "text/plain": [
              "<Figure size 1440x360 with 1 Axes>"
            ]
          },
          "metadata": {
            "needs_background": "light"
          },
          "output_type": "display_data"
        }
      ],
      "source": [
        "#plt.style.use('ggplot')\n",
        "df.pivot_table(index = 'year_of_release', values ='name', aggfunc='count').plot(figsize = (20,5));\n",
        "plt.title(\"количество выпущенных игр по годам\")\n",
        "plt.show()\n"
      ]
    },
    {
      "cell_type": "code",
      "execution_count": null,
      "metadata": {
        "id": "16XHY6gdztoI"
      },
      "outputs": [],
      "source": [
        "#df.pivot_table(index = 'year_of_release', values ='name', aggfunc='count')"
      ]
    },
    {
      "cell_type": "code",
      "execution_count": null,
      "metadata": {
        "id": "LV-R6MRRztoI"
      },
      "outputs": [],
      "source": [
        "#после 2016 года на графике указана количество игр с пропуском года \"no_data\"\n",
        "#df.pivot_table(index = 'year_of_release', values ='name', aggfunc='count')"
      ]
    },
    {
      "cell_type": "code",
      "execution_count": null,
      "metadata": {
        "id": "j0IrwuXIztoJ",
        "outputId": "36ef7058-a3f3-4e62-f56f-07cc609257bf"
      },
      "outputs": [
        {
          "data": {
            "text/plain": [
              "count      38.00\n",
              "mean      439.82\n",
              "std       446.37\n",
              "min         9.00\n",
              "25%        37.25\n",
              "50%       313.50\n",
              "75%       734.75\n",
              "max      1427.00\n",
              "Name: name, dtype: float64"
            ]
          },
          "execution_count": 20,
          "metadata": {},
          "output_type": "execute_result"
        }
      ],
      "source": [
        "df.groupby('year_of_release')['name'].count().describe().round(2)"
      ]
    },
    {
      "cell_type": "markdown",
      "metadata": {
        "id": "luHQkdYTztoJ"
      },
      "source": [
        "имеют значение года с количеством игр от 37( Q1)  \n",
        "по графику видно, что для анализа можно брать данные за последние 15-20 лет, т.е. с 1996-2000 годов."
      ]
    },
    {
      "cell_type": "markdown",
      "metadata": {
        "id": "ChtHMroAztoK"
      },
      "source": [
        "#### как менялись продажи по платформам\n",
        "какие платформы с наибольшими суммарными продажами, построить распределение по годам. За какой характерный срок появляются новые и исчезают старые платформы?"
      ]
    },
    {
      "cell_type": "code",
      "execution_count": null,
      "metadata": {
        "id": "n3tHkKBwztoK"
      },
      "outputs": [],
      "source": [
        "# образец для создания функции по расчету топ позиций\n",
        "\n",
        "#top_10 = (df.groupby('platform')\n",
        "#                    .agg({'sales_total': 'sum'})\n",
        "#                    .sort_values(by = 'sales_total')\n",
        "#                    .tail(10)\n",
        "#                    .index)\n",
        "#print(top_10)"
      ]
    },
    {
      "cell_type": "markdown",
      "metadata": {
        "id": "k9NEfav3ztoL"
      },
      "source": [
        "##### функция по созданию топ позиций, на входе:\n",
        "\n",
        "- длина ретинга, \n",
        "- таблица, \n",
        "- колонка для рейтинга (платформы, игры, года и т.д.), \n",
        "- колонка с продажами (Северная Америка, Европа, Япония, другие страны, тотал)"
      ]
    },
    {
      "cell_type": "code",
      "execution_count": null,
      "metadata": {
        "id": "PW5c0IyjztoL"
      },
      "outputs": [],
      "source": [
        "def top_items_sales(number, database, col_rating, col_market):\n",
        "    return (database.groupby(col_rating)\n",
        "                    .agg({col_market: 'sum'})\n",
        "                    .sort_values(by = col_market)\n",
        "                    .tail(number)\n",
        "                    .index)\n"
      ]
    },
    {
      "cell_type": "code",
      "execution_count": null,
      "metadata": {
        "id": "H9ZOsPFFztoM",
        "outputId": "265c6351-d691-4aa7-b12b-dc32771b3f21"
      },
      "outputs": [
        {
          "data": {
            "text/plain": [
              "Index(['PC', 'PSP', 'PS4', 'GBA', 'PS', 'DS', 'Wii', 'PS3', 'X360', 'PS2'], dtype='object', name='platform')"
            ]
          },
          "execution_count": 23,
          "metadata": {},
          "output_type": "execute_result"
        }
      ],
      "source": [
        "# определим список из топ 10 платформ по суммарным продажам за год\n",
        "top_10 = top_items_sales(10, df, 'platform', 'sales_total')\n",
        "top_10"
      ]
    },
    {
      "cell_type": "markdown",
      "metadata": {
        "id": "m526iSSMztoM"
      },
      "source": [
        "##### функция по созданию графика продаж, на входе:\n",
        "\n",
        "- таблица или срез данных\n",
        "- данные для оси Х, \n",
        "- данные для оси Y, \n",
        "- легенда (линии = платформы и т.п.), \n",
        "- способ расчета (сумма или количество, и т.п.)"
      ]
    },
    {
      "cell_type": "code",
      "execution_count": null,
      "metadata": {
        "id": "VSKFdpsPztoN"
      },
      "outputs": [],
      "source": [
        "# образец для создания функции\n",
        "\n",
        "#top_10_platforms = df.query('platform in @top_10')\n",
        "#top_10_platforms.pivot_table(index = 'year_of_release', \n",
        "#                             columns = 'platform', \n",
        "#                             values = 'sales_total', \n",
        "#                             aggfunc = 'sum').plot(figsize = (20,5));\n",
        "#plt.title(\"Продажи топ 10 игровых платформ по годам\")\n",
        "#plt.ylabel('Продажи млн копий')\n",
        "#plt.xlabel('Год выпуска')"
      ]
    },
    {
      "cell_type": "code",
      "execution_count": null,
      "metadata": {
        "id": "QHO4PBJyztoN"
      },
      "outputs": [],
      "source": [
        "def pivot_to_plot(database, x_col, y_col, legend, agg):\n",
        "    plot = database.pivot_table(index = x_col, columns = y_col, values = legend, aggfunc = agg).plot(figsize = (20,5));\n",
        "    plt.ylabel('Продажи млн копий')\n",
        "    plt.xlabel('Год выпуска')\n",
        "    return plot"
      ]
    },
    {
      "cell_type": "code",
      "execution_count": null,
      "metadata": {
        "id": "BIjrnBFUztoO",
        "outputId": "105524a3-94eb-42af-b38e-18724b64364c"
      },
      "outputs": [
        {
          "data": {
            "image/png": "[encoded data removed]",
            "text/plain": [
              "<Figure size 1440x360 with 1 Axes>"
            ]
          },
          "metadata": {
            "needs_background": "light"
          },
          "output_type": "display_data"
        }
      ],
      "source": [
        "top_10_platforms = df.query('platform in @top_10')\n",
        "pivot_to_plot(top_10_platforms, 'year_of_release', 'platform', 'sales_total', 'sum')\n",
        "plt.title(\"Продажи топ 10 игровых платформ по годам\")\n",
        "plt.show()"
      ]
    },
    {
      "cell_type": "code",
      "execution_count": null,
      "metadata": {
        "id": "kyjgs6EDztoP",
        "outputId": "8ce574f1-8c8e-4fb8-946d-193e134626e8"
      },
      "outputs": [
        {
          "data": {
            "text/plain": [
              "year_of_release    9.8\n",
              "dtype: float64"
            ]
          },
          "execution_count": 27,
          "metadata": {},
          "output_type": "execute_result"
        }
      ],
      "source": [
        "sales_level = 5 # значимый порог продаж платформы\n",
        "\n",
        "# суммарные продажи в год выше порога\n",
        "report = top_10_platforms.groupby(['platform', 'year_of_release']).agg({'sales_total': 'sum'}).query('sales_total > @sales_level')\n",
        "\n",
        "# среднее число лет жизни платформы из списка топ 10\n",
        "report.reset_index().groupby('platform').agg({'year_of_release': 'nunique'}).mean()"
      ]
    },
    {
      "cell_type": "code",
      "execution_count": null,
      "metadata": {
        "id": "E45maVvCztoQ",
        "outputId": "6753126d-280c-450a-9b2f-96f9cb18e3ea"
      },
      "outputs": [
        {
          "data": {
            "text/plain": [
              "year_of_release    5.285714\n",
              "dtype: float64"
            ]
          },
          "execution_count": 28,
          "metadata": {},
          "output_type": "execute_result"
        }
      ],
      "source": [
        "# создаем таблицу без топовых платформ\n",
        "df_other_platforms = df.query('platform not in @top_10')\n",
        "\n",
        "# суммарные продажи в год выше порога\n",
        "report = df_other_platforms.groupby(['platform', 'year_of_release']).agg({'sales_total': 'sum'}).query('sales_total > @sales_level')\n",
        "\n",
        "# среднее число лет жизни платформы не из списка топ_10\n",
        "report.reset_index().groupby('platform').agg({'year_of_release': 'nunique'}).mean()"
      ]
    },
    {
      "cell_type": "markdown",
      "metadata": {
        "id": "HP4W6mjtztoR"
      },
      "source": [
        "средний срок жизни топовой платформы почти 10 лет, а остальных почти в 2 раза меньше - около 5 лет на рынке  \n",
        "порог значимости - 5 млн проданных копий в год"
      ]
    },
    {
      "cell_type": "markdown",
      "metadata": {
        "id": "kTz7MMTXztoR"
      },
      "source": [
        "#### актуальный период\n",
        "опрделить актуальный период в результате исследования предыдущих вопросов. Основной фактор — эти данные помогут построить прогноз на 2017 год.\n",
        "\n",
        "Не учитывать в работе данные за предыдущие годы."
      ]
    },
    {
      "cell_type": "markdown",
      "metadata": {
        "id": "1aIi0BzaztoS"
      },
      "source": [
        "на основе предыдущего пункта за актуальный период можно взять 5-10 лет.  \n",
        "Я выбираю максимум - 10 лет."
      ]
    },
    {
      "cell_type": "markdown",
      "metadata": {
        "id": "WElR2Vrnztoa"
      },
      "source": [
        "<div class=\"alert alert-info\">\n",
        "\n",
        "10 лет может показаться слишком большим сроком для такой динамично развивающейся индустрии, но и 2 года может быть недостаточным для человека, мало знакомого с рынком компьютерных игр. Этот срок подойдет более опытному аналитику, который может сфокусироваться на поиске и анализе микротрендов держа в уме всю историю развития компьютерных игр.\n",
        " \n",
        "10 летний период помогает увидеть пик продаж компьютерных игр и проанализировать падение с 2008 года. Мода циклична, и такой период анализа может выявить мега-звезды прошлых лет, которые в новом формате будут востребованы у повзрослевшей публики. \n",
        "    \n",
        "Если учесть общий тренд на снижение объемов продаж, необходимо увидеть немного предыстории в анализе. Иначе есть риск сделать неверный выбор или принять неадекватное решение основываясь на недостаточном количестве данных.   \n",
        "</div>"
      ]
    },
    {
      "cell_type": "markdown",
      "metadata": {
        "id": "gc-Fneasztoa"
      },
      "source": [
        "<div class=\"alert alert-info\">\n",
        "\n",
        "я сохранила предыдущий вариант с актуальным периодом 10 лет, а сейчас изменила расчеты на 3 года.\n",
        "</div>"
      ]
    },
    {
      "cell_type": "code",
      "execution_count": null,
      "metadata": {
        "id": "ZKty_VNVztob",
        "outputId": "b6fd7e4d-495d-4b09-b651-028e11e6cdbd"
      },
      "outputs": [
        {
          "data": {
            "text/plain": [
              "array([2015.0, 2014.0, 2016.0], dtype=object)"
            ]
          },
          "execution_count": 29,
          "metadata": {},
          "output_type": "execute_result"
        }
      ],
      "source": [
        "# создаем таблицу с данными за последние 10 лет и отдельно - 3 года\n",
        "actual_10 = np.arange(2006,2017,1)  # список нужных лет\n",
        "actual = np.arange(2014,2017,1)  # список нужных лет\n",
        "df_actual = df.query('year_of_release in @actual') # срез данных за актуальный период\n",
        "df_actual['year_of_release'].unique() # проверка"
      ]
    },
    {
      "cell_type": "markdown",
      "metadata": {
        "id": "GhB19BQMztob"
      },
      "source": [
        "##### Какие платформы лидируют по продажам, растут или падают? Список потенциально прибыльных платформ."
      ]
    },
    {
      "cell_type": "code",
      "execution_count": null,
      "metadata": {
        "id": "mv4E5MCMztoc",
        "outputId": "bc1a6ce2-2d4a-462f-ad08-79f8983c2d79"
      },
      "outputs": [
        {
          "data": {
            "text/plain": [
              "array(['PS4', '3DS', 'XOne', 'WiiU', 'PS3', 'PC', 'X360', 'PSV', 'Wii'],\n",
              "      dtype=object)"
            ]
          },
          "execution_count": 30,
          "metadata": {},
          "output_type": "execute_result"
        }
      ],
      "source": [
        "# список платформ, которые все еще продаются в текущем году (2016)\n",
        "df_2016 = df_actual.query('year_of_release == [2016.0]') # срез по 2016 году\n",
        "actual_platforms = df_2016['platform'].unique() # список платформ\n",
        "actual_platforms"
      ]
    },
    {
      "cell_type": "code",
      "execution_count": null,
      "metadata": {
        "id": "69hkUqSiztod",
        "outputId": "d41afc77-ce57-4ffc-8ce9-8ba6e8f1c5b1"
      },
      "outputs": [
        {
          "data": {
            "image/png": "[encoded data removed]",
            "text/plain": [
              "<Figure size 1440x360 with 1 Axes>"
            ]
          },
          "metadata": {
            "needs_background": "light"
          },
          "output_type": "display_data"
        }
      ],
      "source": [
        "# динамика продаж этих платформ за актуальный период\n",
        "pivot_to_plot(df_actual, 'year_of_release', 'platform', 'sales_total', 'sum')\n",
        "plt.title(\"Продажи существующих игровых платформ за актуальный период\")\n",
        "plt.show()"
      ]
    },
    {
      "cell_type": "markdown",
      "metadata": {
        "id": "Y7gxCsvNztoe"
      },
      "source": [
        "** Вывод за 10 лет**\n",
        "наблюдается общая тенденция к снижению объема продаж по всем платформам.  \n",
        "в 2011-2013 году появились 5 новых, но и их продажи снижаются после небольшого подъема в 2015г.  \n",
        "- лидеры рынка, был рост продаж в 2015: PS4 + XOne  \n",
        "- не самые удачные запуски 2011-2012: 3DS + PSV + WiiU\n",
        "- вечнозеленый = низкие продажи, но постоянный тренд на протяжении многих лет: РС  \n",
        "- лидеры продаж 2006-2013, но спад продаж в 2016: Wii + X360 +PS3\n",
        "\n",
        "потенциально прибыльные: PS4 + XOne + РС  это лидеры и стабильность"
      ]
    },
    {
      "cell_type": "markdown",
      "metadata": {
        "id": "VjwUb-1Zztof"
      },
      "source": [
        "<div class=\"alert alert-block alert-info\">\n",
        "**выводы за 3 года**\n",
        "    \n",
        "Общий тренд на снижение продаж,\\\n",
        "Потенциально прибыльные платформы  - лидеры рынка в настоящий момент с большим отрывов от конкурентов:\n",
        "    PS4 + XOne + 3DS\n",
        "    \n",
        "</div>"
      ]
    },
    {
      "cell_type": "code",
      "execution_count": null,
      "metadata": {
        "id": "w3E-KGASztof",
        "outputId": "64632d17-e33a-45ae-a661-6c475b219b47"
      },
      "outputs": [
        {
          "data": {
            "text/html": [
              "<div>\n",
              "<style scoped>\n",
              "    .dataframe tbody tr th:only-of-type {\n",
              "        vertical-align: middle;\n",
              "    }\n",
              "\n",
              "    .dataframe tbody tr th {\n",
              "        vertical-align: top;\n",
              "    }\n",
              "\n",
              "    .dataframe thead th {\n",
              "        text-align: right;\n",
              "    }\n",
              "</style>\n",
              "<table border=\"1\" class=\"dataframe\">\n",
              "  <thead>\n",
              "    <tr style=\"text-align: right;\">\n",
              "      <th>platform</th>\n",
              "      <th>3DS</th>\n",
              "      <th>PC</th>\n",
              "      <th>PS3</th>\n",
              "      <th>PS4</th>\n",
              "      <th>PSV</th>\n",
              "      <th>Wii</th>\n",
              "      <th>WiiU</th>\n",
              "      <th>X360</th>\n",
              "      <th>XOne</th>\n",
              "    </tr>\n",
              "    <tr>\n",
              "      <th>year_of_release</th>\n",
              "      <th></th>\n",
              "      <th></th>\n",
              "      <th></th>\n",
              "      <th></th>\n",
              "      <th></th>\n",
              "      <th></th>\n",
              "      <th></th>\n",
              "      <th></th>\n",
              "      <th></th>\n",
              "    </tr>\n",
              "  </thead>\n",
              "  <tbody>\n",
              "    <tr>\n",
              "      <td>2014.0</td>\n",
              "      <td>43.76</td>\n",
              "      <td>13.28</td>\n",
              "      <td>47.76</td>\n",
              "      <td>100.00</td>\n",
              "      <td>11.90</td>\n",
              "      <td>3.75</td>\n",
              "      <td>22.03</td>\n",
              "      <td>34.74</td>\n",
              "      <td>54.07</td>\n",
              "    </tr>\n",
              "    <tr>\n",
              "      <td>2015.0</td>\n",
              "      <td>27.78</td>\n",
              "      <td>8.52</td>\n",
              "      <td>16.82</td>\n",
              "      <td>118.90</td>\n",
              "      <td>6.25</td>\n",
              "      <td>1.14</td>\n",
              "      <td>16.35</td>\n",
              "      <td>11.96</td>\n",
              "      <td>60.14</td>\n",
              "    </tr>\n",
              "    <tr>\n",
              "      <td>2016.0</td>\n",
              "      <td>15.14</td>\n",
              "      <td>5.25</td>\n",
              "      <td>3.60</td>\n",
              "      <td>69.25</td>\n",
              "      <td>4.25</td>\n",
              "      <td>0.18</td>\n",
              "      <td>4.60</td>\n",
              "      <td>1.52</td>\n",
              "      <td>26.15</td>\n",
              "    </tr>\n",
              "  </tbody>\n",
              "</table>\n",
              "</div>"
            ],
            "text/plain": [
              "platform           3DS     PC    PS3     PS4    PSV   Wii   WiiU   X360   XOne\n",
              "year_of_release                                                               \n",
              "2014.0           43.76  13.28  47.76  100.00  11.90  3.75  22.03  34.74  54.07\n",
              "2015.0           27.78   8.52  16.82  118.90   6.25  1.14  16.35  11.96  60.14\n",
              "2016.0           15.14   5.25   3.60   69.25   4.25  0.18   4.60   1.52  26.15"
            ]
          },
          "execution_count": 32,
          "metadata": {},
          "output_type": "execute_result"
        }
      ],
      "source": [
        "# та же самая информация в виде таблицы\n",
        "df_actual.query('platform in @actual_platforms').pivot_table(index = 'year_of_release', \n",
        "                             columns = 'platform', \n",
        "                             values = 'sales_total', \n",
        "                             aggfunc = 'sum')"
      ]
    },
    {
      "cell_type": "code",
      "execution_count": null,
      "metadata": {
        "id": "yieS-IRsztog",
        "outputId": "7459d23a-230f-4355-e2cf-6a2ec3ad07df"
      },
      "outputs": [
        {
          "data": {
            "image/png": "[encoded data removed]",
            "text/plain": [
              "<Figure size 1440x360 with 1 Axes>"
            ]
          },
          "metadata": {
            "needs_background": "light"
          },
          "output_type": "display_data"
        }
      ],
      "source": [
        "# динамика продаж всех платформ за все время наблюдения\n",
        "pivot_to_plot(df, 'year_of_release', 'platform', 'sales_total', 'sum')\n",
        "plt.title(\"Динамика продаж всех платформ за все время наблюдения\")\n",
        "plt.legend(bbox_to_anchor=(1, 0.6), ncol = 3)\n",
        "plt.show()"
      ]
    },
    {
      "cell_type": "markdown",
      "metadata": {
        "id": "IPbV2i-dztoh"
      },
      "source": [
        "у некоторых платформ после незначительного снижения был второй пик продаж, поэтому в 2017 году можно ожидать возвращение популярности некоторых из существующих платформ"
      ]
    },
    {
      "cell_type": "markdown",
      "metadata": {
        "id": "C-pLL2Kbztoh"
      },
      "source": [
        "##### Построение графика «ящик с усами» по глобальным продажам игр в разбивке по платформам и описание результата."
      ]
    },
    {
      "cell_type": "code",
      "execution_count": null,
      "metadata": {
        "id": "5ee1K3lNztoi",
        "outputId": "6d4d7108-0ee0-4fc2-de23-9673b1536b13"
      },
      "outputs": [
        {
          "data": {
            "image/png": "[encoded data removed]",
            "text/plain": [
              "<Figure size 432x288 with 1 Axes>"
            ]
          },
          "metadata": {
            "needs_background": "light"
          },
          "output_type": "display_data"
        }
      ],
      "source": [
        "# топ 3 платформы 2016 года\n",
        "top_3 = top_items_sales(3, df_2016, 'platform', 'sales_total')\n",
        "\n",
        "# график «ящик с усами» по глобальным продажам лидеров 2016 года\n",
        "df.query('platform in @top_3').boxplot('sales_total', by='platform')\n",
        "plt.ylabel('sales_total, mln copies')\n",
        "plt.ylim(0,2);"
      ]
    },
    {
      "cell_type": "code",
      "execution_count": null,
      "metadata": {
        "id": "5XwzE6bZztoi",
        "outputId": "01d63c20-e587-4a72-f624-9e9d1e13f732"
      },
      "outputs": [
        {
          "data": {
            "image/png": "[encoded data removed]",
            "text/plain": [
              "<Figure size 1080x360 with 1 Axes>"
            ]
          },
          "metadata": {
            "needs_background": "light"
          },
          "output_type": "display_data"
        }
      ],
      "source": [
        "# график «ящик с усами» по глобальным продажам всех платформ за актуальный период\n",
        "df_actual.boxplot(column = 'sales_total', by = 'platform', figsize = (15,5))\n",
        "plt.ylim(0,4);"
      ]
    },
    {
      "cell_type": "markdown",
      "metadata": {
        "id": "AYgi36kLztoj"
      },
      "source": [
        "почти по всем платформам за актуальный период были многочисленные выбросы - это игры-хиты с аномально высокими продажами.  \n",
        "платформы лидеры с высокой медианой: PS3, PS4, Wii, WiiU, X360, XOne, у них также наблюдается сдвиг распределения вправо, в сторону более высоких объемов продаж (Q3-Q4)"
      ]
    },
    {
      "cell_type": "markdown",
      "metadata": {
        "id": "MiaaTaoGztoj"
      },
      "source": [
        "<div class=\"alert alert-block alert-info\">\n",
        "\n",
        "особенно много таких удачных запусков как раз у лидеров рынка: PS4 + XOne + 3DS\n",
        "    \n",
        "</div>"
      ]
    },
    {
      "cell_type": "markdown",
      "metadata": {
        "id": "mbabjTZFztok"
      },
      "source": [
        "анализ влияния отзывов пользователей и критиков на продажи внутри одной популярной платформы. Диаграмма рассеяния и расчет корреляции между отзывами и продажами. Выводы."
      ]
    },
    {
      "cell_type": "code",
      "execution_count": null,
      "metadata": {
        "id": "zsAxnfqCztol"
      },
      "outputs": [],
      "source": [
        "# создадим срез по платформе PS4, входит в топ3 2016 года\n",
        "platform = 'PS4'\n",
        "df_platform = df_actual.query('platform == @platform')"
      ]
    },
    {
      "cell_type": "code",
      "execution_count": null,
      "metadata": {
        "id": "ESrculKPztol",
        "outputId": "49a37e51-17dc-450e-e08e-d829b87840dc"
      },
      "outputs": [
        {
          "name": "stdout",
          "output_type": "stream",
          "text": [
            "Оценка игр на платформе PS4\n"
          ]
        },
        {
          "data": {
            "image/png": "[encoded data removed]",
            "text/plain": [
              "<Figure size 1008x288 with 2 Axes>"
            ]
          },
          "metadata": {
            "needs_background": "light"
          },
          "output_type": "display_data"
        }
      ],
      "source": [
        "fig, (ax1, ax2) = plt.subplots(nrows=1, ncols=2, figsize = (14,4))\n",
        "print('Оценка игр на платформе', platform)\n",
        "ax1.scatter(x=df_platform['critic_score'], y=df_platform['sales_total'], alpha=0.3)\n",
        "ax1.set_title('Взаимосвязь оценки критиков и продаж')\n",
        "ax1.set_xlabel('Оценки критиков')\n",
        "ax1.set_ylabel('Продажи, млн копий')\n",
        "\n",
        "ax2.scatter(x=df_platform['user_score'], y=df_platform['sales_total'], alpha=0.3)\n",
        "ax2.set_title('Взаимосвязь оценки пользователей и продаж')\n",
        "ax2.set_xlabel('Оценки пользователей')\n",
        "ax2.set_ylabel('Продажи, млн копий')\n",
        "plt.show()"
      ]
    },
    {
      "cell_type": "code",
      "execution_count": null,
      "metadata": {
        "id": "3WRl4-teztom",
        "outputId": "ef5a0859-a96e-4a87-a047-320c805bd23b"
      },
      "outputs": [
        {
          "name": "stdout",
          "output_type": "stream",
          "text": [
            "Коэффициент корреляции между продажей игр на PS4 и оценками критиков 0.4\n",
            "Коэффициент корреляции между продажей игр на PS4 и оценками пользователей -0.04\n"
          ]
        }
      ],
      "source": [
        "print('Коэффициент корреляции между продажей игр на', platform, 'и оценками критиков', \n",
        "      df_platform['critic_score'].corr(df_platform['sales_total']).round(2))\n",
        "\n",
        "print('Коэффициент корреляции между продажей игр на', platform, 'и оценками пользователей', \n",
        "      df_platform['user_score'].corr(df_platform['sales_total']).round(2))"
      ]
    },
    {
      "cell_type": "markdown",
      "metadata": {
        "id": "aYonAtHgzton"
      },
      "source": [
        "есть небольшое положительное влияние оценки критиков на продажи игр на PS4 (лучше оценки - выше продажи)  \n",
        "но оценки пользователей практически не влияют на продажи - коэфф корреляции близок к нулю."
      ]
    },
    {
      "cell_type": "markdown",
      "metadata": {
        "id": "aiJZY4VWzton"
      },
      "source": [
        "##### Соотнесите выводы с продажами игр на других платформах."
      ]
    },
    {
      "cell_type": "code",
      "execution_count": null,
      "metadata": {
        "id": "3rkLgc6Cztoo",
        "outputId": "0d66f9ea-5f8c-4535-d509-9bc0cb86534a"
      },
      "outputs": [
        {
          "name": "stdout",
          "output_type": "stream",
          "text": [
            "PS4\n",
            "оценка критиков 0.40266141068104083\n",
            "оценка пользователей -0.040131589472697356\n",
            "\n",
            "3DS\n",
            "оценка критиков 0.314117492869051\n",
            "оценка пользователей 0.2151932718527028\n",
            "\n",
            "XOne\n",
            "оценка критиков 0.42867694370333226\n",
            "оценка пользователей -0.0703839280647581\n",
            "\n",
            "WiiU\n",
            "оценка критиков 0.370201412480884\n",
            "оценка пользователей 0.40792645792170773\n",
            "\n",
            "PS3\n",
            "оценка критиков 0.44657460493190704\n",
            "оценка пользователей -0.16676141347662118\n",
            "\n",
            "PC\n",
            "оценка критиков 0.17463413769350036\n",
            "оценка пользователей -0.07159665703472451\n",
            "\n",
            "X360\n",
            "оценка критиков 0.5257228356581523\n",
            "оценка пользователей -0.138444570945665\n",
            "\n",
            "PSV\n",
            "оценка критиков 0.04266490657009526\n",
            "оценка пользователей -0.16845504978064446\n",
            "\n",
            "Wii\n",
            "оценка критиков nan\n",
            "оценка пользователей 1.0\n",
            "\n"
          ]
        }
      ],
      "source": [
        "for form in actual_platforms:\n",
        "    df_form = df_actual.query('platform == @form')\n",
        "    print(form)\n",
        "    print('оценка критиков', df_form['critic_score'].corr(df_form['sales_total']))\n",
        "    print('оценка пользователей', df_form['user_score'].corr(df_form['sales_total']))\n",
        "    print()"
      ]
    },
    {
      "cell_type": "markdown",
      "metadata": {
        "id": "dpNvRVw9ztoo"
      },
      "source": [
        "**ВЫВОДЫ по актуальному периоду = 10 лет**\n",
        "\n",
        "такая же ситуация и по играм на платформах PS2, PS3, X360, PC\n",
        "дополнительно можно отметить:\n",
        "\n",
        "PSP - оценки пользователей и критиков имеют небольшое положительное влияние на продажи\n",
        "GBA - мнение пользователей имеет отрицательное влияние на продажи (рост одной величины связан с уменьшением другой), а оценка критиков почти ничего не значит\n",
        "Wii - оценки критиков и пользователей почти не влияют на продажи "
      ]
    },
    {
      "cell_type": "markdown",
      "metadata": {
        "id": "aC_DAByTztop"
      },
      "source": [
        "<div class=\"alert alert-info\">\n",
        "\n",
        "**ВЫВОДЫ по актуальному периоду = 3 года**\n",
        "\n",
        "такая же ситуация и по играм на всех платформах, актуальных на 2016 год - оценки критиков имеют положительное влияние на продажи игр, а оценки пользователей почти ничего не значат.\n",
        "\n",
        "исключение:\n",
        "    - PC - очень слабое влияние критиков\n",
        "    - WiiU - оценки пользователей также важны для продаж, как и оценки критиков.\n",
        "\n",
        "</div>"
      ]
    },
    {
      "cell_type": "markdown",
      "metadata": {
        "id": "SGUpsWrdztop"
      },
      "source": [
        "##### Анализ общего распределения игр по жанрам. Что можно сказать о самых прибыльных жанрах? Выделяются ли жанры с высокими и низкими продажами?"
      ]
    },
    {
      "cell_type": "code",
      "execution_count": null,
      "metadata": {
        "id": "-_72gmROztoq",
        "outputId": "f09f914e-a728-4bd8-c561-56620d55d146"
      },
      "outputs": [
        {
          "data": {
            "text/plain": [
              "Text(0, 0.5, 'продажи, млн копий')"
            ]
          },
          "execution_count": 40,
          "metadata": {},
          "output_type": "execute_result"
        },
        {
          "data": {
            "image/png": "[encoded data removed]",
            "text/plain": [
              "<Figure size 1080x360 with 1 Axes>"
            ]
          },
          "metadata": {
            "needs_background": "light"
          },
          "output_type": "display_data"
        }
      ],
      "source": [
        "[df_actual.pivot_table(index = 'genre', \n",
        "                       values = 'sales_total', \n",
        "                       aggfunc = 'sum')\n",
        " .sort_values(by = 'sales_total', ascending = False)\n",
        " .plot(kind='bar', figsize = (15,5))\n",
        "]\n",
        "plt.title('Общий объем продаж игр по жанрам за последние 3 года')\n",
        "plt.ylabel('продажи, млн копий')"
      ]
    },
    {
      "cell_type": "code",
      "execution_count": null,
      "metadata": {
        "id": "7BsGoNMGztoq",
        "outputId": "36037e99-f5c0-4b4e-ddee-da6ce0bd2489"
      },
      "outputs": [
        {
          "data": {
            "text/plain": [
              "Text(0, 0.5, 'продажи, млн копий')"
            ]
          },
          "execution_count": 41,
          "metadata": {},
          "output_type": "execute_result"
        },
        {
          "data": {
            "image/png": "[encoded data removed]",
            "text/plain": [
              "<Figure size 1080x360 with 1 Axes>"
            ]
          },
          "metadata": {
            "needs_background": "light"
          },
          "output_type": "display_data"
        }
      ],
      "source": [
        "[df_actual.pivot_table(index = 'genre', \n",
        "                       values = 'sales_total', \n",
        "                       aggfunc = 'mean')\n",
        " .sort_values(by = 'sales_total', ascending = False)\n",
        " .plot(kind='bar', figsize = (15,5))\n",
        "]\n",
        "plt.title('Средние продажи игр по жанрам за последние 3 года')\n",
        "plt.ylabel('продажи, млн копий')"
      ]
    },
    {
      "cell_type": "markdown",
      "metadata": {
        "id": "Ba2BQXB7ztor"
      },
      "source": [
        "Вывод:\\\n",
        "В целом за актуальный период наиболее продаваемыми оказались игры в жанрах Action, Sports, Shooter\\\n",
        "но если посмотреть средние продажи внутри каждого жанра, то в лидеры выходят с большим отрывом Shooter, далее Platform, Sports\\\n",
        "из этого можно сделать вывод, что жанр Action показал хороший результат за счет большого количества игр внутри категории.\\\n",
        "Sports, Shooter - стабильно прибыльные во всех смыслах"
      ]
    },
    {
      "cell_type": "markdown",
      "metadata": {
        "id": "Vczm8FSGztos"
      },
      "source": [
        "<div class=\"alert alert-info\">\n",
        "Выводы: \n",
        "    \n",
        "- пик продаж пришелся на 2008-2009 гг. - свыше 1400 игр в год. Потом снижение до 500 игр в 2016 году.\n",
        "- список топ 10 платформ за всю историю наблюдений: 'PC', 'PSP', 'PS4', 'GBA', 'PS', 'DS', 'Wii', 'PS3', 'X360', 'PS2'\n",
        "- средний срок жизни топовой платформы почти 10 лет, а остальных почти в 2 раза меньше - около 5 лет на рынке\n",
        "порог значимости - 5 млн проданных копий в год\n",
        "- значимый период для анализа может быть от 10 лет и меньше. Учитывая, что ситуация на рынке игр очень быстро меняется, для построения прогноза на 2017 год можно взять данные с 2014года. \n",
        "- лидеры рынка в настоящий момент с большим отрывов от конкурентов: PS4 + XOne + 3DS, но и их продажи снижаются. Стабильный тренд у РС, но уровень продаж невысокий. \n",
        "- несмотря на общее снижение продаж по всем платформам, история наблюдений показывает, что возможен второй пик продаж после некоторого снижения, а значит, в 2017 году можно ожидать возвращение популярности некоторых из существующих платформ\n",
        "    \n",
        "- почти по всем платформам за актуальный период были многочисленные выбросы - это игры-хиты с аномально высокими продажами.  платформы лидеры с высокой медианой: PS3, PS4, Wii, WiiU, X360, XOne, у них также наблюдается сдвиг распределения вправо, в сторону более высоких объемов продаж (Q3-Q4)\\\n",
        "особенно много таких удачных запусков как раз у лидеров рынка: PS4 + XOne + 3DS\n",
        "- есть небольшое положительное влияние оценки критиков на продажи игр на PS4 (лучше оценки - выше продажи)\n",
        "но оценки пользователей практически не влияют на продажи - коэфф корреляции близок к нулю.\n",
        "такая же ситуация и по играм на всех платформах, актуальных на 2016 год - оценки критиков имеют положительное влияние на продажи игр, а оценки пользователей почти ничего не значат.\\\n",
        "исключение: - PC (очень слабое влияние критиков) и WiiU (оценки пользователей также важны для продаж, как и оценки критиков).\n",
        "    \n",
        "- В целом за актуальный период наиболее продаваемыми оказались игры в жанрах Action, Sports, Shooter\n",
        "но если посмотреть средние продажи внутри каждого жанра, то в лидеры выходят с большим отрывом Shooter, далее Platform, Sports\\\n",
        "из этого можно сделать вывод, что жанр Action показал хороший результат за счет большого количества игр внутри категории.\\\n",
        "Sports, Shooter - стабильно прибыльные во всех смыслах\n",
        "    \n",
        "    \n",
        "</div>"
      ]
    },
    {
      "cell_type": "markdown",
      "metadata": {
        "id": "l67ooPqFztos"
      },
      "source": [
        "## Портрет пользователя каждого региона\n",
        "Определить для пользователя каждого региона (NA, EU, JP):\n",
        "- Самые популярные платформы (топ-5). Описать различия в долях продаж.\n",
        "- Самые популярные жанры (топ-5). Пояснить разницу.\\\n",
        "Влияет ли рейтинг ESRB на продажи в отдельном регионе?"
      ]
    },
    {
      "cell_type": "code",
      "execution_count": null,
      "metadata": {
        "id": "iD-5asVXztot"
      },
      "outputs": [],
      "source": [
        "# список регионов для анализа\n",
        "regions = ['eu_sales', 'na_sales', 'jp_sales']"
      ]
    },
    {
      "cell_type": "code",
      "execution_count": null,
      "metadata": {
        "id": "7aL_H9QUztot"
      },
      "outputs": [],
      "source": [
        "# столбцы с процентами продаж\n",
        "df_actual['eu_pct'] = df_actual['eu_sales'] / df_actual['eu_sales'].sum()\n",
        "df_actual['na_pct'] = df_actual['na_sales'] / df_actual['na_sales'].sum()\n",
        "df_actual['jp_pct'] = df_actual['jp_sales'] / df_actual['jp_sales'].sum()"
      ]
    },
    {
      "cell_type": "markdown",
      "metadata": {
        "id": "EEkmje0Pztou"
      },
      "source": [
        "### функция для расчета топ 5 по каждому региону + график\n",
        "на входе\n",
        "- колонка с продажами по региону (из списка выше)\n",
        "- колонка, по которой группируем и ищем топ 5\n"
      ]
    },
    {
      "cell_type": "code",
      "execution_count": null,
      "metadata": {
        "id": "l3xfnbdzztov"
      },
      "outputs": [],
      "source": [
        "def plot_top5_region(region, platform_or_genre):\n",
        "    top_5 = top_items_sales(5, df_actual, platform_or_genre, region)  #использую функцию из 4.0.2.1\n",
        "    print(region, top_5)\n",
        "    df_new1 = df_actual\n",
        "    df_new1['new'] = df_new1[platform_or_genre]                       # заполняю служебный столбец копией данных (все жанры)\n",
        "    df_new1.loc[(~df_new1[platform_or_genre].isin(top_5)), 'new'] = 'other'  # оставляю только топ 5 наименований, а остальное заполняю заглушкой\n",
        "    plot = df_new1.pivot_table(index = 'new', \n",
        "                               values = region, \n",
        "                               aggfunc = 'sum').plot(kind = 'pie', \n",
        "                                                     x='new',\n",
        "                                                     y=region,\n",
        "                                                     figsize=(5,5), \n",
        "                                                     autopct = '%1.1f%%', \n",
        "                                                     title = region);\n",
        "    plt.legend(loc='center left', bbox_to_anchor=(1, 0.5))     \n",
        "    return plot"
      ]
    },
    {
      "cell_type": "markdown",
      "metadata": {
        "id": "Atn4ra1Xztow"
      },
      "source": [
        "### Самые популярные платформы (топ-5). Различия в долях продаж."
      ]
    },
    {
      "cell_type": "code",
      "execution_count": null,
      "metadata": {
        "id": "Kb4LDGvbztox",
        "outputId": "28ac085f-9561-44bb-842a-181bd8152ce8"
      },
      "outputs": [
        {
          "name": "stdout",
          "output_type": "stream",
          "text": [
            "eu_sales Index(['3DS', 'PC', 'PS3', 'XOne', 'PS4'], dtype='object', name='platform')\n",
            "na_sales Index(['PS3', '3DS', 'X360', 'XOne', 'PS4'], dtype='object', name='platform')\n",
            "jp_sales Index(['WiiU', 'PS3', 'PSV', 'PS4', '3DS'], dtype='object', name='platform')\n"
          ]
        },
        {
          "data": {
            "image/png": "[encoded data removed]",
            "text/plain": [
              "<Figure size 360x360 with 1 Axes>"
            ]
          },
          "metadata": {},
          "output_type": "display_data"
        },
        {
          "data": {
            "image/png": "[encoded data removed]",
            "text/plain": [
              "<Figure size 360x360 with 1 Axes>"
            ]
          },
          "metadata": {},
          "output_type": "display_data"
        },
        {
          "data": {
            "image/png": "[encoded data removed]",
            "text/plain": [
              "<Figure size 360x360 with 1 Axes>"
            ]
          },
          "metadata": {},
          "output_type": "display_data"
        }
      ],
      "source": [
        "#расчет топ 5 платформ по каждому региону\n",
        "for region in regions:\n",
        "    plot_top5_region(region, 'platform')"
      ]
    },
    {
      "cell_type": "markdown",
      "metadata": {
        "id": "2dWw6sHdztox"
      },
      "source": [
        "***выводы  10 лет**\n",
        "\n",
        "на всех 3 рынках топ 5 платформ занимают свыше 75% от всех продаж, \n",
        "основные платформы так или иначе присутствуют на всех рынках, кроме:\n",
        "- Х360 отсутствует в Японии, но на других рынках показывает хорошие результаты\n",
        "- вместо не в Японии популярна DS, которая занимает меньшую долю других рынках:\n",
        "\n",
        "Топ 3 платформы:\\\n",
        "eu_sales('Wii = 17,3%', 'X360 = 17,9%', 'PS3 = 21,9%')\\\n",
        "na_sales('PS3 = 16,3%', 'Wii = 20,4%', 'X360 = 24,7%')\\\n",
        "jp_sales('PS3 = 14,1%', '3DS = 17,9%', 'DS = 25,2%')"
      ]
    },
    {
      "cell_type": "markdown",
      "metadata": {
        "id": "R0wKq9OZztoy"
      },
      "source": [
        "<div class=\"alert alert-info\">\n",
        "\n",
        "**Выводы 3 года:**\n",
        "    \n",
        "- на всех 3 рынках топ 5 платформ занимают свыше 75% от всех продаж,\n",
        "- на каждом рынке есть заметный лидер-монополист: Европа = PS4 (48%), Япония = 3DS(48%), Америка - 2 платформы PS4(35%) и XOne(29%)\n",
        "      \n",
        "</div>"
      ]
    },
    {
      "cell_type": "markdown",
      "metadata": {
        "id": "65VVrJY8ztoy"
      },
      "source": [
        "### Самые популярные жанры (топ-5). Пояснить разницу."
      ]
    },
    {
      "cell_type": "code",
      "execution_count": null,
      "metadata": {
        "id": "Bcjv6p1Eztoy",
        "outputId": "fe7fe77b-469e-4f83-8661-c39fe977e13b"
      },
      "outputs": [
        {
          "name": "stdout",
          "output_type": "stream",
          "text": [
            "eu_sales Index(['Racing', 'Role-Playing', 'Sports', 'Shooter', 'Action'], dtype='object', name='genre')\n",
            "na_sales Index(['Misc', 'Role-Playing', 'Sports', 'Action', 'Shooter'], dtype='object', name='genre')\n",
            "jp_sales Index(['Shooter', 'Misc', 'Fighting', 'Action', 'Role-Playing'], dtype='object', name='genre')\n"
          ]
        },
        {
          "data": {
            "image/png": "[encoded data removed]",
            "text/plain": [
              "<Figure size 360x360 with 1 Axes>"
            ]
          },
          "metadata": {},
          "output_type": "display_data"
        },
        {
          "data": {
            "image/png": "[encoded data removed]",
            "text/plain": [
              "<Figure size 360x360 with 1 Axes>"
            ]
          },
          "metadata": {},
          "output_type": "display_data"
        },
        {
          "data": {
            "image/png": "[encoded data removed]",
            "text/plain": [
              "<Figure size 360x360 with 1 Axes>"
            ]
          },
          "metadata": {},
          "output_type": "display_data"
        }
      ],
      "source": [
        "#расчет топ 5 жанров по каждому региону\n",
        "for region in regions:\n",
        "    plot_top5_region(region, 'genre')     "
      ]
    },
    {
      "cell_type": "markdown",
      "metadata": {
        "id": "MB65Zmu-ztoz"
      },
      "source": [
        "Игры жанров Action и Misc хорошо продаются на всех рынках\\\n",
        "В Японии популярны игры Role Playing"
      ]
    },
    {
      "cell_type": "markdown",
      "metadata": {
        "id": "g9aX7SJ8ztoz"
      },
      "source": [
        "<div class=\"alert alert-info\">\n",
        "\n",
        "**Выводы 3 года:**\n",
        "    \n",
        "- игры в жанрах Action + Shooter занимают более 50% продаж в Европе и Америке,\n",
        "- в Японии пара лидеров - Role-Playing и Action (65% продаж)\n",
        "      \n",
        "</div>"
      ]
    },
    {
      "cell_type": "markdown",
      "metadata": {
        "id": "I3Qi80yQzto0"
      },
      "source": [
        "### Влияет ли рейтинг ESRB на продажи в отдельном регионе?\n",
        "можно проанализировать, например, средние продажи в зависимости от рейтингов"
      ]
    },
    {
      "cell_type": "code",
      "execution_count": null,
      "metadata": {
        "scrolled": false,
        "id": "R8FfKKUOzto0",
        "outputId": "d10d2913-667c-41f0-ed5e-6281e890ee44"
      },
      "outputs": [
        {
          "data": {
            "image/png": "[encoded data removed]",
            "text/plain": [
              "<Figure size 1080x360 with 1 Axes>"
            ]
          },
          "metadata": {
            "needs_background": "light"
          },
          "output_type": "display_data"
        },
        {
          "data": {
            "image/png": "[encoded data removed]",
            "text/plain": [
              "<Figure size 1080x360 with 1 Axes>"
            ]
          },
          "metadata": {
            "needs_background": "light"
          },
          "output_type": "display_data"
        },
        {
          "data": {
            "image/png": "[encoded data removed]",
            "text/plain": [
              "<Figure size 1080x360 with 1 Axes>"
            ]
          },
          "metadata": {
            "needs_background": "light"
          },
          "output_type": "display_data"
        }
      ],
      "source": [
        "for region in regions:\n",
        "    df_actual.pivot_table(index = 'rating', \n",
        "                          values = region, \n",
        "                          aggfunc = 'mean').plot(kind='bar', figsize = (15,5))"
      ]
    },
    {
      "cell_type": "markdown",
      "metadata": {
        "id": "zI-52x4Mzto0"
      },
      "source": [
        "<div class=\"alert alert-block alert-info\">\n",
        "    \n",
        "На европейском и американском рынках игры категории «M» («Mature») — «Для взрослых» в среднем продаются намного больше, чем другие категории, на втором месте игры категории «E» («Everyone») — «Для всех».\n",
        "\n",
        "На рынке Японии особенно много продаж по играм без указания рейтинга (с пропущенными данными), но из клапссифицированных игр лидируют Т - тинейджер, и Е - для всех.\n",
        " </div>"
      ]
    },
    {
      "cell_type": "markdown",
      "metadata": {
        "id": "kf0DwTHIzto2"
      },
      "source": [
        "## Проверка гипотез\n",
        "- Средние пользовательские рейтинги платформ Xbox One и PC одинаковые;\n",
        "- Средние пользовательские рейтинги жанров Action (англ. «действие», экшен-игры) и Sports (англ. «спортивные соревнования») разные.\n",
        "\n",
        "Задайте самостоятельно пороговое значение alpha.\n",
        "Поясните:\n",
        "- Как вы сформулировали нулевую и альтернативную гипотезы;\n",
        "- Какой критерий применили для проверки гипотез и почему."
      ]
    },
    {
      "cell_type": "markdown",
      "metadata": {
        "id": "P0237n8zzto2"
      },
      "source": [
        "### Средние пользовательские рейтинги платформ Xbox One и PC одинаковые\n",
        "H0 - Средние пользовательские рейтинги платформ Xbox One и PC одинаковые;\\\n",
        "Н1 - Средние пользовательские рейтинги платформ Xbox One и PC отличаются"
      ]
    },
    {
      "cell_type": "code",
      "execution_count": null,
      "metadata": {
        "id": "GuyAhecfzto3",
        "outputId": "9a32ab74-315b-4695-b5bf-a8cacc73d518"
      },
      "outputs": [
        {
          "name": "stdout",
          "output_type": "stream",
          "text": [
            "p-значение: 0.10450507919348415\n",
            "Не получилось отвергнуть нулевую гипотезу\n"
          ]
        }
      ],
      "source": [
        "#уберем пропуски\n",
        "df_actual_dropna = df_actual.dropna(subset=['user_score'])\n",
        "\n",
        "# создадим отдельные выборки для каждого рейтинга\n",
        "xone = df_actual_dropna.query ('platform == \"XOne\"')['user_score']\n",
        "pc = df_actual_dropna.query ('platform == \"PC\"')['user_score']\n",
        "\n",
        "alpha = 0.05  # критический уровень статистической значимости\n",
        "# если p-value окажется меньше него - отвергнем гипотезу\n",
        "\n",
        "results = st.ttest_ind(xone, pc)\n",
        "\n",
        "print('p-значение:', results.pvalue)\n",
        "\n",
        "if results.pvalue < alpha:\n",
        "    print('Отвергаем нулевую гипотезу')\n",
        "else:\n",
        "    print('Не получилось отвергнуть нулевую гипотезу') "
      ]
    },
    {
      "cell_type": "markdown",
      "metadata": {
        "id": "b5BaQ-Jxzto5"
      },
      "source": [
        "<div class=\"alert alert-block alert-info\"> \n",
        "Вывод:\n",
        "    \n",
        "уровень р=10,4%,\\\n",
        "т.е. при условии, что НО верна, вероятность получить такие данные, как у нас в выборке, свыше 10%.\\\n",
        "Это больше заданного уровня значимости 5%, что дает нам основание предполагать,\\\n",
        "что средние пользовательские рейтинги платформ Xbox One и PC одинаковые.\n",
        "</div>"
      ]
    },
    {
      "cell_type": "markdown",
      "metadata": {
        "id": "V_dxH2ynzto6"
      },
      "source": [
        "### Средние пользовательские рейтинги жанров Action и Sports одинаковые\n",
        "\n",
        "H0 - Средние пользовательские рейтинги жанров Action и Sports одинаковые;\\\n",
        "Н1 - Средние пользовательские рейтинги жанров Action и Sports отличаются"
      ]
    },
    {
      "cell_type": "code",
      "execution_count": null,
      "metadata": {
        "id": "dTTLgItEzto7",
        "outputId": "501aca5d-8638-4df2-fd4b-bf63ca106629"
      },
      "outputs": [
        {
          "name": "stdout",
          "output_type": "stream",
          "text": [
            "p-значение: 2.8711147985105864e-19\n",
            "Отвергаем нулевую гипотезу\n"
          ]
        }
      ],
      "source": [
        "# создадим отдельные выборки для каждого рейтинга\n",
        "Action = df_actual_dropna.query ('genre == \"Action\"')['user_score']\n",
        "Sports = df_actual_dropna.query ('genre == \"Sports\"')['user_score']\n",
        "\n",
        "alpha = 0.05  # критический уровень статистической значимости\n",
        "# если p-value окажется меньше него - отвергнем гипотезу\n",
        "\n",
        "results = st.ttest_ind(Action, Sports)\n",
        "\n",
        "print('p-значение:', results.pvalue)\n",
        "\n",
        "if results.pvalue < alpha:\n",
        "    print('Отвергаем нулевую гипотезу')\n",
        "else:\n",
        "    print('Не получилось отвергнуть нулевую гипотезу') "
      ]
    },
    {
      "cell_type": "markdown",
      "metadata": {
        "id": "3ru_teoCzto8"
      },
      "source": [
        "Вывод - уровень р ничтожно мал, что дает нам остование отвергнуть НО и предположить, что средние пользовательские рейтинги жанров Action и Sports отличаются"
      ]
    },
    {
      "cell_type": "markdown",
      "metadata": {
        "id": "9dQTKtJmzto9"
      },
      "source": [
        "## Общий вывод"
      ]
    },
    {
      "cell_type": "markdown",
      "metadata": {
        "id": "7zQpzE_azto9"
      },
      "source": [
        "**Общая информация**\\\n",
        "В исследовании использовались данные по продажам игр начиная с 1980г по 2016г,\\ \n",
        "но данные неполные, есть довольно много пропусков по важным параметрам: оценка критьиков и пользователей, рейтинг игры. \n",
        "\n",
        "Японии продается ограниченный ассортимент (свыше 50% записей с нулевыми продажами), в других странах отсутствуют только 25% от общего списка игра\\платформа\\год выпуска.\n",
        "\n",
        "Максимум продаж по каждому рынку сильно отличается от 3 квартиля (41 vs 0,24 для Северной Америки, и т.п.) - похоже на выбросы или фантастические истории успеха, которые позже можно исследовать дополнительно.\n",
        "\n",
        "Средний срок жизни топовой платформы около 10 лет, а остальных почти в 2 раза меньше (порог значимости - 5 млн проданных копий в год). Учитывая, что до 1996 года рынок игр практически не развивался, для исследования имеет смысл взять период за последние 5-10 лет.\n",
        "\n",
        "**Платформы**\\\n",
        "Наблюдается общая тенденция к снижению объема продаж по всем платформам.\\\n",
        "в 2011-2013 году появились 5 новых, но и их продажи снижаются после небольшого подъема в 2015г.\\\n",
        "у некоторых платформ после незначительного снижения был второй пик продаж, поэтому в 2017 году можно ожидать возвращение популярности некоторых из существующих платформ\n",
        "\n",
        "- лидеры рынка, был рост продаж в 2015: PS4 + XOne\n",
        "- не самые удачные запуски 2011-2012: 3DS + PSV + WiiU\n",
        "- вечнозеленый = низкий, но постоянный тренд на протяжении многих лет: РС\n",
        "- лидеры продаж 2006-2013, но спад продаж в 2016: Wii + X360 +PS3\n",
        "\n",
        "Потенциально прибыльные: PS4 + XOne + РС это лидеры и стабильность\n",
        "\n",
        "\n",
        "Почти по всем платформам за последние 10 лет были многочисленные выбросы - это игры-хиты с аномально высокими продажами.\\\n",
        "Платформы лидеры с высокой медианой: PS3, PS4, Wii, WiiU, X360, XOne, у них также наблюдается сдвиг распределения вправо, в сторону более высоких объемов продаж (Q3-Q4)\n",
        "\n",
        "\n",
        "**Оценки критиков и пользователей**\\\n",
        "1. есть небольшое положительное влияние оценки критиков на продажи игр на PS4 (лучше оценки - выше продажи)\n",
        "но оценки пользователей практически не влияют на продажи - коэфф корреляции близок к нулю.\n",
        "2. такая же ситуация и по играм на платформах PS2, PS3, X360, PC\n",
        "\n",
        "дополнительно можно отметить:\n",
        "- PSP - оценки пользователей и критиков имеют небольшое положительное влияние на продажи\n",
        "- GBA - мнение пользователей имеет отрицательное влияние на продажи (рост одной величины связан с уменьшением другой), а оценка критиков почти ничего не значит\n",
        "- Wii - оценки критиков и пользователей почти не влияют на продажи\n",
        "\n",
        "\n",
        "**Жанры**\\\n",
        "В целом за 10 лет наиболее продаваемые оказались игры в жанрах **Action, Sports, Shooter**\\\n",
        "но если посмотреть средние продажи внутри каждого жанра, то в лидеры выходят **Shooter, Platform, Sports**\\\n",
        "из этого можно сделать вывод, что жанр Action показал хороший результат за счет большого количества игр внутри категории.\\\n",
        "**Sports, Shooter** - стабильно прибыльные во всех смыслах\n",
        "\n",
        "**Рынки**\n",
        "на всех 3 рынках топ 5 платформ занимают свыше 75% от всех продаж, \\\n",
        "основные платформы так или иначе присутствуют на всех рынках, кроме:\n",
        "- Х360 отсутствует в Японии, но на других рынках показывает хорошие результаты\n",
        "- вместо нее в Японии популярна DS, которая занимает меньшую долю других рынках:\n",
        "\n",
        "Топ 3 платформы:\n",
        "eu_sales('Wii = 17,3%', 'X360 = 17,9%', 'PS3 = 21,9%')\\\n",
        "na_sales('PS3 = 16,3%', 'Wii = 20,4%', 'X360 = 24,7%')\\\n",
        "jp_sales('PS3 = 14,1%', '3DS = 17,9%', 'DS = 25,2%')\\\n",
        "\n",
        "Игры жанров Action и Misc хорошо продаются на всех рынках\\\n",
        "В Японии популярны игры Role Playing\n",
        "\n",
        "На Европейском рынке игры категории «M» («Mature») — «Для взрослых» в среднем продаются намного больше, чем другие категории.\n",
        "\n",
        "на рынке С.Америки присутствует широкий спектр игр всех категорий, несколько выделяется ЕС:\\\n",
        "«EC» («Early childhood») — «Для детей младшего возраста»\\\n",
        "На рынке Японии особенно много продаж по играм без указания рейтинга (с пропущенными данными), поэтому нельзя сделать вывод по этому пункту.\\\n",
        "\n",
        "**Проверка гипотез**\\\n",
        "Вывод - средние пользовательские рейтинги платформ Xbox One и PC отличаются\\\n",
        "Вывод - средние пользовательские рейтинги жанров Action и Sports отличаются"
      ]
    },
    {
      "cell_type": "markdown",
      "metadata": {
        "id": "fdB8_QZwzto_"
      },
      "source": [
        "<div class=\"alert alert-block alert-info\">\n",
        "    \n",
        "# Рекомендации:\n",
        "\n",
        "- Потенциально прибыльные платформы: **PS4 + XOne + РС** это лидеры и стабильность.\n",
        "- Японии продается ограниченный ассортимент игр, в основном Role Playing.\n",
        "- Для продвижения в Европе и С.Америке стоит обратить внимание на игры с рейтингом М (для взрослых) и Е (для всех).\n",
        "\n",
        "- Игры жанра **Sports, Shooter** - стабильно прибыльные во всех смыслах и на всех рынках. \n",
        "- Action - большой ассртимент игр с не самыми высокими продажами, но присутствует на всех рынках.\n",
        "\n",
        "- Анализ данных за последние 3 года показал, что можно предполагать, что средние пользовательские рейтинги платформ Xbox One и PC одинаковы, в то время как по жанрам Action и Sports рейтинги отличаются.\n",
        "    \n",
        "</div>"
      ]
    }
  ],
  "metadata": {
    "ExecuteTimeLog": [
      {
        "duration": 1308,
        "start_time": "2021-12-30T10:56:35.524Z"
      },
      {
        "duration": 8,
        "start_time": "2021-12-30T11:00:22.506Z"
      },
      {
        "duration": 41,
        "start_time": "2021-12-30T11:00:51.419Z"
      },
      {
        "duration": 9,
        "start_time": "2021-12-30T11:00:53.223Z"
      },
      {
        "duration": 10,
        "start_time": "2021-12-30T11:01:07.049Z"
      },
      {
        "duration": 16,
        "start_time": "2021-12-30T11:02:14.532Z"
      },
      {
        "duration": 29,
        "start_time": "2021-12-30T11:02:41.142Z"
      },
      {
        "duration": 12,
        "start_time": "2021-12-30T11:02:55.425Z"
      },
      {
        "duration": 15,
        "start_time": "2021-12-30T11:03:02.018Z"
      },
      {
        "duration": 19,
        "start_time": "2021-12-30T11:06:05.283Z"
      },
      {
        "duration": 10,
        "start_time": "2021-12-30T11:08:33.368Z"
      },
      {
        "duration": 26,
        "start_time": "2021-12-30T11:12:43.072Z"
      },
      {
        "duration": 1191,
        "start_time": "2021-12-30T11:35:28.290Z"
      },
      {
        "duration": 10,
        "start_time": "2021-12-30T11:35:29.482Z"
      },
      {
        "duration": 14,
        "start_time": "2021-12-30T11:35:29.493Z"
      },
      {
        "duration": 16,
        "start_time": "2021-12-30T11:35:29.509Z"
      },
      {
        "duration": 31,
        "start_time": "2021-12-30T11:35:29.526Z"
      },
      {
        "duration": 11,
        "start_time": "2021-12-30T11:35:29.559Z"
      },
      {
        "duration": 12,
        "start_time": "2021-12-30T11:42:08.505Z"
      },
      {
        "duration": 291,
        "start_time": "2021-12-30T11:45:05.277Z"
      },
      {
        "duration": 8,
        "start_time": "2021-12-30T11:49:48.704Z"
      },
      {
        "duration": 256,
        "start_time": "2021-12-30T11:50:30.569Z"
      },
      {
        "duration": 295,
        "start_time": "2021-12-30T11:51:52.383Z"
      },
      {
        "duration": 216,
        "start_time": "2021-12-30T11:52:13.898Z"
      },
      {
        "duration": 260,
        "start_time": "2021-12-30T11:52:53.410Z"
      },
      {
        "duration": 1083,
        "start_time": "2021-12-30T11:52:58.605Z"
      },
      {
        "duration": 9,
        "start_time": "2021-12-30T11:52:59.690Z"
      },
      {
        "duration": 9,
        "start_time": "2021-12-30T11:52:59.701Z"
      },
      {
        "duration": 15,
        "start_time": "2021-12-30T11:52:59.712Z"
      },
      {
        "duration": 35,
        "start_time": "2021-12-30T11:52:59.729Z"
      },
      {
        "duration": 12,
        "start_time": "2021-12-30T11:52:59.765Z"
      },
      {
        "duration": 11,
        "start_time": "2021-12-30T11:52:59.779Z"
      },
      {
        "duration": 8,
        "start_time": "2021-12-30T11:52:59.791Z"
      },
      {
        "duration": 298,
        "start_time": "2021-12-30T11:52:59.801Z"
      },
      {
        "duration": 202,
        "start_time": "2021-12-30T11:53:24.307Z"
      },
      {
        "duration": 218,
        "start_time": "2021-12-30T11:53:30.202Z"
      },
      {
        "duration": 214,
        "start_time": "2021-12-30T11:54:05.314Z"
      },
      {
        "duration": 4,
        "start_time": "2021-12-30T11:54:10.507Z"
      },
      {
        "duration": 4,
        "start_time": "2021-12-30T11:54:13.700Z"
      },
      {
        "duration": 257,
        "start_time": "2021-12-30T11:55:05.010Z"
      },
      {
        "duration": 5,
        "start_time": "2021-12-30T11:56:58.023Z"
      },
      {
        "duration": 11,
        "start_time": "2021-12-30T12:00:05.442Z"
      },
      {
        "duration": 20,
        "start_time": "2021-12-30T12:00:26.172Z"
      },
      {
        "duration": 1194,
        "start_time": "2021-12-30T12:01:05.696Z"
      },
      {
        "duration": 9,
        "start_time": "2021-12-30T12:01:06.892Z"
      },
      {
        "duration": 18,
        "start_time": "2021-12-30T12:01:06.902Z"
      },
      {
        "duration": 37,
        "start_time": "2021-12-30T12:01:06.921Z"
      },
      {
        "duration": 30,
        "start_time": "2021-12-30T12:01:06.960Z"
      },
      {
        "duration": 14,
        "start_time": "2021-12-30T12:01:06.992Z"
      },
      {
        "duration": 33,
        "start_time": "2021-12-30T12:01:07.007Z"
      },
      {
        "duration": 13,
        "start_time": "2021-12-30T12:01:07.041Z"
      },
      {
        "duration": 32,
        "start_time": "2021-12-30T12:01:07.056Z"
      },
      {
        "duration": 409,
        "start_time": "2021-12-30T12:01:07.090Z"
      },
      {
        "duration": 4,
        "start_time": "2021-12-30T12:03:08.230Z"
      },
      {
        "duration": 12,
        "start_time": "2021-12-30T12:04:35.928Z"
      },
      {
        "duration": 196,
        "start_time": "2021-12-30T12:06:29.637Z"
      },
      {
        "duration": 14,
        "start_time": "2021-12-30T12:07:53.390Z"
      },
      {
        "duration": 15,
        "start_time": "2021-12-30T12:11:16.915Z"
      },
      {
        "duration": 16,
        "start_time": "2021-12-30T12:11:22.994Z"
      },
      {
        "duration": 15,
        "start_time": "2021-12-30T12:11:34.889Z"
      },
      {
        "duration": 14,
        "start_time": "2021-12-30T12:11:54.216Z"
      },
      {
        "duration": 16,
        "start_time": "2021-12-30T12:13:48.464Z"
      },
      {
        "duration": 25,
        "start_time": "2021-12-30T12:22:22.314Z"
      },
      {
        "duration": 32,
        "start_time": "2021-12-30T12:22:47.294Z"
      },
      {
        "duration": 96,
        "start_time": "2021-12-30T12:35:25.451Z"
      },
      {
        "duration": 9,
        "start_time": "2021-12-30T12:36:24.858Z"
      },
      {
        "duration": 6,
        "start_time": "2021-12-30T12:36:42.177Z"
      },
      {
        "duration": 2560,
        "start_time": "2021-12-30T12:36:47.225Z"
      },
      {
        "duration": 1208,
        "start_time": "2021-12-30T12:37:02.625Z"
      },
      {
        "duration": 11,
        "start_time": "2021-12-30T12:37:03.836Z"
      },
      {
        "duration": 17,
        "start_time": "2021-12-30T12:37:03.852Z"
      },
      {
        "duration": 17,
        "start_time": "2021-12-30T12:37:03.871Z"
      },
      {
        "duration": 60,
        "start_time": "2021-12-30T12:37:03.890Z"
      },
      {
        "duration": 13,
        "start_time": "2021-12-30T12:37:03.952Z"
      },
      {
        "duration": 15,
        "start_time": "2021-12-30T12:37:03.967Z"
      },
      {
        "duration": 11,
        "start_time": "2021-12-30T12:37:03.985Z"
      },
      {
        "duration": 6,
        "start_time": "2021-12-30T12:37:03.997Z"
      },
      {
        "duration": 47,
        "start_time": "2021-12-30T12:37:04.005Z"
      },
      {
        "duration": 14,
        "start_time": "2021-12-30T12:37:04.054Z"
      },
      {
        "duration": 67,
        "start_time": "2021-12-30T12:37:04.070Z"
      },
      {
        "duration": -77,
        "start_time": "2021-12-30T12:37:04.216Z"
      },
      {
        "duration": -81,
        "start_time": "2021-12-30T12:37:04.222Z"
      },
      {
        "duration": 28,
        "start_time": "2021-12-30T12:37:50.713Z"
      },
      {
        "duration": 6,
        "start_time": "2021-12-30T12:37:53.922Z"
      },
      {
        "duration": 1156,
        "start_time": "2021-12-30T12:38:24.565Z"
      },
      {
        "duration": 11,
        "start_time": "2021-12-30T12:38:25.723Z"
      },
      {
        "duration": 16,
        "start_time": "2021-12-30T12:38:25.736Z"
      },
      {
        "duration": 15,
        "start_time": "2021-12-30T12:38:25.754Z"
      },
      {
        "duration": 29,
        "start_time": "2021-12-30T12:38:25.771Z"
      },
      {
        "duration": 12,
        "start_time": "2021-12-30T12:38:25.801Z"
      },
      {
        "duration": 33,
        "start_time": "2021-12-30T12:38:25.815Z"
      },
      {
        "duration": 24,
        "start_time": "2021-12-30T12:38:25.850Z"
      },
      {
        "duration": 16,
        "start_time": "2021-12-30T12:38:25.877Z"
      },
      {
        "duration": 31,
        "start_time": "2021-12-30T12:38:25.895Z"
      },
      {
        "duration": 14,
        "start_time": "2021-12-30T12:38:25.929Z"
      },
      {
        "duration": 41,
        "start_time": "2021-12-30T12:38:25.945Z"
      },
      {
        "duration": 9,
        "start_time": "2021-12-30T12:38:25.988Z"
      },
      {
        "duration": 9,
        "start_time": "2021-12-30T12:38:48.906Z"
      },
      {
        "duration": 22,
        "start_time": "2021-12-30T12:46:08.349Z"
      },
      {
        "duration": 67,
        "start_time": "2021-12-30T12:46:42.980Z"
      },
      {
        "duration": 23,
        "start_time": "2021-12-30T12:46:54.162Z"
      },
      {
        "duration": 4,
        "start_time": "2021-12-30T12:49:19.257Z"
      },
      {
        "duration": 17,
        "start_time": "2021-12-30T12:50:02.177Z"
      },
      {
        "duration": 13,
        "start_time": "2021-12-30T12:50:10.282Z"
      },
      {
        "duration": 9,
        "start_time": "2021-12-30T12:50:39.054Z"
      },
      {
        "duration": 1163,
        "start_time": "2021-12-30T12:59:08.651Z"
      },
      {
        "duration": 10,
        "start_time": "2021-12-30T12:59:09.817Z"
      },
      {
        "duration": 17,
        "start_time": "2021-12-30T12:59:09.829Z"
      },
      {
        "duration": 15,
        "start_time": "2021-12-30T12:59:09.848Z"
      },
      {
        "duration": 28,
        "start_time": "2021-12-30T12:59:09.864Z"
      },
      {
        "duration": 12,
        "start_time": "2021-12-30T12:59:09.893Z"
      },
      {
        "duration": 43,
        "start_time": "2021-12-30T12:59:09.907Z"
      },
      {
        "duration": 8,
        "start_time": "2021-12-30T12:59:09.951Z"
      },
      {
        "duration": 8,
        "start_time": "2021-12-30T12:59:09.962Z"
      },
      {
        "duration": 16,
        "start_time": "2021-12-30T12:59:09.972Z"
      },
      {
        "duration": 11,
        "start_time": "2021-12-30T12:59:09.990Z"
      },
      {
        "duration": 60,
        "start_time": "2021-12-30T12:59:10.003Z"
      },
      {
        "duration": 9,
        "start_time": "2021-12-30T12:59:10.065Z"
      },
      {
        "duration": 10,
        "start_time": "2021-12-30T12:59:10.075Z"
      },
      {
        "duration": 1223,
        "start_time": "2021-12-30T13:02:12.064Z"
      },
      {
        "duration": 12,
        "start_time": "2021-12-30T13:02:13.289Z"
      },
      {
        "duration": 21,
        "start_time": "2021-12-30T13:02:13.304Z"
      },
      {
        "duration": 20,
        "start_time": "2021-12-30T13:02:13.327Z"
      },
      {
        "duration": 31,
        "start_time": "2021-12-30T13:02:13.349Z"
      },
      {
        "duration": 14,
        "start_time": "2021-12-30T13:02:13.382Z"
      },
      {
        "duration": 14,
        "start_time": "2021-12-30T13:02:13.398Z"
      },
      {
        "duration": 11,
        "start_time": "2021-12-30T13:02:13.442Z"
      },
      {
        "duration": 6,
        "start_time": "2021-12-30T13:02:13.456Z"
      },
      {
        "duration": 22,
        "start_time": "2021-12-30T13:02:13.463Z"
      },
      {
        "duration": 11,
        "start_time": "2021-12-30T13:02:13.486Z"
      },
      {
        "duration": 59,
        "start_time": "2021-12-30T13:02:13.499Z"
      },
      {
        "duration": 8,
        "start_time": "2021-12-30T13:02:13.559Z"
      },
      {
        "duration": 7,
        "start_time": "2021-12-30T13:02:13.569Z"
      },
      {
        "duration": 331,
        "start_time": "2021-12-30T13:09:50.579Z"
      },
      {
        "duration": 15,
        "start_time": "2021-12-30T13:10:20.844Z"
      },
      {
        "duration": 1238,
        "start_time": "2021-12-30T13:19:32.894Z"
      },
      {
        "duration": 11,
        "start_time": "2021-12-30T13:19:34.134Z"
      },
      {
        "duration": 19,
        "start_time": "2021-12-30T13:19:34.147Z"
      },
      {
        "duration": 14,
        "start_time": "2021-12-30T13:19:34.167Z"
      },
      {
        "duration": 29,
        "start_time": "2021-12-30T13:19:34.183Z"
      },
      {
        "duration": 28,
        "start_time": "2021-12-30T13:19:34.214Z"
      },
      {
        "duration": 14,
        "start_time": "2021-12-30T13:19:34.244Z"
      },
      {
        "duration": 11,
        "start_time": "2021-12-30T13:19:34.259Z"
      },
      {
        "duration": 9,
        "start_time": "2021-12-30T13:19:34.272Z"
      },
      {
        "duration": 17,
        "start_time": "2021-12-30T13:19:34.283Z"
      },
      {
        "duration": 12,
        "start_time": "2021-12-30T13:19:34.302Z"
      },
      {
        "duration": 48,
        "start_time": "2021-12-30T13:19:34.316Z"
      },
      {
        "duration": 14,
        "start_time": "2021-12-30T13:19:34.366Z"
      },
      {
        "duration": 17,
        "start_time": "2021-12-30T13:21:45.622Z"
      },
      {
        "duration": 17,
        "start_time": "2021-12-30T13:22:02.218Z"
      },
      {
        "duration": 328,
        "start_time": "2021-12-30T13:25:30.145Z"
      },
      {
        "duration": 228,
        "start_time": "2021-12-30T13:25:43.683Z"
      },
      {
        "duration": 211,
        "start_time": "2021-12-30T13:26:00.379Z"
      },
      {
        "duration": 211,
        "start_time": "2021-12-30T13:26:12.634Z"
      },
      {
        "duration": 8,
        "start_time": "2021-12-30T13:29:21.205Z"
      },
      {
        "duration": 274,
        "start_time": "2021-12-30T13:30:01.345Z"
      },
      {
        "duration": 204,
        "start_time": "2021-12-30T13:32:39.430Z"
      },
      {
        "duration": 230,
        "start_time": "2021-12-30T13:33:00.843Z"
      },
      {
        "duration": 198,
        "start_time": "2021-12-30T13:33:08.725Z"
      },
      {
        "duration": 208,
        "start_time": "2021-12-30T13:33:15.235Z"
      },
      {
        "duration": 156,
        "start_time": "2021-12-30T13:33:48.452Z"
      },
      {
        "duration": 149,
        "start_time": "2021-12-30T13:34:08.612Z"
      },
      {
        "duration": 158,
        "start_time": "2021-12-30T13:35:53.233Z"
      },
      {
        "duration": 10,
        "start_time": "2021-12-30T13:36:47.638Z"
      },
      {
        "duration": 291,
        "start_time": "2021-12-30T13:37:16.743Z"
      },
      {
        "duration": 9,
        "start_time": "2021-12-30T13:37:28.007Z"
      },
      {
        "duration": 9,
        "start_time": "2021-12-30T13:46:17.073Z"
      },
      {
        "duration": 7,
        "start_time": "2021-12-30T13:46:51.760Z"
      },
      {
        "duration": 373,
        "start_time": "2021-12-30T13:48:28.267Z"
      },
      {
        "duration": 83,
        "start_time": "2021-12-30T13:51:45.167Z"
      },
      {
        "duration": 249,
        "start_time": "2021-12-30T13:51:54.960Z"
      },
      {
        "duration": 792,
        "start_time": "2021-12-30T13:52:38.321Z"
      },
      {
        "duration": 208,
        "start_time": "2021-12-30T13:53:17.578Z"
      },
      {
        "duration": 268,
        "start_time": "2021-12-30T13:53:37.142Z"
      },
      {
        "duration": 177,
        "start_time": "2021-12-30T13:53:45.821Z"
      },
      {
        "duration": 1155,
        "start_time": "2021-12-30T14:07:14.705Z"
      },
      {
        "duration": 9,
        "start_time": "2021-12-30T14:07:15.862Z"
      },
      {
        "duration": 15,
        "start_time": "2021-12-30T14:07:15.875Z"
      },
      {
        "duration": 15,
        "start_time": "2021-12-30T14:07:15.891Z"
      },
      {
        "duration": 51,
        "start_time": "2021-12-30T14:07:15.907Z"
      },
      {
        "duration": 11,
        "start_time": "2021-12-30T14:07:15.959Z"
      },
      {
        "duration": 13,
        "start_time": "2021-12-30T14:07:15.972Z"
      },
      {
        "duration": 7,
        "start_time": "2021-12-30T14:07:15.987Z"
      },
      {
        "duration": 5,
        "start_time": "2021-12-30T14:07:15.996Z"
      },
      {
        "duration": 43,
        "start_time": "2021-12-30T14:07:16.002Z"
      },
      {
        "duration": 25,
        "start_time": "2021-12-30T14:07:16.047Z"
      },
      {
        "duration": 7,
        "start_time": "2021-12-30T14:07:16.074Z"
      },
      {
        "duration": 12,
        "start_time": "2021-12-30T14:07:16.082Z"
      },
      {
        "duration": 15,
        "start_time": "2021-12-30T14:07:16.096Z"
      },
      {
        "duration": 196,
        "start_time": "2021-12-30T14:07:16.112Z"
      },
      {
        "duration": 11,
        "start_time": "2021-12-30T14:07:16.311Z"
      },
      {
        "duration": 285,
        "start_time": "2021-12-30T14:12:21.420Z"
      },
      {
        "duration": 163,
        "start_time": "2021-12-30T14:14:18.366Z"
      },
      {
        "duration": 1184,
        "start_time": "2021-12-30T14:14:48.709Z"
      },
      {
        "duration": 9,
        "start_time": "2021-12-30T14:14:49.895Z"
      },
      {
        "duration": 18,
        "start_time": "2021-12-30T14:14:49.906Z"
      },
      {
        "duration": 16,
        "start_time": "2021-12-30T14:14:49.926Z"
      },
      {
        "duration": 27,
        "start_time": "2021-12-30T14:14:49.943Z"
      },
      {
        "duration": 12,
        "start_time": "2021-12-30T14:14:49.972Z"
      },
      {
        "duration": 13,
        "start_time": "2021-12-30T14:14:49.986Z"
      },
      {
        "duration": 9,
        "start_time": "2021-12-30T14:14:50.000Z"
      },
      {
        "duration": 33,
        "start_time": "2021-12-30T14:14:50.013Z"
      },
      {
        "duration": 24,
        "start_time": "2021-12-30T14:14:50.048Z"
      },
      {
        "duration": 26,
        "start_time": "2021-12-30T14:14:50.074Z"
      },
      {
        "duration": 9,
        "start_time": "2021-12-30T14:14:50.102Z"
      },
      {
        "duration": 32,
        "start_time": "2021-12-30T14:14:50.113Z"
      },
      {
        "duration": 16,
        "start_time": "2021-12-30T14:14:50.147Z"
      },
      {
        "duration": 202,
        "start_time": "2021-12-30T14:14:50.165Z"
      },
      {
        "duration": 14,
        "start_time": "2021-12-30T14:14:50.369Z"
      },
      {
        "duration": 162,
        "start_time": "2021-12-30T14:16:54.768Z"
      },
      {
        "duration": 268,
        "start_time": "2021-12-30T14:17:53.906Z"
      },
      {
        "duration": 315,
        "start_time": "2021-12-30T14:19:04.866Z"
      },
      {
        "duration": 285,
        "start_time": "2021-12-30T14:20:25.666Z"
      },
      {
        "duration": 237,
        "start_time": "2021-12-30T14:20:56.697Z"
      },
      {
        "duration": 16,
        "start_time": "2021-12-30T14:22:13.231Z"
      },
      {
        "duration": 3,
        "start_time": "2021-12-30T14:22:46.803Z"
      },
      {
        "duration": 16,
        "start_time": "2021-12-30T14:33:05.014Z"
      },
      {
        "duration": 5730,
        "start_time": "2021-12-30T14:40:01.076Z"
      },
      {
        "duration": 5044,
        "start_time": "2021-12-30T14:40:23.669Z"
      },
      {
        "duration": 5041,
        "start_time": "2021-12-30T14:40:42.472Z"
      },
      {
        "duration": 7,
        "start_time": "2021-12-30T14:41:40.764Z"
      },
      {
        "duration": 8,
        "start_time": "2021-12-30T14:41:53.719Z"
      },
      {
        "duration": 77,
        "start_time": "2021-12-30T14:42:12.338Z"
      },
      {
        "duration": 9,
        "start_time": "2021-12-30T14:42:58.781Z"
      },
      {
        "duration": 63,
        "start_time": "2021-12-30T14:48:38.565Z"
      },
      {
        "duration": 66,
        "start_time": "2021-12-30T14:52:44.188Z"
      },
      {
        "duration": 363,
        "start_time": "2021-12-30T14:53:05.359Z"
      },
      {
        "duration": 88,
        "start_time": "2021-12-30T14:53:22.025Z"
      },
      {
        "duration": 373,
        "start_time": "2021-12-30T14:54:18.223Z"
      },
      {
        "duration": 1198,
        "start_time": "2021-12-30T14:54:23.817Z"
      },
      {
        "duration": 10,
        "start_time": "2021-12-30T14:54:25.017Z"
      },
      {
        "duration": 16,
        "start_time": "2021-12-30T14:54:25.029Z"
      },
      {
        "duration": 15,
        "start_time": "2021-12-30T14:54:25.047Z"
      },
      {
        "duration": 28,
        "start_time": "2021-12-30T14:54:25.064Z"
      },
      {
        "duration": 12,
        "start_time": "2021-12-30T14:54:25.094Z"
      },
      {
        "duration": 34,
        "start_time": "2021-12-30T14:54:25.108Z"
      },
      {
        "duration": 9,
        "start_time": "2021-12-30T14:54:25.145Z"
      },
      {
        "duration": 6,
        "start_time": "2021-12-30T14:54:25.156Z"
      },
      {
        "duration": 23,
        "start_time": "2021-12-30T14:54:25.163Z"
      },
      {
        "duration": 26,
        "start_time": "2021-12-30T14:54:25.188Z"
      },
      {
        "duration": 33,
        "start_time": "2021-12-30T14:54:25.216Z"
      },
      {
        "duration": 6,
        "start_time": "2021-12-30T14:54:25.251Z"
      },
      {
        "duration": 16,
        "start_time": "2021-12-30T14:54:25.259Z"
      },
      {
        "duration": 292,
        "start_time": "2021-12-30T14:54:25.277Z"
      },
      {
        "duration": 2,
        "start_time": "2021-12-30T14:54:25.571Z"
      },
      {
        "duration": 29,
        "start_time": "2021-12-30T14:54:25.575Z"
      },
      {
        "duration": 898,
        "start_time": "2021-12-30T14:54:25.606Z"
      },
      {
        "duration": 500,
        "start_time": "2021-12-30T14:56:05.192Z"
      },
      {
        "duration": 311,
        "start_time": "2021-12-30T14:57:51.950Z"
      },
      {
        "duration": 507,
        "start_time": "2021-12-30T15:00:15.193Z"
      },
      {
        "duration": 329,
        "start_time": "2021-12-30T15:00:39.614Z"
      },
      {
        "duration": 383,
        "start_time": "2021-12-30T15:01:13.312Z"
      },
      {
        "duration": 300,
        "start_time": "2021-12-30T15:01:24.720Z"
      },
      {
        "duration": 373,
        "start_time": "2021-12-30T15:01:53.438Z"
      },
      {
        "duration": 237,
        "start_time": "2021-12-30T15:09:52.789Z"
      },
      {
        "duration": 10,
        "start_time": "2021-12-30T15:10:13.510Z"
      },
      {
        "duration": 43,
        "start_time": "2021-12-30T15:12:00.768Z"
      },
      {
        "duration": 14,
        "start_time": "2021-12-30T15:12:46.049Z"
      },
      {
        "duration": 13,
        "start_time": "2021-12-30T15:13:03.004Z"
      },
      {
        "duration": 269,
        "start_time": "2021-12-30T15:21:25.701Z"
      },
      {
        "duration": 15,
        "start_time": "2021-12-30T15:21:50.270Z"
      },
      {
        "duration": 18,
        "start_time": "2021-12-30T15:22:03.295Z"
      },
      {
        "duration": 16,
        "start_time": "2021-12-30T15:24:16.408Z"
      },
      {
        "duration": 215,
        "start_time": "2021-12-30T15:28:32.865Z"
      },
      {
        "duration": 19,
        "start_time": "2021-12-30T15:28:45.224Z"
      },
      {
        "duration": 975,
        "start_time": "2021-12-30T15:36:19.895Z"
      },
      {
        "duration": 1080,
        "start_time": "2021-12-30T15:38:25.904Z"
      },
      {
        "duration": 10,
        "start_time": "2021-12-30T15:38:26.986Z"
      },
      {
        "duration": 14,
        "start_time": "2021-12-30T15:38:26.998Z"
      },
      {
        "duration": 14,
        "start_time": "2021-12-30T15:38:27.014Z"
      },
      {
        "duration": 35,
        "start_time": "2021-12-30T15:38:27.029Z"
      },
      {
        "duration": 11,
        "start_time": "2021-12-30T15:38:27.065Z"
      },
      {
        "duration": 12,
        "start_time": "2021-12-30T15:38:27.078Z"
      },
      {
        "duration": 9,
        "start_time": "2021-12-30T15:38:27.091Z"
      },
      {
        "duration": 8,
        "start_time": "2021-12-30T15:38:27.102Z"
      },
      {
        "duration": 45,
        "start_time": "2021-12-30T15:38:27.112Z"
      },
      {
        "duration": 27,
        "start_time": "2021-12-30T15:38:27.158Z"
      },
      {
        "duration": 5,
        "start_time": "2021-12-30T15:38:27.186Z"
      },
      {
        "duration": 7,
        "start_time": "2021-12-30T15:38:27.193Z"
      },
      {
        "duration": 13,
        "start_time": "2021-12-30T15:38:27.201Z"
      },
      {
        "duration": 266,
        "start_time": "2021-12-30T15:38:27.241Z"
      },
      {
        "duration": 2,
        "start_time": "2021-12-30T15:38:27.509Z"
      },
      {
        "duration": 14,
        "start_time": "2021-12-30T15:38:27.512Z"
      },
      {
        "duration": 322,
        "start_time": "2021-12-30T15:38:27.527Z"
      },
      {
        "duration": 13,
        "start_time": "2021-12-30T15:38:27.850Z"
      },
      {
        "duration": 14,
        "start_time": "2021-12-30T15:38:27.865Z"
      },
      {
        "duration": 7,
        "start_time": "2021-12-30T15:38:27.881Z"
      },
      {
        "duration": 8,
        "start_time": "2021-12-30T15:38:49.501Z"
      },
      {
        "duration": 281,
        "start_time": "2021-12-30T15:40:18.237Z"
      },
      {
        "duration": 12,
        "start_time": "2021-12-30T15:40:37.992Z"
      },
      {
        "duration": 9,
        "start_time": "2021-12-30T15:41:00.849Z"
      },
      {
        "duration": 1149,
        "start_time": "2021-12-30T15:57:05.166Z"
      },
      {
        "duration": 9,
        "start_time": "2021-12-30T15:57:06.317Z"
      },
      {
        "duration": 32,
        "start_time": "2021-12-30T15:57:06.330Z"
      },
      {
        "duration": 15,
        "start_time": "2021-12-30T15:57:06.363Z"
      },
      {
        "duration": 38,
        "start_time": "2021-12-30T15:57:06.380Z"
      },
      {
        "duration": 11,
        "start_time": "2021-12-30T15:57:06.420Z"
      },
      {
        "duration": 23,
        "start_time": "2021-12-30T15:57:06.433Z"
      },
      {
        "duration": 21,
        "start_time": "2021-12-30T15:57:06.459Z"
      },
      {
        "duration": 21,
        "start_time": "2021-12-30T15:57:06.482Z"
      },
      {
        "duration": 32,
        "start_time": "2021-12-30T15:57:06.505Z"
      },
      {
        "duration": 26,
        "start_time": "2021-12-30T15:57:06.539Z"
      },
      {
        "duration": 7,
        "start_time": "2021-12-30T15:57:06.566Z"
      },
      {
        "duration": 19,
        "start_time": "2021-12-30T15:57:06.575Z"
      },
      {
        "duration": 22,
        "start_time": "2021-12-30T15:57:06.596Z"
      },
      {
        "duration": 244,
        "start_time": "2021-12-30T15:57:06.620Z"
      },
      {
        "duration": 3,
        "start_time": "2021-12-30T15:57:06.866Z"
      },
      {
        "duration": 12,
        "start_time": "2021-12-30T15:57:06.871Z"
      },
      {
        "duration": 413,
        "start_time": "2021-12-30T15:57:06.885Z"
      },
      {
        "duration": 16,
        "start_time": "2021-12-30T15:57:07.301Z"
      },
      {
        "duration": 34,
        "start_time": "2021-12-30T15:57:07.319Z"
      },
      {
        "duration": 905,
        "start_time": "2021-12-30T15:57:07.355Z"
      },
      {
        "duration": -80,
        "start_time": "2021-12-30T15:57:08.343Z"
      },
      {
        "duration": 73,
        "start_time": "2021-12-30T16:14:49.926Z"
      },
      {
        "duration": 63,
        "start_time": "2021-12-30T16:15:55.087Z"
      },
      {
        "duration": 920,
        "start_time": "2021-12-30T16:16:01.471Z"
      },
      {
        "duration": 206,
        "start_time": "2021-12-30T16:16:49.812Z"
      },
      {
        "duration": 218,
        "start_time": "2021-12-30T16:16:56.892Z"
      },
      {
        "duration": 194,
        "start_time": "2021-12-30T16:17:07.266Z"
      },
      {
        "duration": 222,
        "start_time": "2021-12-30T16:17:19.296Z"
      },
      {
        "duration": 207,
        "start_time": "2021-12-30T16:17:30.099Z"
      },
      {
        "duration": 9,
        "start_time": "2021-12-30T16:17:38.483Z"
      },
      {
        "duration": 1118,
        "start_time": "2021-12-30T16:20:50.289Z"
      },
      {
        "duration": 10,
        "start_time": "2021-12-30T16:20:51.409Z"
      },
      {
        "duration": 23,
        "start_time": "2021-12-30T16:20:51.421Z"
      },
      {
        "duration": 24,
        "start_time": "2021-12-30T16:20:51.445Z"
      },
      {
        "duration": 30,
        "start_time": "2021-12-30T16:20:51.471Z"
      },
      {
        "duration": 12,
        "start_time": "2021-12-30T16:20:51.502Z"
      },
      {
        "duration": 26,
        "start_time": "2021-12-30T16:20:51.515Z"
      },
      {
        "duration": 12,
        "start_time": "2021-12-30T16:20:51.543Z"
      },
      {
        "duration": 10,
        "start_time": "2021-12-30T16:20:51.557Z"
      },
      {
        "duration": 37,
        "start_time": "2021-12-30T16:20:51.569Z"
      },
      {
        "duration": 25,
        "start_time": "2021-12-30T16:20:51.608Z"
      },
      {
        "duration": 9,
        "start_time": "2021-12-30T16:20:51.634Z"
      },
      {
        "duration": 21,
        "start_time": "2021-12-30T16:20:51.644Z"
      },
      {
        "duration": 23,
        "start_time": "2021-12-30T16:20:51.667Z"
      },
      {
        "duration": 254,
        "start_time": "2021-12-30T16:20:51.692Z"
      },
      {
        "duration": 2,
        "start_time": "2021-12-30T16:20:51.948Z"
      },
      {
        "duration": 34,
        "start_time": "2021-12-30T16:20:51.951Z"
      },
      {
        "duration": 317,
        "start_time": "2021-12-30T16:20:51.986Z"
      },
      {
        "duration": 18,
        "start_time": "2021-12-30T16:20:52.305Z"
      },
      {
        "duration": 33,
        "start_time": "2021-12-30T16:20:52.325Z"
      },
      {
        "duration": 73,
        "start_time": "2021-12-30T16:20:52.361Z"
      },
      {
        "duration": -19,
        "start_time": "2021-12-30T16:20:52.455Z"
      },
      {
        "duration": 917,
        "start_time": "2021-12-30T16:21:33.329Z"
      },
      {
        "duration": 814,
        "start_time": "2021-12-30T16:21:45.505Z"
      },
      {
        "duration": 11,
        "start_time": "2021-12-30T16:23:48.410Z"
      },
      {
        "duration": 144,
        "start_time": "2021-12-30T16:24:57.500Z"
      },
      {
        "duration": 491,
        "start_time": "2021-12-30T16:26:01.079Z"
      },
      {
        "duration": 11,
        "start_time": "2021-12-30T16:26:29.220Z"
      },
      {
        "duration": 381,
        "start_time": "2021-12-30T16:26:31.684Z"
      },
      {
        "duration": 364,
        "start_time": "2021-12-30T16:27:07.822Z"
      },
      {
        "duration": 7,
        "start_time": "2021-12-30T16:30:34.850Z"
      },
      {
        "duration": 7,
        "start_time": "2021-12-30T16:30:42.885Z"
      },
      {
        "duration": 6,
        "start_time": "2021-12-30T16:31:52.993Z"
      },
      {
        "duration": 6,
        "start_time": "2021-12-30T16:31:57.098Z"
      },
      {
        "duration": 6,
        "start_time": "2021-12-30T16:32:17.255Z"
      },
      {
        "duration": 204,
        "start_time": "2021-12-30T16:32:29.207Z"
      },
      {
        "duration": 5,
        "start_time": "2021-12-30T16:33:39.393Z"
      },
      {
        "duration": 1208,
        "start_time": "2021-12-30T16:36:18.855Z"
      },
      {
        "duration": 10,
        "start_time": "2021-12-30T16:36:20.065Z"
      },
      {
        "duration": 15,
        "start_time": "2021-12-30T16:36:20.078Z"
      },
      {
        "duration": 19,
        "start_time": "2021-12-30T16:36:20.095Z"
      },
      {
        "duration": 36,
        "start_time": "2021-12-30T16:36:20.115Z"
      },
      {
        "duration": 11,
        "start_time": "2021-12-30T16:36:20.152Z"
      },
      {
        "duration": 23,
        "start_time": "2021-12-30T16:36:20.165Z"
      },
      {
        "duration": 17,
        "start_time": "2021-12-30T16:36:20.190Z"
      },
      {
        "duration": 6,
        "start_time": "2021-12-30T16:36:20.209Z"
      },
      {
        "duration": 31,
        "start_time": "2021-12-30T16:36:20.217Z"
      },
      {
        "duration": 26,
        "start_time": "2021-12-30T16:36:20.250Z"
      },
      {
        "duration": 8,
        "start_time": "2021-12-30T16:36:20.278Z"
      },
      {
        "duration": 14,
        "start_time": "2021-12-30T16:36:20.288Z"
      },
      {
        "duration": 39,
        "start_time": "2021-12-30T16:36:20.303Z"
      },
      {
        "duration": 273,
        "start_time": "2021-12-30T16:36:20.344Z"
      },
      {
        "duration": 2,
        "start_time": "2021-12-30T16:36:20.619Z"
      },
      {
        "duration": 24,
        "start_time": "2021-12-30T16:36:20.623Z"
      },
      {
        "duration": 307,
        "start_time": "2021-12-30T16:36:20.649Z"
      },
      {
        "duration": 16,
        "start_time": "2021-12-30T16:36:20.958Z"
      },
      {
        "duration": 17,
        "start_time": "2021-12-30T16:36:20.976Z"
      },
      {
        "duration": 11,
        "start_time": "2021-12-30T16:36:20.995Z"
      },
      {
        "duration": 33,
        "start_time": "2021-12-30T16:36:21.008Z"
      },
      {
        "duration": 351,
        "start_time": "2021-12-30T16:36:21.043Z"
      },
      {
        "duration": 9,
        "start_time": "2021-12-30T16:37:38.107Z"
      },
      {
        "duration": 9,
        "start_time": "2021-12-30T16:38:03.589Z"
      },
      {
        "duration": 12,
        "start_time": "2021-12-30T16:38:09.735Z"
      },
      {
        "duration": 9,
        "start_time": "2021-12-30T16:39:01.304Z"
      },
      {
        "duration": 9,
        "start_time": "2021-12-30T16:39:22.441Z"
      },
      {
        "duration": 10,
        "start_time": "2021-12-30T16:39:32.145Z"
      },
      {
        "duration": 10,
        "start_time": "2021-12-30T16:39:39.710Z"
      },
      {
        "duration": 5,
        "start_time": "2021-12-30T16:40:02.479Z"
      },
      {
        "duration": 377,
        "start_time": "2021-12-30T16:40:37.366Z"
      },
      {
        "duration": 10,
        "start_time": "2021-12-30T16:40:49.298Z"
      },
      {
        "duration": 11,
        "start_time": "2021-12-30T16:42:01.143Z"
      },
      {
        "duration": 9,
        "start_time": "2021-12-30T16:42:12.881Z"
      },
      {
        "duration": 11,
        "start_time": "2021-12-30T16:42:23.264Z"
      },
      {
        "duration": 20,
        "start_time": "2021-12-30T16:43:01.976Z"
      },
      {
        "duration": 20,
        "start_time": "2021-12-30T16:43:20.528Z"
      },
      {
        "duration": 8,
        "start_time": "2021-12-30T16:43:40.087Z"
      },
      {
        "duration": 8,
        "start_time": "2021-12-30T16:44:31.704Z"
      },
      {
        "duration": 10,
        "start_time": "2021-12-30T16:44:57.187Z"
      },
      {
        "duration": 9,
        "start_time": "2021-12-30T16:45:05.625Z"
      },
      {
        "duration": 8,
        "start_time": "2021-12-30T16:45:15.434Z"
      },
      {
        "duration": 8,
        "start_time": "2021-12-30T16:46:16.891Z"
      },
      {
        "duration": 311,
        "start_time": "2021-12-30T16:47:07.510Z"
      },
      {
        "duration": 303,
        "start_time": "2021-12-30T16:47:44.321Z"
      },
      {
        "duration": 348,
        "start_time": "2021-12-30T16:47:58.280Z"
      },
      {
        "duration": 255,
        "start_time": "2021-12-30T16:48:06.012Z"
      },
      {
        "duration": 29,
        "start_time": "2021-12-30T16:53:47.309Z"
      },
      {
        "duration": 248,
        "start_time": "2021-12-30T17:07:24.393Z"
      },
      {
        "duration": 266,
        "start_time": "2021-12-30T17:07:39.878Z"
      },
      {
        "duration": 260,
        "start_time": "2021-12-30T17:07:44.820Z"
      },
      {
        "duration": 247,
        "start_time": "2021-12-30T17:08:21.451Z"
      },
      {
        "duration": 394,
        "start_time": "2021-12-30T17:10:20.441Z"
      },
      {
        "duration": 523,
        "start_time": "2021-12-30T17:10:39.960Z"
      },
      {
        "duration": 340,
        "start_time": "2021-12-30T17:11:04.661Z"
      },
      {
        "duration": 306,
        "start_time": "2021-12-30T17:11:15.511Z"
      },
      {
        "duration": 254,
        "start_time": "2021-12-30T17:11:19.785Z"
      },
      {
        "duration": 286,
        "start_time": "2021-12-30T17:11:24.893Z"
      },
      {
        "duration": 327,
        "start_time": "2021-12-30T17:11:40.064Z"
      },
      {
        "duration": 463,
        "start_time": "2021-12-30T17:12:08.126Z"
      },
      {
        "duration": 500,
        "start_time": "2021-12-30T17:12:39.717Z"
      },
      {
        "duration": 590,
        "start_time": "2021-12-30T17:13:25.460Z"
      },
      {
        "duration": 483,
        "start_time": "2021-12-30T17:13:42.184Z"
      },
      {
        "duration": 268,
        "start_time": "2021-12-30T17:14:13.099Z"
      },
      {
        "duration": 266,
        "start_time": "2021-12-30T17:22:06.679Z"
      },
      {
        "duration": 254,
        "start_time": "2021-12-30T17:24:08.499Z"
      },
      {
        "duration": 3,
        "start_time": "2021-12-30T17:24:17.111Z"
      },
      {
        "duration": 1165,
        "start_time": "2021-12-30T17:24:17.116Z"
      },
      {
        "duration": 11,
        "start_time": "2021-12-30T17:24:18.283Z"
      },
      {
        "duration": 15,
        "start_time": "2021-12-30T17:24:18.298Z"
      },
      {
        "duration": 27,
        "start_time": "2021-12-30T17:24:18.315Z"
      },
      {
        "duration": 27,
        "start_time": "2021-12-30T17:24:18.344Z"
      },
      {
        "duration": 13,
        "start_time": "2021-12-30T17:24:18.373Z"
      },
      {
        "duration": 11,
        "start_time": "2021-12-30T17:24:18.389Z"
      },
      {
        "duration": 9,
        "start_time": "2021-12-30T17:24:18.402Z"
      },
      {
        "duration": 5,
        "start_time": "2021-12-30T17:24:18.442Z"
      },
      {
        "duration": 26,
        "start_time": "2021-12-30T17:24:18.448Z"
      },
      {
        "duration": 26,
        "start_time": "2021-12-30T17:24:18.476Z"
      },
      {
        "duration": 7,
        "start_time": "2021-12-30T17:24:18.503Z"
      },
      {
        "duration": 32,
        "start_time": "2021-12-30T17:24:18.512Z"
      },
      {
        "duration": 14,
        "start_time": "2021-12-30T17:24:18.545Z"
      },
      {
        "duration": 248,
        "start_time": "2021-12-30T17:24:18.561Z"
      },
      {
        "duration": 2,
        "start_time": "2021-12-30T17:24:18.810Z"
      },
      {
        "duration": 11,
        "start_time": "2021-12-30T17:24:18.814Z"
      },
      {
        "duration": 309,
        "start_time": "2021-12-30T17:24:18.827Z"
      },
      {
        "duration": 15,
        "start_time": "2021-12-30T17:24:19.138Z"
      },
      {
        "duration": 15,
        "start_time": "2021-12-30T17:24:19.154Z"
      },
      {
        "duration": 8,
        "start_time": "2021-12-30T17:24:19.171Z"
      },
      {
        "duration": 7,
        "start_time": "2021-12-30T17:24:19.180Z"
      },
      {
        "duration": 334,
        "start_time": "2021-12-30T17:24:19.188Z"
      },
      {
        "duration": 33,
        "start_time": "2021-12-30T17:24:19.524Z"
      },
      {
        "duration": 506,
        "start_time": "2021-12-30T17:24:19.559Z"
      },
      {
        "duration": 262,
        "start_time": "2021-12-30T17:24:20.067Z"
      },
      {
        "duration": 317,
        "start_time": "2021-12-30T17:26:07.199Z"
      },
      {
        "duration": 249,
        "start_time": "2021-12-30T17:26:18.046Z"
      },
      {
        "duration": 251,
        "start_time": "2021-12-30T17:26:40.570Z"
      },
      {
        "duration": 253,
        "start_time": "2021-12-30T17:29:55.447Z"
      },
      {
        "duration": 177,
        "start_time": "2021-12-30T17:30:04.806Z"
      },
      {
        "duration": 180,
        "start_time": "2021-12-30T17:32:21.131Z"
      },
      {
        "duration": 170,
        "start_time": "2021-12-30T17:33:36.426Z"
      },
      {
        "duration": 170,
        "start_time": "2021-12-30T17:33:45.395Z"
      },
      {
        "duration": 277,
        "start_time": "2021-12-30T17:33:52.180Z"
      },
      {
        "duration": 172,
        "start_time": "2021-12-30T17:34:02.838Z"
      },
      {
        "duration": 101,
        "start_time": "2021-12-30T17:40:04.361Z"
      },
      {
        "duration": 64,
        "start_time": "2021-12-30T17:40:13.302Z"
      },
      {
        "duration": 4,
        "start_time": "2021-12-30T17:40:23.563Z"
      },
      {
        "duration": 9,
        "start_time": "2021-12-30T17:51:40.851Z"
      },
      {
        "duration": 7,
        "start_time": "2021-12-30T17:52:12.794Z"
      },
      {
        "duration": 3,
        "start_time": "2021-12-30T18:14:53.019Z"
      },
      {
        "duration": 1138,
        "start_time": "2021-12-30T18:14:53.024Z"
      },
      {
        "duration": 11,
        "start_time": "2021-12-30T18:14:54.164Z"
      },
      {
        "duration": 16,
        "start_time": "2021-12-30T18:14:54.177Z"
      },
      {
        "duration": 16,
        "start_time": "2021-12-30T18:14:54.195Z"
      },
      {
        "duration": 47,
        "start_time": "2021-12-30T18:14:54.213Z"
      },
      {
        "duration": 12,
        "start_time": "2021-12-30T18:14:54.261Z"
      },
      {
        "duration": 18,
        "start_time": "2021-12-30T18:14:54.275Z"
      },
      {
        "duration": 10,
        "start_time": "2021-12-30T18:14:54.295Z"
      },
      {
        "duration": 7,
        "start_time": "2021-12-30T18:14:54.307Z"
      },
      {
        "duration": 35,
        "start_time": "2021-12-30T18:14:54.316Z"
      },
      {
        "duration": 24,
        "start_time": "2021-12-30T18:14:54.353Z"
      },
      {
        "duration": 6,
        "start_time": "2021-12-30T18:14:54.378Z"
      },
      {
        "duration": 8,
        "start_time": "2021-12-30T18:14:54.386Z"
      },
      {
        "duration": 13,
        "start_time": "2021-12-30T18:14:54.395Z"
      },
      {
        "duration": 270,
        "start_time": "2021-12-30T18:14:54.409Z"
      },
      {
        "duration": 2,
        "start_time": "2021-12-30T18:14:54.680Z"
      },
      {
        "duration": 17,
        "start_time": "2021-12-30T18:14:54.684Z"
      },
      {
        "duration": 69,
        "start_time": "2021-12-30T18:14:54.702Z"
      },
      {
        "duration": 7,
        "start_time": "2021-12-30T18:14:54.766Z"
      },
      {
        "duration": 6,
        "start_time": "2021-12-30T18:14:54.768Z"
      },
      {
        "duration": 4,
        "start_time": "2021-12-30T18:14:54.771Z"
      },
      {
        "duration": 3,
        "start_time": "2021-12-30T18:14:54.773Z"
      },
      {
        "duration": -35,
        "start_time": "2021-12-30T18:14:54.812Z"
      },
      {
        "duration": -35,
        "start_time": "2021-12-30T18:14:54.813Z"
      },
      {
        "duration": -36,
        "start_time": "2021-12-30T18:14:54.815Z"
      },
      {
        "duration": -37,
        "start_time": "2021-12-30T18:14:54.816Z"
      },
      {
        "duration": -37,
        "start_time": "2021-12-30T18:14:54.817Z"
      },
      {
        "duration": -38,
        "start_time": "2021-12-30T18:14:54.819Z"
      },
      {
        "duration": -38,
        "start_time": "2021-12-30T18:14:54.820Z"
      },
      {
        "duration": -38,
        "start_time": "2021-12-30T18:14:54.821Z"
      },
      {
        "duration": -39,
        "start_time": "2021-12-30T18:14:54.822Z"
      },
      {
        "duration": 4,
        "start_time": "2021-12-30T18:15:22.729Z"
      },
      {
        "duration": 1170,
        "start_time": "2021-12-30T18:15:22.734Z"
      },
      {
        "duration": 8,
        "start_time": "2021-12-30T18:15:23.906Z"
      },
      {
        "duration": 17,
        "start_time": "2021-12-30T18:15:23.916Z"
      },
      {
        "duration": 13,
        "start_time": "2021-12-30T18:15:23.934Z"
      },
      {
        "duration": 25,
        "start_time": "2021-12-30T18:15:23.949Z"
      },
      {
        "duration": 11,
        "start_time": "2021-12-30T18:15:23.975Z"
      },
      {
        "duration": 13,
        "start_time": "2021-12-30T18:15:23.987Z"
      },
      {
        "duration": 9,
        "start_time": "2021-12-30T18:15:24.002Z"
      },
      {
        "duration": 28,
        "start_time": "2021-12-30T18:15:24.013Z"
      },
      {
        "duration": 20,
        "start_time": "2021-12-30T18:15:24.043Z"
      },
      {
        "duration": 23,
        "start_time": "2021-12-30T18:15:24.064Z"
      },
      {
        "duration": 6,
        "start_time": "2021-12-30T18:15:24.089Z"
      },
      {
        "duration": 7,
        "start_time": "2021-12-30T18:15:24.097Z"
      },
      {
        "duration": 41,
        "start_time": "2021-12-30T18:15:24.105Z"
      },
      {
        "duration": 247,
        "start_time": "2021-12-30T18:15:24.147Z"
      },
      {
        "duration": 2,
        "start_time": "2021-12-30T18:15:24.395Z"
      },
      {
        "duration": 13,
        "start_time": "2021-12-30T18:15:24.399Z"
      },
      {
        "duration": 2,
        "start_time": "2021-12-30T18:15:24.413Z"
      },
      {
        "duration": 5,
        "start_time": "2021-12-30T18:15:24.417Z"
      },
      {
        "duration": 7,
        "start_time": "2021-12-30T18:15:24.441Z"
      },
      {
        "duration": 2,
        "start_time": "2021-12-30T18:15:24.450Z"
      },
      {
        "duration": 76,
        "start_time": "2021-12-30T18:15:24.453Z"
      },
      {
        "duration": 7,
        "start_time": "2021-12-30T18:15:24.524Z"
      },
      {
        "duration": 6,
        "start_time": "2021-12-30T18:15:24.526Z"
      },
      {
        "duration": 5,
        "start_time": "2021-12-30T18:15:24.528Z"
      },
      {
        "duration": 4,
        "start_time": "2021-12-30T18:15:24.530Z"
      },
      {
        "duration": 3,
        "start_time": "2021-12-30T18:15:24.532Z"
      },
      {
        "duration": -3,
        "start_time": "2021-12-30T18:15:24.539Z"
      },
      {
        "duration": -4,
        "start_time": "2021-12-30T18:15:24.541Z"
      },
      {
        "duration": -6,
        "start_time": "2021-12-30T18:15:24.544Z"
      },
      {
        "duration": -7,
        "start_time": "2021-12-30T18:15:24.546Z"
      },
      {
        "duration": 64,
        "start_time": "2021-12-30T18:16:23.268Z"
      },
      {
        "duration": 350,
        "start_time": "2021-12-30T18:17:09.794Z"
      },
      {
        "duration": 310,
        "start_time": "2021-12-30T18:17:45.123Z"
      },
      {
        "duration": 4,
        "start_time": "2021-12-30T18:19:14.874Z"
      },
      {
        "duration": 342,
        "start_time": "2021-12-30T18:19:19.501Z"
      },
      {
        "duration": 4,
        "start_time": "2021-12-30T18:19:44.439Z"
      },
      {
        "duration": 432,
        "start_time": "2021-12-30T18:19:47.121Z"
      },
      {
        "duration": 3,
        "start_time": "2021-12-30T18:20:09.715Z"
      },
      {
        "duration": 288,
        "start_time": "2021-12-30T18:20:10.807Z"
      },
      {
        "duration": 17,
        "start_time": "2021-12-30T18:21:06.443Z"
      },
      {
        "duration": 17,
        "start_time": "2021-12-30T18:21:08.379Z"
      },
      {
        "duration": 10,
        "start_time": "2021-12-30T18:21:34.059Z"
      },
      {
        "duration": 8,
        "start_time": "2021-12-30T18:21:43.874Z"
      },
      {
        "duration": 297,
        "start_time": "2021-12-30T18:22:23.176Z"
      },
      {
        "duration": 452,
        "start_time": "2021-12-30T18:22:30.639Z"
      },
      {
        "duration": 199,
        "start_time": "2021-12-30T18:22:40.965Z"
      },
      {
        "duration": 259,
        "start_time": "2021-12-30T18:22:47.117Z"
      },
      {
        "duration": 8,
        "start_time": "2021-12-30T18:23:08.003Z"
      },
      {
        "duration": 448,
        "start_time": "2021-12-30T18:24:15.605Z"
      },
      {
        "duration": 26,
        "start_time": "2021-12-30T18:25:26.194Z"
      },
      {
        "duration": 459,
        "start_time": "2021-12-30T18:26:51.565Z"
      },
      {
        "duration": 4,
        "start_time": "2021-12-30T18:27:50.268Z"
      },
      {
        "duration": 1147,
        "start_time": "2021-12-30T18:27:50.274Z"
      },
      {
        "duration": 10,
        "start_time": "2021-12-30T18:27:51.424Z"
      },
      {
        "duration": 24,
        "start_time": "2021-12-30T18:27:51.436Z"
      },
      {
        "duration": 16,
        "start_time": "2021-12-30T18:27:51.462Z"
      },
      {
        "duration": 30,
        "start_time": "2021-12-30T18:27:51.480Z"
      },
      {
        "duration": 30,
        "start_time": "2021-12-30T18:27:51.512Z"
      },
      {
        "duration": 12,
        "start_time": "2021-12-30T18:27:51.545Z"
      },
      {
        "duration": 13,
        "start_time": "2021-12-30T18:27:51.560Z"
      },
      {
        "duration": 7,
        "start_time": "2021-12-30T18:27:51.575Z"
      },
      {
        "duration": 26,
        "start_time": "2021-12-30T18:27:51.583Z"
      },
      {
        "duration": 52,
        "start_time": "2021-12-30T18:27:51.611Z"
      },
      {
        "duration": 8,
        "start_time": "2021-12-30T18:27:51.664Z"
      },
      {
        "duration": 13,
        "start_time": "2021-12-30T18:27:51.673Z"
      },
      {
        "duration": 16,
        "start_time": "2021-12-30T18:27:51.688Z"
      },
      {
        "duration": 268,
        "start_time": "2021-12-30T18:27:51.706Z"
      },
      {
        "duration": 2,
        "start_time": "2021-12-30T18:27:51.976Z"
      },
      {
        "duration": 16,
        "start_time": "2021-12-30T18:27:51.980Z"
      },
      {
        "duration": 2,
        "start_time": "2021-12-30T18:27:51.998Z"
      },
      {
        "duration": 8,
        "start_time": "2021-12-30T18:27:52.002Z"
      },
      {
        "duration": 30,
        "start_time": "2021-12-30T18:27:52.012Z"
      },
      {
        "duration": 3,
        "start_time": "2021-12-30T18:27:52.044Z"
      },
      {
        "duration": 5,
        "start_time": "2021-12-30T18:27:52.050Z"
      },
      {
        "duration": 345,
        "start_time": "2021-12-30T18:27:52.057Z"
      },
      {
        "duration": 17,
        "start_time": "2021-12-30T18:27:52.404Z"
      },
      {
        "duration": 35,
        "start_time": "2021-12-30T18:27:52.423Z"
      },
      {
        "duration": 10,
        "start_time": "2021-12-30T18:27:52.460Z"
      },
      {
        "duration": 7,
        "start_time": "2021-12-30T18:27:52.472Z"
      },
      {
        "duration": 433,
        "start_time": "2021-12-30T18:27:52.481Z"
      },
      {
        "duration": 39,
        "start_time": "2021-12-30T18:27:52.916Z"
      },
      {
        "duration": 514,
        "start_time": "2021-12-30T18:27:52.957Z"
      },
      {
        "duration": 200,
        "start_time": "2021-12-30T18:27:53.473Z"
      },
      {
        "duration": 529,
        "start_time": "2021-12-30T18:31:09.385Z"
      },
      {
        "duration": 72,
        "start_time": "2021-12-30T18:32:28.390Z"
      },
      {
        "duration": 447,
        "start_time": "2021-12-30T18:32:37.594Z"
      },
      {
        "duration": 290,
        "start_time": "2021-12-30T18:39:11.001Z"
      },
      {
        "duration": 68,
        "start_time": "2021-12-30T18:39:25.587Z"
      },
      {
        "duration": 4,
        "start_time": "2021-12-30T18:39:53.122Z"
      },
      {
        "duration": 1302,
        "start_time": "2021-12-30T18:39:53.128Z"
      },
      {
        "duration": 10,
        "start_time": "2021-12-30T18:39:54.432Z"
      },
      {
        "duration": 18,
        "start_time": "2021-12-30T18:39:54.444Z"
      },
      {
        "duration": 15,
        "start_time": "2021-12-30T18:39:54.464Z"
      },
      {
        "duration": 27,
        "start_time": "2021-12-30T18:39:54.481Z"
      },
      {
        "duration": 11,
        "start_time": "2021-12-30T18:39:54.510Z"
      },
      {
        "duration": 12,
        "start_time": "2021-12-30T18:39:54.523Z"
      },
      {
        "duration": 10,
        "start_time": "2021-12-30T18:39:54.538Z"
      },
      {
        "duration": 5,
        "start_time": "2021-12-30T18:39:54.550Z"
      },
      {
        "duration": 21,
        "start_time": "2021-12-30T18:39:54.557Z"
      },
      {
        "duration": 26,
        "start_time": "2021-12-30T18:39:54.580Z"
      },
      {
        "duration": 7,
        "start_time": "2021-12-30T18:39:54.608Z"
      },
      {
        "duration": 7,
        "start_time": "2021-12-30T18:39:54.617Z"
      },
      {
        "duration": 25,
        "start_time": "2021-12-30T18:39:54.625Z"
      },
      {
        "duration": 263,
        "start_time": "2021-12-30T18:39:54.651Z"
      },
      {
        "duration": 3,
        "start_time": "2021-12-30T18:39:54.915Z"
      },
      {
        "duration": 15,
        "start_time": "2021-12-30T18:39:54.919Z"
      },
      {
        "duration": 2,
        "start_time": "2021-12-30T18:39:54.936Z"
      },
      {
        "duration": 3,
        "start_time": "2021-12-30T18:39:54.941Z"
      },
      {
        "duration": 10,
        "start_time": "2021-12-30T18:39:54.946Z"
      },
      {
        "duration": 2,
        "start_time": "2021-12-30T18:39:54.958Z"
      },
      {
        "duration": 8,
        "start_time": "2021-12-30T18:39:54.961Z"
      },
      {
        "duration": 412,
        "start_time": "2021-12-30T18:39:54.970Z"
      },
      {
        "duration": 17,
        "start_time": "2021-12-30T18:39:55.384Z"
      },
      {
        "duration": 51,
        "start_time": "2021-12-30T18:39:55.402Z"
      },
      {
        "duration": 10,
        "start_time": "2021-12-30T18:39:55.457Z"
      },
      {
        "duration": 74,
        "start_time": "2021-12-30T18:39:55.469Z"
      },
      {
        "duration": 3,
        "start_time": "2021-12-30T18:39:55.542Z"
      },
      {
        "duration": 2,
        "start_time": "2021-12-30T18:39:55.544Z"
      },
      {
        "duration": 2,
        "start_time": "2021-12-30T18:39:55.545Z"
      },
      {
        "duration": 1,
        "start_time": "2021-12-30T18:39:55.547Z"
      },
      {
        "duration": 66,
        "start_time": "2021-12-30T18:41:06.241Z"
      },
      {
        "duration": 86,
        "start_time": "2021-12-30T18:41:24.228Z"
      },
      {
        "duration": 68,
        "start_time": "2021-12-30T18:41:37.426Z"
      },
      {
        "duration": 11,
        "start_time": "2021-12-30T18:41:49.257Z"
      },
      {
        "duration": 588,
        "start_time": "2021-12-30T18:41:59.014Z"
      },
      {
        "duration": 41,
        "start_time": "2021-12-30T18:42:06.890Z"
      },
      {
        "duration": 443,
        "start_time": "2021-12-30T18:42:11.425Z"
      },
      {
        "duration": 249,
        "start_time": "2021-12-30T18:42:32.820Z"
      },
      {
        "duration": 171,
        "start_time": "2021-12-30T18:43:39.034Z"
      },
      {
        "duration": 173,
        "start_time": "2021-12-30T18:43:56.973Z"
      },
      {
        "duration": 286,
        "start_time": "2021-12-30T18:44:17.258Z"
      },
      {
        "duration": 162,
        "start_time": "2021-12-30T18:44:25.479Z"
      },
      {
        "duration": 164,
        "start_time": "2021-12-30T18:45:29.129Z"
      },
      {
        "duration": 159,
        "start_time": "2021-12-30T18:45:43.568Z"
      },
      {
        "duration": 168,
        "start_time": "2021-12-30T18:47:30.803Z"
      },
      {
        "duration": 165,
        "start_time": "2021-12-30T18:48:05.212Z"
      },
      {
        "duration": 164,
        "start_time": "2021-12-30T18:48:24.590Z"
      },
      {
        "duration": 10,
        "start_time": "2021-12-30T18:49:33.756Z"
      },
      {
        "duration": 11,
        "start_time": "2021-12-30T18:50:04.408Z"
      },
      {
        "duration": 10,
        "start_time": "2021-12-30T18:50:22.288Z"
      },
      {
        "duration": 12,
        "start_time": "2021-12-30T18:50:29.476Z"
      },
      {
        "duration": 10,
        "start_time": "2021-12-30T18:50:39.345Z"
      },
      {
        "duration": 1866,
        "start_time": "2021-12-30T18:50:49.658Z"
      },
      {
        "duration": 396,
        "start_time": "2021-12-30T18:55:05.476Z"
      },
      {
        "duration": 392,
        "start_time": "2021-12-30T18:55:21.479Z"
      },
      {
        "duration": 403,
        "start_time": "2021-12-30T18:56:59.681Z"
      },
      {
        "duration": 5,
        "start_time": "2021-12-30T19:16:24.088Z"
      },
      {
        "duration": 274,
        "start_time": "2021-12-30T19:16:26.127Z"
      },
      {
        "duration": 398,
        "start_time": "2021-12-30T19:16:43.075Z"
      },
      {
        "duration": 512,
        "start_time": "2021-12-30T19:19:57.695Z"
      },
      {
        "duration": 462,
        "start_time": "2021-12-30T19:20:04.464Z"
      },
      {
        "duration": 4,
        "start_time": "2021-12-30T19:22:56.578Z"
      },
      {
        "duration": 5,
        "start_time": "2021-12-30T19:24:02.464Z"
      },
      {
        "duration": 6,
        "start_time": "2021-12-30T19:27:51.135Z"
      },
      {
        "duration": 434,
        "start_time": "2021-12-30T19:27:53.246Z"
      },
      {
        "duration": 497,
        "start_time": "2021-12-30T19:28:32.854Z"
      },
      {
        "duration": 70,
        "start_time": "2021-12-30T19:29:14.597Z"
      },
      {
        "duration": 430,
        "start_time": "2021-12-30T19:29:29.530Z"
      },
      {
        "duration": 457,
        "start_time": "2021-12-30T19:30:17.035Z"
      },
      {
        "duration": 419,
        "start_time": "2021-12-30T19:31:02.772Z"
      },
      {
        "duration": 5,
        "start_time": "2021-12-30T19:31:14.457Z"
      },
      {
        "duration": 5,
        "start_time": "2021-12-30T19:32:05.634Z"
      },
      {
        "duration": 9,
        "start_time": "2021-12-30T19:36:46.906Z"
      },
      {
        "duration": 211,
        "start_time": "2021-12-30T19:40:33.383Z"
      },
      {
        "duration": 17,
        "start_time": "2021-12-30T19:40:57.152Z"
      },
      {
        "duration": 248,
        "start_time": "2021-12-30T19:41:43.423Z"
      },
      {
        "duration": 119,
        "start_time": "2021-12-30T19:42:52.995Z"
      },
      {
        "duration": 38,
        "start_time": "2021-12-30T19:44:17.765Z"
      },
      {
        "duration": 280,
        "start_time": "2021-12-30T20:01:30.249Z"
      },
      {
        "duration": 2875,
        "start_time": "2021-12-30T20:02:42.136Z"
      },
      {
        "duration": 2770,
        "start_time": "2021-12-30T20:02:47.212Z"
      },
      {
        "duration": 190,
        "start_time": "2021-12-30T20:03:19.931Z"
      },
      {
        "duration": 3,
        "start_time": "2021-12-30T20:03:30.630Z"
      },
      {
        "duration": 5,
        "start_time": "2021-12-30T20:03:37.295Z"
      },
      {
        "duration": 16,
        "start_time": "2021-12-30T20:07:04.715Z"
      },
      {
        "duration": 223,
        "start_time": "2021-12-30T20:07:22.919Z"
      },
      {
        "duration": 11,
        "start_time": "2021-12-30T20:07:27.197Z"
      },
      {
        "duration": 14,
        "start_time": "2021-12-30T20:07:38.597Z"
      },
      {
        "duration": 205,
        "start_time": "2021-12-30T20:07:48.242Z"
      },
      {
        "duration": 212,
        "start_time": "2021-12-30T20:08:11.767Z"
      },
      {
        "duration": 147,
        "start_time": "2021-12-30T20:08:22.740Z"
      },
      {
        "duration": 243,
        "start_time": "2021-12-30T20:09:07.953Z"
      },
      {
        "duration": 186,
        "start_time": "2021-12-30T20:09:35.720Z"
      },
      {
        "duration": 351,
        "start_time": "2021-12-30T20:10:00.199Z"
      },
      {
        "duration": 238,
        "start_time": "2021-12-30T20:10:56.077Z"
      },
      {
        "duration": 249,
        "start_time": "2021-12-30T20:11:28.132Z"
      },
      {
        "duration": 204,
        "start_time": "2021-12-30T20:12:01.905Z"
      },
      {
        "duration": 240,
        "start_time": "2021-12-30T20:12:10.637Z"
      },
      {
        "duration": 92,
        "start_time": "2021-12-30T20:12:54.665Z"
      },
      {
        "duration": 68,
        "start_time": "2021-12-30T20:13:06.263Z"
      },
      {
        "duration": 63,
        "start_time": "2021-12-30T20:13:17.201Z"
      },
      {
        "duration": 71,
        "start_time": "2021-12-30T20:13:22.965Z"
      },
      {
        "duration": 74,
        "start_time": "2021-12-30T20:13:43.618Z"
      },
      {
        "duration": 241,
        "start_time": "2021-12-30T20:13:50.725Z"
      },
      {
        "duration": 237,
        "start_time": "2021-12-30T20:13:55.984Z"
      },
      {
        "duration": 252,
        "start_time": "2021-12-30T20:14:31.991Z"
      },
      {
        "duration": 240,
        "start_time": "2021-12-30T20:14:38.775Z"
      },
      {
        "duration": 243,
        "start_time": "2021-12-30T20:15:00.282Z"
      },
      {
        "duration": 339,
        "start_time": "2021-12-30T20:16:01.725Z"
      },
      {
        "duration": 106,
        "start_time": "2021-12-30T20:16:27.218Z"
      },
      {
        "duration": 241,
        "start_time": "2021-12-30T20:16:35.728Z"
      },
      {
        "duration": 241,
        "start_time": "2021-12-30T20:24:10.952Z"
      },
      {
        "duration": 194,
        "start_time": "2021-12-30T20:36:06.349Z"
      },
      {
        "duration": 9,
        "start_time": "2021-12-30T20:36:27.207Z"
      },
      {
        "duration": 199,
        "start_time": "2021-12-30T20:40:52.238Z"
      },
      {
        "duration": 191,
        "start_time": "2021-12-30T20:41:08.929Z"
      },
      {
        "duration": 204,
        "start_time": "2021-12-30T20:41:19.991Z"
      },
      {
        "duration": 191,
        "start_time": "2021-12-30T20:42:49.025Z"
      },
      {
        "duration": 15,
        "start_time": "2021-12-30T20:44:03.254Z"
      },
      {
        "duration": 10,
        "start_time": "2021-12-30T20:47:47.699Z"
      },
      {
        "duration": 3,
        "start_time": "2021-12-30T20:48:48.558Z"
      },
      {
        "duration": 1520,
        "start_time": "2021-12-30T20:48:48.563Z"
      },
      {
        "duration": 9,
        "start_time": "2021-12-30T20:48:50.085Z"
      },
      {
        "duration": 14,
        "start_time": "2021-12-30T20:48:50.095Z"
      },
      {
        "duration": 14,
        "start_time": "2021-12-30T20:48:50.110Z"
      },
      {
        "duration": 36,
        "start_time": "2021-12-30T20:48:50.126Z"
      },
      {
        "duration": 11,
        "start_time": "2021-12-30T20:48:50.163Z"
      },
      {
        "duration": 12,
        "start_time": "2021-12-30T20:48:50.176Z"
      },
      {
        "duration": 8,
        "start_time": "2021-12-30T20:48:50.190Z"
      },
      {
        "duration": 5,
        "start_time": "2021-12-30T20:48:50.199Z"
      },
      {
        "duration": 51,
        "start_time": "2021-12-30T20:48:50.205Z"
      },
      {
        "duration": 26,
        "start_time": "2021-12-30T20:48:50.258Z"
      },
      {
        "duration": 7,
        "start_time": "2021-12-30T20:48:50.286Z"
      },
      {
        "duration": 7,
        "start_time": "2021-12-30T20:48:50.295Z"
      },
      {
        "duration": 38,
        "start_time": "2021-12-30T20:48:50.304Z"
      },
      {
        "duration": 253,
        "start_time": "2021-12-30T20:48:50.344Z"
      },
      {
        "duration": 2,
        "start_time": "2021-12-30T20:48:50.598Z"
      },
      {
        "duration": 12,
        "start_time": "2021-12-30T20:48:50.602Z"
      },
      {
        "duration": 2,
        "start_time": "2021-12-30T20:48:50.616Z"
      },
      {
        "duration": 21,
        "start_time": "2021-12-30T20:48:50.620Z"
      },
      {
        "duration": 7,
        "start_time": "2021-12-30T20:48:50.642Z"
      },
      {
        "duration": 5,
        "start_time": "2021-12-30T20:48:50.650Z"
      },
      {
        "duration": 8,
        "start_time": "2021-12-30T20:48:50.658Z"
      },
      {
        "duration": 298,
        "start_time": "2021-12-30T20:48:50.668Z"
      },
      {
        "duration": 14,
        "start_time": "2021-12-30T20:48:50.968Z"
      },
      {
        "duration": 15,
        "start_time": "2021-12-30T20:48:50.984Z"
      },
      {
        "duration": 9,
        "start_time": "2021-12-30T20:48:51.000Z"
      },
      {
        "duration": 34,
        "start_time": "2021-12-30T20:48:51.010Z"
      },
      {
        "duration": 342,
        "start_time": "2021-12-30T20:48:51.045Z"
      },
      {
        "duration": 25,
        "start_time": "2021-12-30T20:48:51.390Z"
      },
      {
        "duration": 456,
        "start_time": "2021-12-30T20:48:51.417Z"
      },
      {
        "duration": 189,
        "start_time": "2021-12-30T20:48:51.875Z"
      },
      {
        "duration": 503,
        "start_time": "2021-12-30T20:48:52.066Z"
      },
      {
        "duration": 5,
        "start_time": "2021-12-30T20:48:52.570Z"
      },
      {
        "duration": 480,
        "start_time": "2021-12-30T20:48:52.577Z"
      },
      {
        "duration": 6,
        "start_time": "2021-12-30T20:48:53.059Z"
      },
      {
        "duration": 40,
        "start_time": "2021-12-30T20:48:53.067Z"
      },
      {
        "duration": 277,
        "start_time": "2021-12-30T20:48:53.109Z"
      },
      {
        "duration": 266,
        "start_time": "2021-12-30T20:48:53.388Z"
      },
      {
        "duration": 11,
        "start_time": "2021-12-30T20:48:53.656Z"
      },
      {
        "duration": 12,
        "start_time": "2021-12-30T20:48:53.669Z"
      },
      {
        "duration": 3,
        "start_time": "2021-12-30T20:59:58.520Z"
      },
      {
        "duration": 1159,
        "start_time": "2021-12-30T20:59:58.526Z"
      },
      {
        "duration": 9,
        "start_time": "2021-12-30T20:59:59.687Z"
      },
      {
        "duration": 17,
        "start_time": "2021-12-30T20:59:59.697Z"
      },
      {
        "duration": 17,
        "start_time": "2021-12-30T20:59:59.716Z"
      },
      {
        "duration": 33,
        "start_time": "2021-12-30T20:59:59.734Z"
      },
      {
        "duration": 12,
        "start_time": "2021-12-30T20:59:59.770Z"
      },
      {
        "duration": 12,
        "start_time": "2021-12-30T20:59:59.784Z"
      },
      {
        "duration": 10,
        "start_time": "2021-12-30T20:59:59.797Z"
      },
      {
        "duration": 34,
        "start_time": "2021-12-30T20:59:59.809Z"
      },
      {
        "duration": 19,
        "start_time": "2021-12-30T20:59:59.845Z"
      },
      {
        "duration": 24,
        "start_time": "2021-12-30T20:59:59.866Z"
      },
      {
        "duration": 6,
        "start_time": "2021-12-30T20:59:59.892Z"
      },
      {
        "duration": 6,
        "start_time": "2021-12-30T20:59:59.899Z"
      },
      {
        "duration": 46,
        "start_time": "2021-12-30T20:59:59.906Z"
      },
      {
        "duration": 260,
        "start_time": "2021-12-30T20:59:59.954Z"
      },
      {
        "duration": 3,
        "start_time": "2021-12-30T21:00:00.216Z"
      },
      {
        "duration": 26,
        "start_time": "2021-12-30T21:00:00.220Z"
      },
      {
        "duration": 2,
        "start_time": "2021-12-30T21:00:00.248Z"
      },
      {
        "duration": 12,
        "start_time": "2021-12-30T21:00:00.251Z"
      },
      {
        "duration": 14,
        "start_time": "2021-12-30T21:00:00.264Z"
      },
      {
        "duration": 4,
        "start_time": "2021-12-30T21:00:00.280Z"
      },
      {
        "duration": 5,
        "start_time": "2021-12-30T21:00:00.286Z"
      },
      {
        "duration": 303,
        "start_time": "2021-12-30T21:00:00.293Z"
      },
      {
        "duration": 15,
        "start_time": "2021-12-30T21:00:00.598Z"
      },
      {
        "duration": 36,
        "start_time": "2021-12-30T21:00:00.614Z"
      },
      {
        "duration": 12,
        "start_time": "2021-12-30T21:00:00.652Z"
      },
      {
        "duration": 10,
        "start_time": "2021-12-30T21:00:00.666Z"
      },
      {
        "duration": 356,
        "start_time": "2021-12-30T21:00:00.678Z"
      },
      {
        "duration": 28,
        "start_time": "2021-12-30T21:00:01.036Z"
      },
      {
        "duration": 465,
        "start_time": "2021-12-30T21:00:01.066Z"
      },
      {
        "duration": 198,
        "start_time": "2021-12-30T21:00:01.541Z"
      },
      {
        "duration": 542,
        "start_time": "2021-12-30T21:00:01.741Z"
      },
      {
        "duration": 5,
        "start_time": "2021-12-30T21:00:02.285Z"
      },
      {
        "duration": 522,
        "start_time": "2021-12-30T21:00:02.292Z"
      },
      {
        "duration": 6,
        "start_time": "2021-12-30T21:00:02.816Z"
      },
      {
        "duration": 80,
        "start_time": "2021-12-30T21:00:02.824Z"
      },
      {
        "duration": 352,
        "start_time": "2021-12-30T21:00:02.906Z"
      },
      {
        "duration": 456,
        "start_time": "2021-12-30T21:00:03.261Z"
      },
      {
        "duration": 29,
        "start_time": "2021-12-30T21:00:03.720Z"
      },
      {
        "duration": 18,
        "start_time": "2021-12-30T21:00:03.751Z"
      },
      {
        "duration": 297,
        "start_time": "2021-12-30T21:05:01.563Z"
      },
      {
        "duration": 2,
        "start_time": "2021-12-30T21:05:07.755Z"
      },
      {
        "duration": 187,
        "start_time": "2021-12-30T21:05:09.253Z"
      },
      {
        "duration": 196,
        "start_time": "2021-12-30T21:05:16.061Z"
      },
      {
        "duration": 5322,
        "start_time": "2021-12-30T21:05:26.918Z"
      },
      {
        "duration": 2,
        "start_time": "2021-12-30T21:06:58.216Z"
      },
      {
        "duration": 3,
        "start_time": "2021-12-30T21:07:02.177Z"
      },
      {
        "duration": 5429,
        "start_time": "2021-12-30T21:07:04.786Z"
      },
      {
        "duration": 3,
        "start_time": "2021-12-30T21:07:25.466Z"
      },
      {
        "duration": 5684,
        "start_time": "2021-12-30T21:07:29.950Z"
      },
      {
        "duration": 6297,
        "start_time": "2021-12-30T21:07:57.853Z"
      },
      {
        "duration": 5122,
        "start_time": "2021-12-30T21:10:34.086Z"
      },
      {
        "duration": 3,
        "start_time": "2021-12-30T21:13:22.382Z"
      },
      {
        "duration": 5362,
        "start_time": "2021-12-30T21:13:23.979Z"
      },
      {
        "duration": 12,
        "start_time": "2021-12-30T21:13:38.363Z"
      },
      {
        "duration": 388,
        "start_time": "2021-12-30T21:18:49.711Z"
      },
      {
        "duration": 421,
        "start_time": "2021-12-30T21:19:27.254Z"
      },
      {
        "duration": 3,
        "start_time": "2021-12-30T21:19:33.980Z"
      },
      {
        "duration": 475,
        "start_time": "2021-12-30T21:19:36.438Z"
      },
      {
        "duration": 200,
        "start_time": "2021-12-30T21:22:53.171Z"
      },
      {
        "duration": 23,
        "start_time": "2021-12-30T21:24:48.460Z"
      },
      {
        "duration": 40508,
        "start_time": "2021-12-30T21:25:41.835Z"
      },
      {
        "duration": 50028,
        "start_time": "2021-12-30T21:26:56.289Z"
      },
      {
        "duration": 50969,
        "start_time": "2021-12-30T21:29:04.821Z"
      },
      {
        "duration": 211,
        "start_time": "2021-12-30T21:31:17.887Z"
      },
      {
        "duration": 508,
        "start_time": "2021-12-30T21:31:51.839Z"
      },
      {
        "duration": 156,
        "start_time": "2021-12-30T21:38:14.353Z"
      },
      {
        "duration": 213,
        "start_time": "2021-12-30T21:42:28.828Z"
      },
      {
        "duration": 226,
        "start_time": "2021-12-30T21:43:02.751Z"
      },
      {
        "duration": 220,
        "start_time": "2021-12-30T21:43:15.085Z"
      },
      {
        "duration": 76,
        "start_time": "2021-12-30T21:45:39.516Z"
      },
      {
        "duration": 327,
        "start_time": "2021-12-30T21:45:50.428Z"
      },
      {
        "duration": 122,
        "start_time": "2021-12-30T21:50:01.143Z"
      },
      {
        "duration": 11,
        "start_time": "2021-12-30T21:52:03.639Z"
      },
      {
        "duration": 13,
        "start_time": "2021-12-30T21:55:47.394Z"
      },
      {
        "duration": 11,
        "start_time": "2021-12-30T22:11:11.641Z"
      },
      {
        "duration": 9,
        "start_time": "2021-12-30T22:12:24.345Z"
      },
      {
        "duration": 66,
        "start_time": "2021-12-30T22:13:26.473Z"
      },
      {
        "duration": 6530,
        "start_time": "2021-12-30T22:15:01.847Z"
      },
      {
        "duration": 113,
        "start_time": "2021-12-30T22:15:24.038Z"
      },
      {
        "duration": 3,
        "start_time": "2021-12-30T22:15:39.678Z"
      },
      {
        "duration": 1126,
        "start_time": "2021-12-30T22:15:39.683Z"
      },
      {
        "duration": 10,
        "start_time": "2021-12-30T22:15:40.811Z"
      },
      {
        "duration": 22,
        "start_time": "2021-12-30T22:15:40.822Z"
      },
      {
        "duration": 16,
        "start_time": "2021-12-30T22:15:40.846Z"
      },
      {
        "duration": 28,
        "start_time": "2021-12-30T22:15:40.864Z"
      },
      {
        "duration": 12,
        "start_time": "2021-12-30T22:15:40.894Z"
      },
      {
        "duration": 38,
        "start_time": "2021-12-30T22:15:40.908Z"
      },
      {
        "duration": 11,
        "start_time": "2021-12-30T22:15:40.948Z"
      },
      {
        "duration": 17,
        "start_time": "2021-12-30T22:15:40.961Z"
      },
      {
        "duration": 28,
        "start_time": "2021-12-30T22:15:40.980Z"
      },
      {
        "duration": 35,
        "start_time": "2021-12-30T22:15:41.009Z"
      },
      {
        "duration": 7,
        "start_time": "2021-12-30T22:15:41.046Z"
      },
      {
        "duration": 6,
        "start_time": "2021-12-30T22:15:41.055Z"
      },
      {
        "duration": 23,
        "start_time": "2021-12-30T22:15:41.062Z"
      },
      {
        "duration": 260,
        "start_time": "2021-12-30T22:15:41.087Z"
      },
      {
        "duration": 3,
        "start_time": "2021-12-30T22:15:41.348Z"
      },
      {
        "duration": 15,
        "start_time": "2021-12-30T22:15:41.352Z"
      },
      {
        "duration": 2,
        "start_time": "2021-12-30T22:15:41.368Z"
      },
      {
        "duration": 6,
        "start_time": "2021-12-30T22:15:41.372Z"
      },
      {
        "duration": 11,
        "start_time": "2021-12-30T22:15:41.379Z"
      },
      {
        "duration": 3,
        "start_time": "2021-12-30T22:15:41.391Z"
      },
      {
        "duration": 18,
        "start_time": "2021-12-30T22:15:41.397Z"
      },
      {
        "duration": 324,
        "start_time": "2021-12-30T22:15:41.418Z"
      },
      {
        "duration": 16,
        "start_time": "2021-12-30T22:15:41.743Z"
      },
      {
        "duration": 17,
        "start_time": "2021-12-30T22:15:41.760Z"
      },
      {
        "duration": 9,
        "start_time": "2021-12-30T22:15:41.779Z"
      },
      {
        "duration": 7,
        "start_time": "2021-12-30T22:15:41.790Z"
      },
      {
        "duration": 403,
        "start_time": "2021-12-30T22:15:41.799Z"
      },
      {
        "duration": 26,
        "start_time": "2021-12-30T22:15:42.204Z"
      },
      {
        "duration": 482,
        "start_time": "2021-12-30T22:15:42.232Z"
      },
      {
        "duration": 193,
        "start_time": "2021-12-30T22:15:42.716Z"
      },
      {
        "duration": 532,
        "start_time": "2021-12-30T22:15:42.911Z"
      },
      {
        "duration": 6,
        "start_time": "2021-12-30T22:15:43.445Z"
      },
      {
        "duration": 490,
        "start_time": "2021-12-30T22:15:43.453Z"
      },
      {
        "duration": 6,
        "start_time": "2021-12-30T22:15:43.945Z"
      },
      {
        "duration": 38,
        "start_time": "2021-12-30T22:15:43.953Z"
      },
      {
        "duration": 285,
        "start_time": "2021-12-30T22:15:43.993Z"
      },
      {
        "duration": 276,
        "start_time": "2021-12-30T22:15:44.281Z"
      },
      {
        "duration": 3,
        "start_time": "2021-12-30T22:15:44.559Z"
      },
      {
        "duration": 23,
        "start_time": "2021-12-30T22:15:44.564Z"
      },
      {
        "duration": 143,
        "start_time": "2021-12-30T22:15:44.589Z"
      },
      {
        "duration": 68,
        "start_time": "2021-12-30T22:15:44.734Z"
      },
      {
        "duration": 47,
        "start_time": "2021-12-30T22:15:44.757Z"
      },
      {
        "duration": 45,
        "start_time": "2021-12-30T22:15:44.760Z"
      },
      {
        "duration": 71,
        "start_time": "2021-12-30T22:21:37.128Z"
      },
      {
        "duration": 355,
        "start_time": "2021-12-30T22:21:44.986Z"
      },
      {
        "duration": 214,
        "start_time": "2021-12-30T22:23:04.426Z"
      },
      {
        "duration": 231,
        "start_time": "2021-12-30T22:23:23.610Z"
      },
      {
        "duration": 236,
        "start_time": "2021-12-30T22:24:13.209Z"
      },
      {
        "duration": 217,
        "start_time": "2021-12-30T22:24:35.900Z"
      },
      {
        "duration": 208,
        "start_time": "2021-12-30T22:24:45.858Z"
      },
      {
        "duration": 26,
        "start_time": "2021-12-30T22:29:20.864Z"
      },
      {
        "duration": 212,
        "start_time": "2021-12-30T22:29:47.840Z"
      },
      {
        "duration": 15,
        "start_time": "2021-12-30T22:30:08.022Z"
      },
      {
        "duration": 12,
        "start_time": "2021-12-30T22:31:24.652Z"
      },
      {
        "duration": 15,
        "start_time": "2021-12-30T22:31:52.108Z"
      },
      {
        "duration": 14,
        "start_time": "2021-12-30T22:32:21.292Z"
      },
      {
        "duration": 3,
        "start_time": "2021-12-30T22:32:25.627Z"
      },
      {
        "duration": 1145,
        "start_time": "2021-12-30T22:32:25.632Z"
      },
      {
        "duration": 9,
        "start_time": "2021-12-30T22:32:26.779Z"
      },
      {
        "duration": 13,
        "start_time": "2021-12-30T22:32:26.790Z"
      },
      {
        "duration": 15,
        "start_time": "2021-12-30T22:32:26.805Z"
      },
      {
        "duration": 38,
        "start_time": "2021-12-30T22:32:26.821Z"
      },
      {
        "duration": 11,
        "start_time": "2021-12-30T22:32:26.860Z"
      },
      {
        "duration": 13,
        "start_time": "2021-12-30T22:32:26.872Z"
      },
      {
        "duration": 10,
        "start_time": "2021-12-30T22:32:26.888Z"
      },
      {
        "duration": 5,
        "start_time": "2021-12-30T22:32:26.901Z"
      },
      {
        "duration": 45,
        "start_time": "2021-12-30T22:32:26.907Z"
      },
      {
        "duration": 26,
        "start_time": "2021-12-30T22:32:26.954Z"
      },
      {
        "duration": 8,
        "start_time": "2021-12-30T22:32:26.982Z"
      },
      {
        "duration": 7,
        "start_time": "2021-12-30T22:32:26.992Z"
      },
      {
        "duration": 45,
        "start_time": "2021-12-30T22:32:27.001Z"
      },
      {
        "duration": 249,
        "start_time": "2021-12-30T22:32:27.047Z"
      },
      {
        "duration": 2,
        "start_time": "2021-12-30T22:32:27.298Z"
      },
      {
        "duration": 12,
        "start_time": "2021-12-30T22:32:27.302Z"
      },
      {
        "duration": 3,
        "start_time": "2021-12-30T22:32:27.315Z"
      },
      {
        "duration": 23,
        "start_time": "2021-12-30T22:32:27.319Z"
      },
      {
        "duration": 9,
        "start_time": "2021-12-30T22:32:27.344Z"
      },
      {
        "duration": 4,
        "start_time": "2021-12-30T22:32:27.354Z"
      },
      {
        "duration": 7,
        "start_time": "2021-12-30T22:32:27.360Z"
      },
      {
        "duration": 302,
        "start_time": "2021-12-30T22:32:27.368Z"
      },
      {
        "duration": 17,
        "start_time": "2021-12-30T22:32:27.672Z"
      },
      {
        "duration": 16,
        "start_time": "2021-12-30T22:32:27.691Z"
      },
      {
        "duration": 35,
        "start_time": "2021-12-30T22:32:27.711Z"
      },
      {
        "duration": 15,
        "start_time": "2021-12-30T22:32:27.748Z"
      },
      {
        "duration": 348,
        "start_time": "2021-12-30T22:32:27.765Z"
      },
      {
        "duration": 38,
        "start_time": "2021-12-30T22:32:28.115Z"
      },
      {
        "duration": 447,
        "start_time": "2021-12-30T22:32:28.155Z"
      },
      {
        "duration": 254,
        "start_time": "2021-12-30T22:32:28.604Z"
      },
      {
        "duration": 432,
        "start_time": "2021-12-30T22:32:28.860Z"
      },
      {
        "duration": 5,
        "start_time": "2021-12-30T22:32:29.294Z"
      },
      {
        "duration": 470,
        "start_time": "2021-12-30T22:32:29.300Z"
      },
      {
        "duration": 6,
        "start_time": "2021-12-30T22:32:29.772Z"
      },
      {
        "duration": 40,
        "start_time": "2021-12-30T22:32:29.779Z"
      },
      {
        "duration": 274,
        "start_time": "2021-12-30T22:32:29.821Z"
      },
      {
        "duration": 291,
        "start_time": "2021-12-30T22:32:30.096Z"
      },
      {
        "duration": 2,
        "start_time": "2021-12-30T22:32:30.389Z"
      },
      {
        "duration": 20,
        "start_time": "2021-12-30T22:32:30.393Z"
      },
      {
        "duration": 311,
        "start_time": "2021-12-30T22:32:30.414Z"
      },
      {
        "duration": 62,
        "start_time": "2021-12-30T22:32:30.665Z"
      },
      {
        "duration": 61,
        "start_time": "2021-12-30T22:32:30.667Z"
      },
      {
        "duration": 60,
        "start_time": "2021-12-30T22:32:30.669Z"
      },
      {
        "duration": 59,
        "start_time": "2021-12-30T22:32:30.671Z"
      },
      {
        "duration": 140,
        "start_time": "2021-12-30T22:33:05.116Z"
      },
      {
        "duration": 3,
        "start_time": "2021-12-30T22:45:46.112Z"
      },
      {
        "duration": 3,
        "start_time": "2021-12-30T22:46:18.943Z"
      },
      {
        "duration": 3,
        "start_time": "2021-12-30T22:46:30.637Z"
      },
      {
        "duration": 3,
        "start_time": "2021-12-30T22:46:47.276Z"
      },
      {
        "duration": 6,
        "start_time": "2021-12-30T22:47:40.328Z"
      },
      {
        "duration": 329,
        "start_time": "2021-12-30T22:51:00.291Z"
      },
      {
        "duration": 416,
        "start_time": "2021-12-30T22:51:14.542Z"
      },
      {
        "duration": 349,
        "start_time": "2021-12-30T22:51:20.972Z"
      },
      {
        "duration": 320,
        "start_time": "2021-12-30T22:52:18.103Z"
      },
      {
        "duration": 340,
        "start_time": "2021-12-30T22:53:06.975Z"
      },
      {
        "duration": 67,
        "start_time": "2021-12-30T22:53:57.610Z"
      },
      {
        "duration": 65,
        "start_time": "2021-12-30T22:54:10.029Z"
      },
      {
        "duration": 315,
        "start_time": "2021-12-30T22:55:40.710Z"
      },
      {
        "duration": 301,
        "start_time": "2021-12-30T22:55:50.178Z"
      },
      {
        "duration": 393,
        "start_time": "2021-12-30T22:56:09.326Z"
      },
      {
        "duration": 339,
        "start_time": "2021-12-30T22:57:26.250Z"
      },
      {
        "duration": 326,
        "start_time": "2021-12-30T22:59:19.125Z"
      },
      {
        "duration": 3,
        "start_time": "2021-12-30T23:01:21.331Z"
      },
      {
        "duration": 1210,
        "start_time": "2021-12-30T23:01:21.335Z"
      },
      {
        "duration": 11,
        "start_time": "2021-12-30T23:01:22.547Z"
      },
      {
        "duration": 17,
        "start_time": "2021-12-30T23:01:22.560Z"
      },
      {
        "duration": 16,
        "start_time": "2021-12-30T23:01:22.578Z"
      },
      {
        "duration": 50,
        "start_time": "2021-12-30T23:01:22.596Z"
      },
      {
        "duration": 13,
        "start_time": "2021-12-30T23:01:22.648Z"
      },
      {
        "duration": 14,
        "start_time": "2021-12-30T23:01:22.663Z"
      },
      {
        "duration": 12,
        "start_time": "2021-12-30T23:01:22.679Z"
      },
      {
        "duration": 5,
        "start_time": "2021-12-30T23:01:22.693Z"
      },
      {
        "duration": 50,
        "start_time": "2021-12-30T23:01:22.700Z"
      },
      {
        "duration": 26,
        "start_time": "2021-12-30T23:01:22.752Z"
      },
      {
        "duration": 7,
        "start_time": "2021-12-30T23:01:22.779Z"
      },
      {
        "duration": 10,
        "start_time": "2021-12-30T23:01:22.788Z"
      },
      {
        "duration": 16,
        "start_time": "2021-12-30T23:01:22.799Z"
      },
      {
        "duration": 274,
        "start_time": "2021-12-30T23:01:22.816Z"
      },
      {
        "duration": 3,
        "start_time": "2021-12-30T23:01:23.091Z"
      },
      {
        "duration": 15,
        "start_time": "2021-12-30T23:01:23.095Z"
      },
      {
        "duration": 2,
        "start_time": "2021-12-30T23:01:23.112Z"
      },
      {
        "duration": 10,
        "start_time": "2021-12-30T23:01:23.116Z"
      },
      {
        "duration": 21,
        "start_time": "2021-12-30T23:01:23.127Z"
      },
      {
        "duration": 8,
        "start_time": "2021-12-30T23:01:23.149Z"
      },
      {
        "duration": 7,
        "start_time": "2021-12-30T23:01:23.160Z"
      },
      {
        "duration": 313,
        "start_time": "2021-12-30T23:01:23.169Z"
      },
      {
        "duration": 16,
        "start_time": "2021-12-30T23:01:23.484Z"
      },
      {
        "duration": 17,
        "start_time": "2021-12-30T23:01:23.502Z"
      },
      {
        "duration": 10,
        "start_time": "2021-12-30T23:01:23.542Z"
      },
      {
        "duration": 11,
        "start_time": "2021-12-30T23:01:23.554Z"
      },
      {
        "duration": 374,
        "start_time": "2021-12-30T23:01:23.567Z"
      },
      {
        "duration": 26,
        "start_time": "2021-12-30T23:01:23.943Z"
      },
      {
        "duration": 462,
        "start_time": "2021-12-30T23:01:23.971Z"
      },
      {
        "duration": 187,
        "start_time": "2021-12-30T23:01:24.434Z"
      },
      {
        "duration": 484,
        "start_time": "2021-12-30T23:01:24.622Z"
      },
      {
        "duration": 5,
        "start_time": "2021-12-30T23:01:25.108Z"
      },
      {
        "duration": 486,
        "start_time": "2021-12-30T23:01:25.114Z"
      },
      {
        "duration": 5,
        "start_time": "2021-12-30T23:01:25.601Z"
      },
      {
        "duration": 47,
        "start_time": "2021-12-30T23:01:25.608Z"
      },
      {
        "duration": 252,
        "start_time": "2021-12-30T23:01:25.657Z"
      },
      {
        "duration": 252,
        "start_time": "2021-12-30T23:01:25.911Z"
      },
      {
        "duration": 3,
        "start_time": "2021-12-30T23:01:26.165Z"
      },
      {
        "duration": 10,
        "start_time": "2021-12-30T23:01:26.169Z"
      },
      {
        "duration": 367,
        "start_time": "2021-12-30T23:01:26.181Z"
      },
      {
        "duration": 11,
        "start_time": "2021-12-30T23:01:26.550Z"
      },
      {
        "duration": 8,
        "start_time": "2021-12-30T23:01:26.562Z"
      },
      {
        "duration": 3,
        "start_time": "2021-12-30T23:02:19.378Z"
      },
      {
        "duration": 1106,
        "start_time": "2021-12-30T23:02:19.384Z"
      },
      {
        "duration": 11,
        "start_time": "2021-12-30T23:02:20.492Z"
      },
      {
        "duration": 15,
        "start_time": "2021-12-30T23:02:20.505Z"
      },
      {
        "duration": 20,
        "start_time": "2021-12-30T23:02:20.521Z"
      },
      {
        "duration": 27,
        "start_time": "2021-12-30T23:02:20.543Z"
      },
      {
        "duration": 12,
        "start_time": "2021-12-30T23:02:20.572Z"
      },
      {
        "duration": 18,
        "start_time": "2021-12-30T23:02:20.586Z"
      },
      {
        "duration": 20,
        "start_time": "2021-12-30T23:02:20.607Z"
      },
      {
        "duration": 14,
        "start_time": "2021-12-30T23:02:20.630Z"
      },
      {
        "duration": 31,
        "start_time": "2021-12-30T23:02:20.646Z"
      },
      {
        "duration": 26,
        "start_time": "2021-12-30T23:02:20.679Z"
      },
      {
        "duration": 9,
        "start_time": "2021-12-30T23:02:20.706Z"
      },
      {
        "duration": 27,
        "start_time": "2021-12-30T23:02:20.717Z"
      },
      {
        "duration": 15,
        "start_time": "2021-12-30T23:02:20.746Z"
      },
      {
        "duration": 254,
        "start_time": "2021-12-30T23:02:20.763Z"
      },
      {
        "duration": 2,
        "start_time": "2021-12-30T23:02:21.019Z"
      },
      {
        "duration": 25,
        "start_time": "2021-12-30T23:02:21.023Z"
      },
      {
        "duration": 6,
        "start_time": "2021-12-30T23:02:21.049Z"
      },
      {
        "duration": 6,
        "start_time": "2021-12-30T23:02:21.056Z"
      },
      {
        "duration": 18,
        "start_time": "2021-12-30T23:02:21.064Z"
      },
      {
        "duration": 4,
        "start_time": "2021-12-30T23:02:21.083Z"
      },
      {
        "duration": 17,
        "start_time": "2021-12-30T23:02:21.088Z"
      },
      {
        "duration": 285,
        "start_time": "2021-12-30T23:02:21.107Z"
      },
      {
        "duration": 14,
        "start_time": "2021-12-30T23:02:21.394Z"
      },
      {
        "duration": 16,
        "start_time": "2021-12-30T23:02:21.409Z"
      },
      {
        "duration": 8,
        "start_time": "2021-12-30T23:02:21.443Z"
      },
      {
        "duration": 30,
        "start_time": "2021-12-30T23:02:21.453Z"
      },
      {
        "duration": 347,
        "start_time": "2021-12-30T23:02:21.484Z"
      },
      {
        "duration": 23,
        "start_time": "2021-12-30T23:02:21.833Z"
      },
      {
        "duration": 441,
        "start_time": "2021-12-30T23:02:21.857Z"
      },
      {
        "duration": 269,
        "start_time": "2021-12-30T23:02:22.299Z"
      },
      {
        "duration": 466,
        "start_time": "2021-12-30T23:02:22.569Z"
      },
      {
        "duration": 6,
        "start_time": "2021-12-30T23:02:23.040Z"
      },
      {
        "duration": 494,
        "start_time": "2021-12-30T23:02:23.047Z"
      },
      {
        "duration": 6,
        "start_time": "2021-12-30T23:02:23.543Z"
      },
      {
        "duration": 43,
        "start_time": "2021-12-30T23:02:23.551Z"
      },
      {
        "duration": 292,
        "start_time": "2021-12-30T23:02:23.596Z"
      },
      {
        "duration": 265,
        "start_time": "2021-12-30T23:02:23.890Z"
      },
      {
        "duration": 3,
        "start_time": "2021-12-30T23:02:24.156Z"
      },
      {
        "duration": 9,
        "start_time": "2021-12-30T23:02:24.160Z"
      },
      {
        "duration": 363,
        "start_time": "2021-12-30T23:02:24.171Z"
      },
      {
        "duration": 13,
        "start_time": "2021-12-30T23:02:24.535Z"
      },
      {
        "duration": 8,
        "start_time": "2021-12-30T23:02:24.550Z"
      },
      {
        "duration": 3,
        "start_time": "2021-12-30T23:02:51.288Z"
      },
      {
        "duration": 1087,
        "start_time": "2021-12-30T23:02:51.293Z"
      },
      {
        "duration": 9,
        "start_time": "2021-12-30T23:02:52.382Z"
      },
      {
        "duration": 14,
        "start_time": "2021-12-30T23:02:52.393Z"
      },
      {
        "duration": 13,
        "start_time": "2021-12-30T23:02:52.409Z"
      },
      {
        "duration": 35,
        "start_time": "2021-12-30T23:02:52.424Z"
      },
      {
        "duration": 11,
        "start_time": "2021-12-30T23:02:52.461Z"
      },
      {
        "duration": 11,
        "start_time": "2021-12-30T23:02:52.475Z"
      },
      {
        "duration": 9,
        "start_time": "2021-12-30T23:02:52.488Z"
      },
      {
        "duration": 6,
        "start_time": "2021-12-30T23:02:52.498Z"
      },
      {
        "duration": 44,
        "start_time": "2021-12-30T23:02:52.505Z"
      },
      {
        "duration": 25,
        "start_time": "2021-12-30T23:02:52.550Z"
      },
      {
        "duration": 7,
        "start_time": "2021-12-30T23:02:52.576Z"
      },
      {
        "duration": 8,
        "start_time": "2021-12-30T23:02:52.584Z"
      },
      {
        "duration": 14,
        "start_time": "2021-12-30T23:02:52.593Z"
      },
      {
        "duration": 254,
        "start_time": "2021-12-30T23:02:52.609Z"
      },
      {
        "duration": 2,
        "start_time": "2021-12-30T23:02:52.864Z"
      },
      {
        "duration": 12,
        "start_time": "2021-12-30T23:02:52.867Z"
      },
      {
        "duration": 2,
        "start_time": "2021-12-30T23:02:52.881Z"
      },
      {
        "duration": 4,
        "start_time": "2021-12-30T23:02:52.885Z"
      },
      {
        "duration": 9,
        "start_time": "2021-12-30T23:02:52.891Z"
      },
      {
        "duration": 2,
        "start_time": "2021-12-30T23:02:52.901Z"
      },
      {
        "duration": 6,
        "start_time": "2021-12-30T23:02:52.906Z"
      },
      {
        "duration": 284,
        "start_time": "2021-12-30T23:02:52.942Z"
      },
      {
        "duration": 18,
        "start_time": "2021-12-30T23:02:53.228Z"
      },
      {
        "duration": 15,
        "start_time": "2021-12-30T23:02:53.248Z"
      },
      {
        "duration": 11,
        "start_time": "2021-12-30T23:02:53.265Z"
      },
      {
        "duration": 27,
        "start_time": "2021-12-30T23:02:53.278Z"
      },
      {
        "duration": 338,
        "start_time": "2021-12-30T23:02:53.307Z"
      },
      {
        "duration": 23,
        "start_time": "2021-12-30T23:02:53.647Z"
      },
      {
        "duration": 444,
        "start_time": "2021-12-30T23:02:53.672Z"
      },
      {
        "duration": 182,
        "start_time": "2021-12-30T23:02:54.118Z"
      },
      {
        "duration": 480,
        "start_time": "2021-12-30T23:02:54.302Z"
      },
      {
        "duration": 5,
        "start_time": "2021-12-30T23:02:54.784Z"
      },
      {
        "duration": 472,
        "start_time": "2021-12-30T23:02:54.790Z"
      },
      {
        "duration": 5,
        "start_time": "2021-12-30T23:02:55.263Z"
      },
      {
        "duration": 44,
        "start_time": "2021-12-30T23:02:55.269Z"
      },
      {
        "duration": 260,
        "start_time": "2021-12-30T23:02:55.314Z"
      },
      {
        "duration": 253,
        "start_time": "2021-12-30T23:02:55.575Z"
      },
      {
        "duration": 2,
        "start_time": "2021-12-30T23:02:55.829Z"
      },
      {
        "duration": 12,
        "start_time": "2021-12-30T23:02:55.833Z"
      },
      {
        "duration": 358,
        "start_time": "2021-12-30T23:02:55.846Z"
      },
      {
        "duration": 11,
        "start_time": "2021-12-30T23:02:56.206Z"
      },
      {
        "duration": 9,
        "start_time": "2021-12-30T23:02:56.218Z"
      },
      {
        "duration": 3,
        "start_time": "2021-12-30T23:03:50.012Z"
      },
      {
        "duration": 1168,
        "start_time": "2021-12-30T23:03:50.017Z"
      },
      {
        "duration": 9,
        "start_time": "2021-12-30T23:03:51.188Z"
      },
      {
        "duration": 16,
        "start_time": "2021-12-30T23:03:51.200Z"
      },
      {
        "duration": 14,
        "start_time": "2021-12-30T23:03:51.217Z"
      },
      {
        "duration": 25,
        "start_time": "2021-12-30T23:03:51.241Z"
      },
      {
        "duration": 11,
        "start_time": "2021-12-30T23:03:51.269Z"
      },
      {
        "duration": 11,
        "start_time": "2021-12-30T23:03:51.282Z"
      },
      {
        "duration": 8,
        "start_time": "2021-12-30T23:03:51.295Z"
      },
      {
        "duration": 6,
        "start_time": "2021-12-30T23:03:51.305Z"
      },
      {
        "duration": 39,
        "start_time": "2021-12-30T23:03:51.313Z"
      },
      {
        "duration": 24,
        "start_time": "2021-12-30T23:03:51.354Z"
      },
      {
        "duration": 7,
        "start_time": "2021-12-30T23:03:51.380Z"
      },
      {
        "duration": 6,
        "start_time": "2021-12-30T23:03:51.388Z"
      },
      {
        "duration": 15,
        "start_time": "2021-12-30T23:03:51.395Z"
      },
      {
        "duration": 267,
        "start_time": "2021-12-30T23:03:51.412Z"
      },
      {
        "duration": 2,
        "start_time": "2021-12-30T23:03:51.680Z"
      },
      {
        "duration": 15,
        "start_time": "2021-12-30T23:03:51.684Z"
      },
      {
        "duration": 2,
        "start_time": "2021-12-30T23:03:51.700Z"
      },
      {
        "duration": 6,
        "start_time": "2021-12-30T23:03:51.704Z"
      },
      {
        "duration": 9,
        "start_time": "2021-12-30T23:03:51.711Z"
      },
      {
        "duration": 18,
        "start_time": "2021-12-30T23:03:51.723Z"
      },
      {
        "duration": 7,
        "start_time": "2021-12-30T23:03:51.743Z"
      },
      {
        "duration": 294,
        "start_time": "2021-12-30T23:03:51.751Z"
      },
      {
        "duration": 15,
        "start_time": "2021-12-30T23:03:52.047Z"
      },
      {
        "duration": 16,
        "start_time": "2021-12-30T23:03:52.063Z"
      },
      {
        "duration": 10,
        "start_time": "2021-12-30T23:03:52.080Z"
      },
      {
        "duration": 7,
        "start_time": "2021-12-30T23:03:52.092Z"
      },
      {
        "duration": 374,
        "start_time": "2021-12-30T23:03:52.101Z"
      },
      {
        "duration": 25,
        "start_time": "2021-12-30T23:03:52.477Z"
      },
      {
        "duration": 452,
        "start_time": "2021-12-30T23:03:52.503Z"
      },
      {
        "duration": 250,
        "start_time": "2021-12-30T23:03:52.957Z"
      },
      {
        "duration": 415,
        "start_time": "2021-12-30T23:03:53.209Z"
      },
      {
        "duration": 6,
        "start_time": "2021-12-30T23:03:53.625Z"
      },
      {
        "duration": 474,
        "start_time": "2021-12-30T23:03:53.632Z"
      },
      {
        "duration": 5,
        "start_time": "2021-12-30T23:03:54.107Z"
      },
      {
        "duration": 49,
        "start_time": "2021-12-30T23:03:54.114Z"
      },
      {
        "duration": 247,
        "start_time": "2021-12-30T23:03:54.164Z"
      },
      {
        "duration": 256,
        "start_time": "2021-12-30T23:03:54.412Z"
      },
      {
        "duration": 2,
        "start_time": "2021-12-30T23:03:54.670Z"
      },
      {
        "duration": 8,
        "start_time": "2021-12-30T23:03:54.673Z"
      },
      {
        "duration": 345,
        "start_time": "2021-12-30T23:03:54.683Z"
      },
      {
        "duration": 16,
        "start_time": "2021-12-30T23:03:55.029Z"
      },
      {
        "duration": 8,
        "start_time": "2021-12-30T23:03:55.046Z"
      },
      {
        "duration": 330,
        "start_time": "2021-12-30T23:13:36.803Z"
      },
      {
        "duration": 462,
        "start_time": "2021-12-30T23:14:30.208Z"
      },
      {
        "duration": 3,
        "start_time": "2021-12-30T23:14:54.234Z"
      },
      {
        "duration": 1041,
        "start_time": "2021-12-30T23:14:54.238Z"
      },
      {
        "duration": 9,
        "start_time": "2021-12-30T23:14:55.281Z"
      },
      {
        "duration": 14,
        "start_time": "2021-12-30T23:14:55.294Z"
      },
      {
        "duration": 13,
        "start_time": "2021-12-30T23:14:55.310Z"
      },
      {
        "duration": 34,
        "start_time": "2021-12-30T23:14:55.324Z"
      },
      {
        "duration": 11,
        "start_time": "2021-12-30T23:14:55.360Z"
      },
      {
        "duration": 14,
        "start_time": "2021-12-30T23:14:55.372Z"
      },
      {
        "duration": 11,
        "start_time": "2021-12-30T23:14:55.388Z"
      },
      {
        "duration": 6,
        "start_time": "2021-12-30T23:14:55.401Z"
      },
      {
        "duration": 39,
        "start_time": "2021-12-30T23:14:55.408Z"
      },
      {
        "duration": 24,
        "start_time": "2021-12-30T23:14:55.448Z"
      },
      {
        "duration": 7,
        "start_time": "2021-12-30T23:14:55.474Z"
      },
      {
        "duration": 8,
        "start_time": "2021-12-30T23:14:55.482Z"
      },
      {
        "duration": 15,
        "start_time": "2021-12-30T23:14:55.492Z"
      },
      {
        "duration": 256,
        "start_time": "2021-12-30T23:14:55.508Z"
      },
      {
        "duration": 2,
        "start_time": "2021-12-30T23:14:55.765Z"
      },
      {
        "duration": 16,
        "start_time": "2021-12-30T23:14:55.769Z"
      },
      {
        "duration": 14,
        "start_time": "2021-12-30T23:14:55.786Z"
      },
      {
        "duration": 8,
        "start_time": "2021-12-30T23:14:55.801Z"
      },
      {
        "duration": 18,
        "start_time": "2021-12-30T23:14:55.810Z"
      },
      {
        "duration": 9,
        "start_time": "2021-12-30T23:14:55.831Z"
      },
      {
        "duration": 8,
        "start_time": "2021-12-30T23:14:55.841Z"
      },
      {
        "duration": 298,
        "start_time": "2021-12-30T23:14:55.850Z"
      },
      {
        "duration": 14,
        "start_time": "2021-12-30T23:14:56.150Z"
      },
      {
        "duration": 15,
        "start_time": "2021-12-30T23:14:56.165Z"
      },
      {
        "duration": 8,
        "start_time": "2021-12-30T23:14:56.181Z"
      },
      {
        "duration": 7,
        "start_time": "2021-12-30T23:14:56.190Z"
      },
      {
        "duration": 363,
        "start_time": "2021-12-30T23:14:56.198Z"
      },
      {
        "duration": 24,
        "start_time": "2021-12-30T23:14:56.563Z"
      },
      {
        "duration": 449,
        "start_time": "2021-12-30T23:14:56.588Z"
      },
      {
        "duration": 282,
        "start_time": "2021-12-30T23:14:57.040Z"
      },
      {
        "duration": 421,
        "start_time": "2021-12-30T23:14:57.324Z"
      },
      {
        "duration": 5,
        "start_time": "2021-12-30T23:14:57.746Z"
      },
      {
        "duration": 429,
        "start_time": "2021-12-30T23:14:57.753Z"
      },
      {
        "duration": 5,
        "start_time": "2021-12-30T23:14:58.183Z"
      },
      {
        "duration": 53,
        "start_time": "2021-12-30T23:14:58.190Z"
      },
      {
        "duration": 249,
        "start_time": "2021-12-30T23:14:58.244Z"
      },
      {
        "duration": 255,
        "start_time": "2021-12-30T23:14:58.494Z"
      },
      {
        "duration": 2,
        "start_time": "2021-12-30T23:14:58.751Z"
      },
      {
        "duration": 13,
        "start_time": "2021-12-30T23:14:58.754Z"
      },
      {
        "duration": 438,
        "start_time": "2021-12-30T23:14:58.768Z"
      },
      {
        "duration": 345,
        "start_time": "2021-12-30T23:14:59.207Z"
      },
      {
        "duration": 13,
        "start_time": "2021-12-30T23:14:59.554Z"
      },
      {
        "duration": 9,
        "start_time": "2021-12-30T23:14:59.569Z"
      },
      {
        "duration": 436,
        "start_time": "2021-12-30T23:16:02.226Z"
      },
      {
        "duration": 3,
        "start_time": "2021-12-30T23:16:25.733Z"
      },
      {
        "duration": 1271,
        "start_time": "2021-12-30T23:16:25.738Z"
      },
      {
        "duration": 10,
        "start_time": "2021-12-30T23:16:27.012Z"
      },
      {
        "duration": 21,
        "start_time": "2021-12-30T23:16:27.024Z"
      },
      {
        "duration": 16,
        "start_time": "2021-12-30T23:16:27.047Z"
      },
      {
        "duration": 29,
        "start_time": "2021-12-30T23:16:27.065Z"
      },
      {
        "duration": 12,
        "start_time": "2021-12-30T23:16:27.096Z"
      },
      {
        "duration": 40,
        "start_time": "2021-12-30T23:16:27.110Z"
      },
      {
        "duration": 8,
        "start_time": "2021-12-30T23:16:27.153Z"
      },
      {
        "duration": 6,
        "start_time": "2021-12-30T23:16:27.163Z"
      },
      {
        "duration": 22,
        "start_time": "2021-12-30T23:16:27.170Z"
      },
      {
        "duration": 58,
        "start_time": "2021-12-30T23:16:27.194Z"
      },
      {
        "duration": 8,
        "start_time": "2021-12-30T23:16:27.253Z"
      },
      {
        "duration": 10,
        "start_time": "2021-12-30T23:16:27.263Z"
      },
      {
        "duration": 15,
        "start_time": "2021-12-30T23:16:27.275Z"
      },
      {
        "duration": 277,
        "start_time": "2021-12-30T23:16:27.292Z"
      },
      {
        "duration": 2,
        "start_time": "2021-12-30T23:16:27.571Z"
      },
      {
        "duration": 13,
        "start_time": "2021-12-30T23:16:27.574Z"
      },
      {
        "duration": 5,
        "start_time": "2021-12-30T23:16:27.589Z"
      },
      {
        "duration": 13,
        "start_time": "2021-12-30T23:16:27.596Z"
      },
      {
        "duration": 14,
        "start_time": "2021-12-30T23:16:27.611Z"
      },
      {
        "duration": 5,
        "start_time": "2021-12-30T23:16:27.626Z"
      },
      {
        "duration": 4,
        "start_time": "2021-12-30T23:16:27.643Z"
      },
      {
        "duration": 316,
        "start_time": "2021-12-30T23:16:27.648Z"
      },
      {
        "duration": 16,
        "start_time": "2021-12-30T23:16:27.966Z"
      },
      {
        "duration": 17,
        "start_time": "2021-12-30T23:16:27.983Z"
      },
      {
        "duration": 9,
        "start_time": "2021-12-30T23:16:28.002Z"
      },
      {
        "duration": 37,
        "start_time": "2021-12-30T23:16:28.013Z"
      },
      {
        "duration": 371,
        "start_time": "2021-12-30T23:16:28.051Z"
      },
      {
        "duration": 35,
        "start_time": "2021-12-30T23:16:28.424Z"
      },
      {
        "duration": 477,
        "start_time": "2021-12-30T23:16:28.460Z"
      },
      {
        "duration": 200,
        "start_time": "2021-12-30T23:16:28.941Z"
      },
      {
        "duration": 509,
        "start_time": "2021-12-30T23:16:29.142Z"
      },
      {
        "duration": 6,
        "start_time": "2021-12-30T23:16:29.653Z"
      },
      {
        "duration": 451,
        "start_time": "2021-12-30T23:16:29.660Z"
      },
      {
        "duration": 7,
        "start_time": "2021-12-30T23:16:30.112Z"
      },
      {
        "duration": 50,
        "start_time": "2021-12-30T23:16:30.120Z"
      },
      {
        "duration": 280,
        "start_time": "2021-12-30T23:16:30.171Z"
      },
      {
        "duration": 279,
        "start_time": "2021-12-30T23:16:30.453Z"
      },
      {
        "duration": 7,
        "start_time": "2021-12-30T23:16:30.734Z"
      },
      {
        "duration": 29,
        "start_time": "2021-12-30T23:16:30.743Z"
      },
      {
        "duration": 371,
        "start_time": "2021-12-30T23:16:30.774Z"
      },
      {
        "duration": 388,
        "start_time": "2021-12-30T23:16:31.146Z"
      },
      {
        "duration": 14,
        "start_time": "2021-12-30T23:16:31.540Z"
      },
      {
        "duration": 15,
        "start_time": "2021-12-30T23:16:31.556Z"
      },
      {
        "duration": 4,
        "start_time": "2021-12-30T23:18:54.999Z"
      },
      {
        "duration": 1195,
        "start_time": "2021-12-30T23:18:55.005Z"
      },
      {
        "duration": 10,
        "start_time": "2021-12-30T23:18:56.202Z"
      },
      {
        "duration": 16,
        "start_time": "2021-12-30T23:18:56.214Z"
      },
      {
        "duration": 16,
        "start_time": "2021-12-30T23:18:56.232Z"
      },
      {
        "duration": 28,
        "start_time": "2021-12-30T23:18:56.250Z"
      },
      {
        "duration": 12,
        "start_time": "2021-12-30T23:18:56.279Z"
      },
      {
        "duration": 13,
        "start_time": "2021-12-30T23:18:56.293Z"
      },
      {
        "duration": 34,
        "start_time": "2021-12-30T23:18:56.309Z"
      },
      {
        "duration": 7,
        "start_time": "2021-12-30T23:18:56.345Z"
      },
      {
        "duration": 22,
        "start_time": "2021-12-30T23:18:56.353Z"
      },
      {
        "duration": 26,
        "start_time": "2021-12-30T23:18:56.377Z"
      },
      {
        "duration": 44,
        "start_time": "2021-12-30T23:18:56.405Z"
      },
      {
        "duration": 7,
        "start_time": "2021-12-30T23:18:56.451Z"
      },
      {
        "duration": 18,
        "start_time": "2021-12-30T23:18:56.460Z"
      },
      {
        "duration": 277,
        "start_time": "2021-12-30T23:18:56.480Z"
      },
      {
        "duration": 2,
        "start_time": "2021-12-30T23:18:56.760Z"
      },
      {
        "duration": 13,
        "start_time": "2021-12-30T23:18:56.764Z"
      },
      {
        "duration": 3,
        "start_time": "2021-12-30T23:18:56.779Z"
      },
      {
        "duration": 6,
        "start_time": "2021-12-30T23:18:56.783Z"
      },
      {
        "duration": 11,
        "start_time": "2021-12-30T23:18:56.790Z"
      },
      {
        "duration": 2,
        "start_time": "2021-12-30T23:18:56.803Z"
      },
      {
        "duration": 36,
        "start_time": "2021-12-30T23:18:56.807Z"
      },
      {
        "duration": 321,
        "start_time": "2021-12-30T23:18:56.845Z"
      },
      {
        "duration": 16,
        "start_time": "2021-12-30T23:18:57.168Z"
      },
      {
        "duration": 17,
        "start_time": "2021-12-30T23:18:57.185Z"
      },
      {
        "duration": 8,
        "start_time": "2021-12-30T23:18:57.205Z"
      },
      {
        "duration": 33,
        "start_time": "2021-12-30T23:18:57.215Z"
      },
      {
        "duration": 366,
        "start_time": "2021-12-30T23:18:57.250Z"
      },
      {
        "duration": 39,
        "start_time": "2021-12-30T23:18:57.618Z"
      },
      {
        "duration": 455,
        "start_time": "2021-12-30T23:18:57.658Z"
      },
      {
        "duration": 275,
        "start_time": "2021-12-30T23:18:58.115Z"
      },
      {
        "duration": 429,
        "start_time": "2021-12-30T23:18:58.392Z"
      },
      {
        "duration": 6,
        "start_time": "2021-12-30T23:18:58.822Z"
      },
      {
        "duration": 470,
        "start_time": "2021-12-30T23:18:58.829Z"
      },
      {
        "duration": 5,
        "start_time": "2021-12-30T23:18:59.301Z"
      },
      {
        "duration": 52,
        "start_time": "2021-12-30T23:18:59.308Z"
      },
      {
        "duration": 262,
        "start_time": "2021-12-30T23:18:59.361Z"
      },
      {
        "duration": 269,
        "start_time": "2021-12-30T23:18:59.625Z"
      },
      {
        "duration": 3,
        "start_time": "2021-12-30T23:18:59.895Z"
      },
      {
        "duration": 34,
        "start_time": "2021-12-30T23:18:59.899Z"
      },
      {
        "duration": 409,
        "start_time": "2021-12-30T23:18:59.934Z"
      },
      {
        "duration": 364,
        "start_time": "2021-12-30T23:19:00.344Z"
      },
      {
        "duration": 12,
        "start_time": "2021-12-30T23:19:00.710Z"
      },
      {
        "duration": 29,
        "start_time": "2021-12-30T23:19:00.724Z"
      },
      {
        "duration": 634,
        "start_time": "2021-12-30T23:19:43.414Z"
      },
      {
        "duration": 243,
        "start_time": "2021-12-30T23:21:07.839Z"
      },
      {
        "duration": 4,
        "start_time": "2021-12-30T23:21:26.715Z"
      },
      {
        "duration": 1203,
        "start_time": "2021-12-30T23:21:26.721Z"
      },
      {
        "duration": 9,
        "start_time": "2021-12-30T23:21:27.927Z"
      },
      {
        "duration": 14,
        "start_time": "2021-12-30T23:21:27.941Z"
      },
      {
        "duration": 14,
        "start_time": "2021-12-30T23:21:27.957Z"
      },
      {
        "duration": 29,
        "start_time": "2021-12-30T23:21:27.973Z"
      },
      {
        "duration": 13,
        "start_time": "2021-12-30T23:21:28.004Z"
      },
      {
        "duration": 12,
        "start_time": "2021-12-30T23:21:28.042Z"
      },
      {
        "duration": 13,
        "start_time": "2021-12-30T23:21:28.056Z"
      },
      {
        "duration": 6,
        "start_time": "2021-12-30T23:21:28.071Z"
      },
      {
        "duration": 23,
        "start_time": "2021-12-30T23:21:28.079Z"
      },
      {
        "duration": 57,
        "start_time": "2021-12-30T23:21:28.104Z"
      },
      {
        "duration": 9,
        "start_time": "2021-12-30T23:21:28.164Z"
      },
      {
        "duration": 8,
        "start_time": "2021-12-30T23:21:28.175Z"
      },
      {
        "duration": 17,
        "start_time": "2021-12-30T23:21:28.184Z"
      },
      {
        "duration": 281,
        "start_time": "2021-12-30T23:21:28.202Z"
      },
      {
        "duration": 2,
        "start_time": "2021-12-30T23:21:28.486Z"
      },
      {
        "duration": 21,
        "start_time": "2021-12-30T23:21:28.490Z"
      },
      {
        "duration": 3,
        "start_time": "2021-12-30T23:21:28.513Z"
      },
      {
        "duration": 5,
        "start_time": "2021-12-30T23:21:28.518Z"
      },
      {
        "duration": 9,
        "start_time": "2021-12-30T23:21:28.541Z"
      },
      {
        "duration": 2,
        "start_time": "2021-12-30T23:21:28.555Z"
      },
      {
        "duration": 6,
        "start_time": "2021-12-30T23:21:28.559Z"
      },
      {
        "duration": 334,
        "start_time": "2021-12-30T23:21:28.567Z"
      },
      {
        "duration": 18,
        "start_time": "2021-12-30T23:21:28.903Z"
      },
      {
        "duration": 34,
        "start_time": "2021-12-30T23:21:28.923Z"
      },
      {
        "duration": 11,
        "start_time": "2021-12-30T23:21:28.959Z"
      },
      {
        "duration": 9,
        "start_time": "2021-12-30T23:21:28.972Z"
      },
      {
        "duration": 385,
        "start_time": "2021-12-30T23:21:28.983Z"
      },
      {
        "duration": 28,
        "start_time": "2021-12-30T23:21:29.371Z"
      },
      {
        "duration": 478,
        "start_time": "2021-12-30T23:21:29.401Z"
      },
      {
        "duration": 277,
        "start_time": "2021-12-30T23:21:29.881Z"
      },
      {
        "duration": 460,
        "start_time": "2021-12-30T23:21:30.160Z"
      },
      {
        "duration": 6,
        "start_time": "2021-12-30T23:21:30.622Z"
      },
      {
        "duration": 505,
        "start_time": "2021-12-30T23:21:30.629Z"
      },
      {
        "duration": 10,
        "start_time": "2021-12-30T23:21:31.136Z"
      },
      {
        "duration": 64,
        "start_time": "2021-12-30T23:21:31.148Z"
      },
      {
        "duration": 298,
        "start_time": "2021-12-30T23:21:31.214Z"
      },
      {
        "duration": 305,
        "start_time": "2021-12-30T23:21:31.514Z"
      },
      {
        "duration": 2,
        "start_time": "2021-12-30T23:21:31.821Z"
      },
      {
        "duration": 21,
        "start_time": "2021-12-30T23:21:31.825Z"
      },
      {
        "duration": 381,
        "start_time": "2021-12-30T23:21:31.848Z"
      },
      {
        "duration": 5505,
        "start_time": "2021-12-30T23:21:32.231Z"
      },
      {
        "duration": 80,
        "start_time": "2021-12-30T23:21:37.658Z"
      },
      {
        "duration": 78,
        "start_time": "2021-12-30T23:21:37.661Z"
      },
      {
        "duration": 77,
        "start_time": "2021-12-30T23:21:37.663Z"
      },
      {
        "duration": 339,
        "start_time": "2021-12-30T23:22:38.266Z"
      },
      {
        "duration": 468,
        "start_time": "2021-12-30T23:22:45.431Z"
      },
      {
        "duration": 338,
        "start_time": "2021-12-30T23:23:44.259Z"
      },
      {
        "duration": 2,
        "start_time": "2021-12-30T23:24:57.817Z"
      },
      {
        "duration": 2,
        "start_time": "2021-12-30T23:29:54.729Z"
      },
      {
        "duration": 3,
        "start_time": "2021-12-30T23:34:29.283Z"
      },
      {
        "duration": 1123,
        "start_time": "2021-12-30T23:34:29.288Z"
      },
      {
        "duration": 10,
        "start_time": "2021-12-30T23:34:30.414Z"
      },
      {
        "duration": 20,
        "start_time": "2021-12-30T23:34:30.428Z"
      },
      {
        "duration": 16,
        "start_time": "2021-12-30T23:34:30.450Z"
      },
      {
        "duration": 28,
        "start_time": "2021-12-30T23:34:30.468Z"
      },
      {
        "duration": 13,
        "start_time": "2021-12-30T23:34:30.498Z"
      },
      {
        "duration": 37,
        "start_time": "2021-12-30T23:34:30.514Z"
      },
      {
        "duration": 16,
        "start_time": "2021-12-30T23:34:30.554Z"
      },
      {
        "duration": 5,
        "start_time": "2021-12-30T23:34:30.572Z"
      },
      {
        "duration": 22,
        "start_time": "2021-12-30T23:34:30.579Z"
      },
      {
        "duration": 46,
        "start_time": "2021-12-30T23:34:30.603Z"
      },
      {
        "duration": 8,
        "start_time": "2021-12-30T23:34:30.651Z"
      },
      {
        "duration": 16,
        "start_time": "2021-12-30T23:34:30.661Z"
      },
      {
        "duration": 30,
        "start_time": "2021-12-30T23:34:30.679Z"
      },
      {
        "duration": 252,
        "start_time": "2021-12-30T23:34:30.711Z"
      },
      {
        "duration": 2,
        "start_time": "2021-12-30T23:34:30.965Z"
      },
      {
        "duration": 22,
        "start_time": "2021-12-30T23:34:30.969Z"
      },
      {
        "duration": 7,
        "start_time": "2021-12-30T23:34:30.993Z"
      },
      {
        "duration": 16,
        "start_time": "2021-12-30T23:34:31.002Z"
      },
      {
        "duration": 14,
        "start_time": "2021-12-30T23:34:31.020Z"
      },
      {
        "duration": 11,
        "start_time": "2021-12-30T23:34:31.036Z"
      },
      {
        "duration": 20,
        "start_time": "2021-12-30T23:34:31.049Z"
      },
      {
        "duration": 356,
        "start_time": "2021-12-30T23:34:31.071Z"
      },
      {
        "duration": 27,
        "start_time": "2021-12-30T23:34:31.429Z"
      },
      {
        "duration": 21,
        "start_time": "2021-12-30T23:34:31.460Z"
      },
      {
        "duration": 12,
        "start_time": "2021-12-30T23:34:31.483Z"
      },
      {
        "duration": 9,
        "start_time": "2021-12-30T23:34:31.497Z"
      },
      {
        "duration": 431,
        "start_time": "2021-12-30T23:34:31.508Z"
      },
      {
        "duration": 26,
        "start_time": "2021-12-30T23:34:31.941Z"
      },
      {
        "duration": 472,
        "start_time": "2021-12-30T23:34:31.969Z"
      },
      {
        "duration": 198,
        "start_time": "2021-12-30T23:34:32.443Z"
      },
      {
        "duration": 516,
        "start_time": "2021-12-30T23:34:32.643Z"
      },
      {
        "duration": 5,
        "start_time": "2021-12-30T23:34:33.161Z"
      },
      {
        "duration": 456,
        "start_time": "2021-12-30T23:34:33.168Z"
      },
      {
        "duration": 6,
        "start_time": "2021-12-30T23:34:33.626Z"
      },
      {
        "duration": 41,
        "start_time": "2021-12-30T23:34:33.641Z"
      },
      {
        "duration": 287,
        "start_time": "2021-12-30T23:34:33.684Z"
      },
      {
        "duration": 265,
        "start_time": "2021-12-30T23:34:33.973Z"
      },
      {
        "duration": 3,
        "start_time": "2021-12-30T23:34:34.239Z"
      },
      {
        "duration": 9,
        "start_time": "2021-12-30T23:34:34.244Z"
      },
      {
        "duration": 2,
        "start_time": "2021-12-30T23:34:34.254Z"
      },
      {
        "duration": 5,
        "start_time": "2021-12-30T23:34:34.258Z"
      },
      {
        "duration": 293,
        "start_time": "2021-12-30T23:34:34.264Z"
      },
      {
        "duration": 87,
        "start_time": "2021-12-30T23:34:34.472Z"
      },
      {
        "duration": 87,
        "start_time": "2021-12-30T23:34:34.473Z"
      },
      {
        "duration": 231,
        "start_time": "2021-12-30T23:35:03.188Z"
      },
      {
        "duration": 224,
        "start_time": "2021-12-30T23:35:32.706Z"
      },
      {
        "duration": 89,
        "start_time": "2021-12-30T23:35:43.254Z"
      },
      {
        "duration": 3,
        "start_time": "2021-12-30T23:36:13.393Z"
      },
      {
        "duration": 1133,
        "start_time": "2021-12-30T23:36:13.399Z"
      },
      {
        "duration": 11,
        "start_time": "2021-12-30T23:36:14.534Z"
      },
      {
        "duration": 17,
        "start_time": "2021-12-30T23:36:14.547Z"
      },
      {
        "duration": 17,
        "start_time": "2021-12-30T23:36:14.566Z"
      },
      {
        "duration": 31,
        "start_time": "2021-12-30T23:36:14.585Z"
      },
      {
        "duration": 14,
        "start_time": "2021-12-30T23:36:14.641Z"
      },
      {
        "duration": 16,
        "start_time": "2021-12-30T23:36:14.657Z"
      },
      {
        "duration": 10,
        "start_time": "2021-12-30T23:36:14.676Z"
      },
      {
        "duration": 5,
        "start_time": "2021-12-30T23:36:14.689Z"
      },
      {
        "duration": 52,
        "start_time": "2021-12-30T23:36:14.695Z"
      },
      {
        "duration": 28,
        "start_time": "2021-12-30T23:36:14.749Z"
      },
      {
        "duration": 8,
        "start_time": "2021-12-30T23:36:14.779Z"
      },
      {
        "duration": 10,
        "start_time": "2021-12-30T23:36:14.788Z"
      },
      {
        "duration": 45,
        "start_time": "2021-12-30T23:36:14.800Z"
      },
      {
        "duration": 268,
        "start_time": "2021-12-30T23:36:14.846Z"
      },
      {
        "duration": 2,
        "start_time": "2021-12-30T23:36:15.116Z"
      },
      {
        "duration": 24,
        "start_time": "2021-12-30T23:36:15.120Z"
      },
      {
        "duration": 3,
        "start_time": "2021-12-30T23:36:15.145Z"
      },
      {
        "duration": 10,
        "start_time": "2021-12-30T23:36:15.149Z"
      },
      {
        "duration": 20,
        "start_time": "2021-12-30T23:36:15.161Z"
      },
      {
        "duration": 5,
        "start_time": "2021-12-30T23:36:15.184Z"
      },
      {
        "duration": 13,
        "start_time": "2021-12-30T23:36:15.191Z"
      },
      {
        "duration": 336,
        "start_time": "2021-12-30T23:36:15.206Z"
      },
      {
        "duration": 16,
        "start_time": "2021-12-30T23:36:15.544Z"
      },
      {
        "duration": 16,
        "start_time": "2021-12-30T23:36:15.562Z"
      },
      {
        "duration": 9,
        "start_time": "2021-12-30T23:36:15.582Z"
      },
      {
        "duration": 8,
        "start_time": "2021-12-30T23:36:15.593Z"
      },
      {
        "duration": 405,
        "start_time": "2021-12-30T23:36:15.603Z"
      },
      {
        "duration": 40,
        "start_time": "2021-12-30T23:36:16.010Z"
      },
      {
        "duration": 478,
        "start_time": "2021-12-30T23:36:16.052Z"
      },
      {
        "duration": 293,
        "start_time": "2021-12-30T23:36:16.532Z"
      },
      {
        "duration": 450,
        "start_time": "2021-12-30T23:36:16.827Z"
      },
      {
        "duration": 6,
        "start_time": "2021-12-30T23:36:17.280Z"
      },
      {
        "duration": 536,
        "start_time": "2021-12-30T23:36:17.288Z"
      },
      {
        "duration": 16,
        "start_time": "2021-12-30T23:36:17.826Z"
      },
      {
        "duration": 40,
        "start_time": "2021-12-30T23:36:17.844Z"
      },
      {
        "duration": 287,
        "start_time": "2021-12-30T23:36:17.887Z"
      },
      {
        "duration": 279,
        "start_time": "2021-12-30T23:36:18.176Z"
      },
      {
        "duration": 3,
        "start_time": "2021-12-30T23:36:18.457Z"
      },
      {
        "duration": 9,
        "start_time": "2021-12-30T23:36:18.463Z"
      },
      {
        "duration": 3,
        "start_time": "2021-12-30T23:36:18.474Z"
      },
      {
        "duration": 15,
        "start_time": "2021-12-30T23:36:18.479Z"
      },
      {
        "duration": 116,
        "start_time": "2021-12-30T23:36:18.496Z"
      },
      {
        "duration": 27,
        "start_time": "2021-12-30T23:36:18.615Z"
      },
      {
        "duration": 12,
        "start_time": "2021-12-30T23:36:18.644Z"
      },
      {
        "duration": 122,
        "start_time": "2021-12-30T23:39:28.555Z"
      },
      {
        "duration": 4,
        "start_time": "2021-12-30T23:42:08.110Z"
      },
      {
        "duration": 1135,
        "start_time": "2021-12-30T23:42:08.116Z"
      },
      {
        "duration": 9,
        "start_time": "2021-12-30T23:42:09.253Z"
      },
      {
        "duration": 14,
        "start_time": "2021-12-30T23:42:09.266Z"
      },
      {
        "duration": 14,
        "start_time": "2021-12-30T23:42:09.281Z"
      },
      {
        "duration": 48,
        "start_time": "2021-12-30T23:42:09.296Z"
      },
      {
        "duration": 12,
        "start_time": "2021-12-30T23:42:09.347Z"
      },
      {
        "duration": 14,
        "start_time": "2021-12-30T23:42:09.361Z"
      },
      {
        "duration": 9,
        "start_time": "2021-12-30T23:42:09.377Z"
      },
      {
        "duration": 5,
        "start_time": "2021-12-30T23:42:09.388Z"
      },
      {
        "duration": 47,
        "start_time": "2021-12-30T23:42:09.395Z"
      },
      {
        "duration": 25,
        "start_time": "2021-12-30T23:42:09.443Z"
      },
      {
        "duration": 7,
        "start_time": "2021-12-30T23:42:09.470Z"
      },
      {
        "duration": 6,
        "start_time": "2021-12-30T23:42:09.478Z"
      },
      {
        "duration": 19,
        "start_time": "2021-12-30T23:42:09.485Z"
      },
      {
        "duration": 259,
        "start_time": "2021-12-30T23:42:09.505Z"
      },
      {
        "duration": 2,
        "start_time": "2021-12-30T23:42:09.766Z"
      },
      {
        "duration": 12,
        "start_time": "2021-12-30T23:42:09.769Z"
      },
      {
        "duration": 2,
        "start_time": "2021-12-30T23:42:09.783Z"
      },
      {
        "duration": 6,
        "start_time": "2021-12-30T23:42:09.787Z"
      },
      {
        "duration": 9,
        "start_time": "2021-12-30T23:42:09.795Z"
      },
      {
        "duration": 2,
        "start_time": "2021-12-30T23:42:09.807Z"
      },
      {
        "duration": 7,
        "start_time": "2021-12-30T23:42:09.811Z"
      },
      {
        "duration": 302,
        "start_time": "2021-12-30T23:42:09.819Z"
      },
      {
        "duration": 26,
        "start_time": "2021-12-30T23:42:10.123Z"
      },
      {
        "duration": 15,
        "start_time": "2021-12-30T23:42:10.151Z"
      },
      {
        "duration": 9,
        "start_time": "2021-12-30T23:42:10.168Z"
      },
      {
        "duration": 8,
        "start_time": "2021-12-30T23:42:10.179Z"
      },
      {
        "duration": 473,
        "start_time": "2021-12-30T23:42:10.188Z"
      },
      {
        "duration": 26,
        "start_time": "2021-12-30T23:42:10.663Z"
      },
      {
        "duration": 461,
        "start_time": "2021-12-30T23:42:10.691Z"
      },
      {
        "duration": 257,
        "start_time": "2021-12-30T23:42:11.154Z"
      },
      {
        "duration": 436,
        "start_time": "2021-12-30T23:42:11.412Z"
      },
      {
        "duration": 6,
        "start_time": "2021-12-30T23:42:11.849Z"
      },
      {
        "duration": 451,
        "start_time": "2021-12-30T23:42:11.856Z"
      },
      {
        "duration": 6,
        "start_time": "2021-12-30T23:42:12.309Z"
      },
      {
        "duration": 51,
        "start_time": "2021-12-30T23:42:12.316Z"
      },
      {
        "duration": 265,
        "start_time": "2021-12-30T23:42:12.368Z"
      },
      {
        "duration": 266,
        "start_time": "2021-12-30T23:42:12.634Z"
      },
      {
        "duration": 2,
        "start_time": "2021-12-30T23:42:12.902Z"
      },
      {
        "duration": 10,
        "start_time": "2021-12-30T23:42:12.906Z"
      },
      {
        "duration": 2,
        "start_time": "2021-12-30T23:42:12.918Z"
      },
      {
        "duration": 389,
        "start_time": "2021-12-30T23:42:12.922Z"
      },
      {
        "duration": 2,
        "start_time": "2021-12-30T23:42:13.313Z"
      },
      {
        "duration": 150,
        "start_time": "2021-12-30T23:42:13.316Z"
      },
      {
        "duration": 12,
        "start_time": "2021-12-30T23:42:13.468Z"
      },
      {
        "duration": 9,
        "start_time": "2021-12-30T23:42:13.482Z"
      },
      {
        "duration": 3,
        "start_time": "2021-12-30T23:44:21.403Z"
      },
      {
        "duration": 1080,
        "start_time": "2021-12-30T23:44:21.408Z"
      },
      {
        "duration": 12,
        "start_time": "2021-12-30T23:44:22.490Z"
      },
      {
        "duration": 16,
        "start_time": "2021-12-30T23:44:22.504Z"
      },
      {
        "duration": 21,
        "start_time": "2021-12-30T23:44:22.522Z"
      },
      {
        "duration": 30,
        "start_time": "2021-12-30T23:44:22.545Z"
      },
      {
        "duration": 13,
        "start_time": "2021-12-30T23:44:22.577Z"
      },
      {
        "duration": 15,
        "start_time": "2021-12-30T23:44:22.592Z"
      },
      {
        "duration": 34,
        "start_time": "2021-12-30T23:44:22.609Z"
      },
      {
        "duration": 13,
        "start_time": "2021-12-30T23:44:22.645Z"
      },
      {
        "duration": 26,
        "start_time": "2021-12-30T23:44:22.659Z"
      },
      {
        "duration": 27,
        "start_time": "2021-12-30T23:44:22.687Z"
      },
      {
        "duration": 26,
        "start_time": "2021-12-30T23:44:22.715Z"
      },
      {
        "duration": 6,
        "start_time": "2021-12-30T23:44:22.743Z"
      },
      {
        "duration": 16,
        "start_time": "2021-12-30T23:44:22.751Z"
      },
      {
        "duration": 275,
        "start_time": "2021-12-30T23:44:22.768Z"
      },
      {
        "duration": 2,
        "start_time": "2021-12-30T23:44:23.045Z"
      },
      {
        "duration": 15,
        "start_time": "2021-12-30T23:44:23.048Z"
      },
      {
        "duration": 2,
        "start_time": "2021-12-30T23:44:23.065Z"
      },
      {
        "duration": 5,
        "start_time": "2021-12-30T23:44:23.068Z"
      },
      {
        "duration": 14,
        "start_time": "2021-12-30T23:44:23.074Z"
      },
      {
        "duration": 5,
        "start_time": "2021-12-30T23:44:23.089Z"
      },
      {
        "duration": 11,
        "start_time": "2021-12-30T23:44:23.097Z"
      },
      {
        "duration": 309,
        "start_time": "2021-12-30T23:44:23.110Z"
      },
      {
        "duration": 28,
        "start_time": "2021-12-30T23:44:23.420Z"
      },
      {
        "duration": 15,
        "start_time": "2021-12-30T23:44:23.450Z"
      },
      {
        "duration": 8,
        "start_time": "2021-12-30T23:44:23.467Z"
      },
      {
        "duration": 14,
        "start_time": "2021-12-30T23:44:23.476Z"
      },
      {
        "duration": 394,
        "start_time": "2021-12-30T23:44:23.492Z"
      },
      {
        "duration": 26,
        "start_time": "2021-12-30T23:44:23.888Z"
      },
      {
        "duration": 463,
        "start_time": "2021-12-30T23:44:23.916Z"
      },
      {
        "duration": 187,
        "start_time": "2021-12-30T23:44:24.381Z"
      },
      {
        "duration": 488,
        "start_time": "2021-12-30T23:44:24.570Z"
      },
      {
        "duration": 5,
        "start_time": "2021-12-30T23:44:25.060Z"
      },
      {
        "duration": 425,
        "start_time": "2021-12-30T23:44:25.067Z"
      },
      {
        "duration": 5,
        "start_time": "2021-12-30T23:44:25.494Z"
      },
      {
        "duration": 49,
        "start_time": "2021-12-30T23:44:25.500Z"
      },
      {
        "duration": 263,
        "start_time": "2021-12-30T23:44:25.551Z"
      },
      {
        "duration": 255,
        "start_time": "2021-12-30T23:44:25.815Z"
      },
      {
        "duration": 2,
        "start_time": "2021-12-30T23:44:26.071Z"
      },
      {
        "duration": 23,
        "start_time": "2021-12-30T23:44:26.075Z"
      },
      {
        "duration": 363,
        "start_time": "2021-12-30T23:44:26.100Z"
      },
      {
        "duration": 369,
        "start_time": "2021-12-30T23:44:26.464Z"
      },
      {
        "duration": 16,
        "start_time": "2021-12-30T23:44:26.835Z"
      },
      {
        "duration": 8,
        "start_time": "2021-12-30T23:44:26.852Z"
      },
      {
        "duration": 142,
        "start_time": "2021-12-30T23:44:26.862Z"
      },
      {
        "duration": 2,
        "start_time": "2021-12-30T23:44:27.006Z"
      },
      {
        "duration": 4,
        "start_time": "2021-12-30T23:53:55.585Z"
      },
      {
        "duration": 454,
        "start_time": "2021-12-30T23:54:09.207Z"
      },
      {
        "duration": 356,
        "start_time": "2021-12-31T00:16:51.185Z"
      },
      {
        "duration": 258,
        "start_time": "2021-12-31T00:17:24.399Z"
      },
      {
        "duration": 672,
        "start_time": "2021-12-31T00:19:01.718Z"
      },
      {
        "duration": 414,
        "start_time": "2021-12-31T00:21:25.073Z"
      },
      {
        "duration": 501,
        "start_time": "2021-12-31T00:22:00.960Z"
      },
      {
        "duration": 616,
        "start_time": "2021-12-31T00:22:52.232Z"
      },
      {
        "duration": 3,
        "start_time": "2021-12-31T01:04:06.689Z"
      },
      {
        "duration": 1137,
        "start_time": "2021-12-31T01:04:06.694Z"
      },
      {
        "duration": 10,
        "start_time": "2021-12-31T01:04:07.833Z"
      },
      {
        "duration": 15,
        "start_time": "2021-12-31T01:04:07.846Z"
      },
      {
        "duration": 14,
        "start_time": "2021-12-31T01:04:07.863Z"
      },
      {
        "duration": 27,
        "start_time": "2021-12-31T01:04:07.879Z"
      },
      {
        "duration": 35,
        "start_time": "2021-12-31T01:04:07.907Z"
      },
      {
        "duration": 12,
        "start_time": "2021-12-31T01:04:07.943Z"
      },
      {
        "duration": 12,
        "start_time": "2021-12-31T01:04:07.957Z"
      },
      {
        "duration": 4,
        "start_time": "2021-12-31T01:04:07.971Z"
      },
      {
        "duration": 21,
        "start_time": "2021-12-31T01:04:07.977Z"
      },
      {
        "duration": 54,
        "start_time": "2021-12-31T01:04:08.000Z"
      },
      {
        "duration": 7,
        "start_time": "2021-12-31T01:04:08.056Z"
      },
      {
        "duration": 6,
        "start_time": "2021-12-31T01:04:08.065Z"
      },
      {
        "duration": 16,
        "start_time": "2021-12-31T01:04:08.073Z"
      },
      {
        "duration": 263,
        "start_time": "2021-12-31T01:04:08.090Z"
      },
      {
        "duration": 2,
        "start_time": "2021-12-31T01:04:08.355Z"
      },
      {
        "duration": 21,
        "start_time": "2021-12-31T01:04:08.359Z"
      },
      {
        "duration": 2,
        "start_time": "2021-12-31T01:04:08.382Z"
      },
      {
        "duration": 6,
        "start_time": "2021-12-31T01:04:08.385Z"
      },
      {
        "duration": 15,
        "start_time": "2021-12-31T01:04:08.392Z"
      },
      {
        "duration": 7,
        "start_time": "2021-12-31T01:04:08.409Z"
      },
      {
        "duration": 7,
        "start_time": "2021-12-31T01:04:08.417Z"
      },
      {
        "duration": 289,
        "start_time": "2021-12-31T01:04:08.425Z"
      },
      {
        "duration": 28,
        "start_time": "2021-12-31T01:04:08.715Z"
      },
      {
        "duration": 16,
        "start_time": "2021-12-31T01:04:08.744Z"
      },
      {
        "duration": 9,
        "start_time": "2021-12-31T01:04:08.763Z"
      },
      {
        "duration": 6,
        "start_time": "2021-12-31T01:04:08.774Z"
      },
      {
        "duration": 361,
        "start_time": "2021-12-31T01:04:08.782Z"
      },
      {
        "duration": 24,
        "start_time": "2021-12-31T01:04:09.145Z"
      },
      {
        "duration": 444,
        "start_time": "2021-12-31T01:04:09.170Z"
      },
      {
        "duration": 242,
        "start_time": "2021-12-31T01:04:09.615Z"
      },
      {
        "duration": 412,
        "start_time": "2021-12-31T01:04:09.859Z"
      },
      {
        "duration": 5,
        "start_time": "2021-12-31T01:04:10.272Z"
      },
      {
        "duration": 439,
        "start_time": "2021-12-31T01:04:10.278Z"
      },
      {
        "duration": 6,
        "start_time": "2021-12-31T01:04:10.718Z"
      },
      {
        "duration": 47,
        "start_time": "2021-12-31T01:04:10.725Z"
      },
      {
        "duration": 252,
        "start_time": "2021-12-31T01:04:10.773Z"
      },
      {
        "duration": 260,
        "start_time": "2021-12-31T01:04:11.027Z"
      },
      {
        "duration": 2,
        "start_time": "2021-12-31T01:04:11.289Z"
      },
      {
        "duration": 26,
        "start_time": "2021-12-31T01:04:11.292Z"
      },
      {
        "duration": 17,
        "start_time": "2021-12-31T01:04:11.320Z"
      },
      {
        "duration": 366,
        "start_time": "2021-12-31T01:04:11.339Z"
      },
      {
        "duration": 370,
        "start_time": "2021-12-31T01:04:11.707Z"
      },
      {
        "duration": 87,
        "start_time": "2021-12-31T01:04:12.079Z"
      },
      {
        "duration": 92,
        "start_time": "2021-12-31T01:04:12.076Z"
      },
      {
        "duration": 91,
        "start_time": "2021-12-31T01:04:12.078Z"
      },
      {
        "duration": 91,
        "start_time": "2021-12-31T01:04:12.079Z"
      },
      {
        "duration": 661,
        "start_time": "2021-12-31T01:04:47.409Z"
      },
      {
        "duration": 13,
        "start_time": "2021-12-31T01:04:57.669Z"
      },
      {
        "duration": 11,
        "start_time": "2021-12-31T01:05:02.964Z"
      },
      {
        "duration": 282,
        "start_time": "2022-01-01T19:06:25.034Z"
      },
      {
        "duration": 4,
        "start_time": "2022-01-01T19:06:38.187Z"
      },
      {
        "duration": 1142,
        "start_time": "2022-01-01T19:06:38.192Z"
      },
      {
        "duration": 9,
        "start_time": "2022-01-01T19:06:39.336Z"
      },
      {
        "duration": 17,
        "start_time": "2022-01-01T19:06:39.347Z"
      },
      {
        "duration": 15,
        "start_time": "2022-01-01T19:06:39.366Z"
      },
      {
        "duration": 29,
        "start_time": "2022-01-01T19:06:39.383Z"
      },
      {
        "duration": 13,
        "start_time": "2022-01-01T19:06:39.415Z"
      },
      {
        "duration": 40,
        "start_time": "2022-01-01T19:06:39.431Z"
      },
      {
        "duration": 12,
        "start_time": "2022-01-01T19:06:39.473Z"
      },
      {
        "duration": 5,
        "start_time": "2022-01-01T19:06:39.487Z"
      },
      {
        "duration": 27,
        "start_time": "2022-01-01T19:06:39.494Z"
      },
      {
        "duration": 47,
        "start_time": "2022-01-01T19:06:39.522Z"
      },
      {
        "duration": 8,
        "start_time": "2022-01-01T19:06:39.570Z"
      },
      {
        "duration": 9,
        "start_time": "2022-01-01T19:06:39.579Z"
      },
      {
        "duration": 16,
        "start_time": "2022-01-01T19:06:39.590Z"
      },
      {
        "duration": 267,
        "start_time": "2022-01-01T19:06:39.608Z"
      },
      {
        "duration": 2,
        "start_time": "2022-01-01T19:06:39.876Z"
      },
      {
        "duration": 16,
        "start_time": "2022-01-01T19:06:39.880Z"
      },
      {
        "duration": 2,
        "start_time": "2022-01-01T19:06:39.899Z"
      },
      {
        "duration": 9,
        "start_time": "2022-01-01T19:06:39.903Z"
      },
      {
        "duration": 17,
        "start_time": "2022-01-01T19:06:39.913Z"
      },
      {
        "duration": 6,
        "start_time": "2022-01-01T19:06:39.931Z"
      },
      {
        "duration": 13,
        "start_time": "2022-01-01T19:06:39.938Z"
      },
      {
        "duration": 317,
        "start_time": "2022-01-01T19:06:39.953Z"
      },
      {
        "duration": 15,
        "start_time": "2022-01-01T19:06:40.272Z"
      },
      {
        "duration": 17,
        "start_time": "2022-01-01T19:06:40.288Z"
      },
      {
        "duration": 9,
        "start_time": "2022-01-01T19:06:40.306Z"
      },
      {
        "duration": 8,
        "start_time": "2022-01-01T19:06:40.317Z"
      },
      {
        "duration": 386,
        "start_time": "2022-01-01T19:06:40.327Z"
      },
      {
        "duration": 27,
        "start_time": "2022-01-01T19:06:40.715Z"
      },
      {
        "duration": 465,
        "start_time": "2022-01-01T19:06:40.760Z"
      },
      {
        "duration": 270,
        "start_time": "2022-01-01T19:06:41.227Z"
      },
      {
        "duration": 542,
        "start_time": "2022-01-01T19:06:41.499Z"
      },
      {
        "duration": 17,
        "start_time": "2022-01-01T19:06:42.043Z"
      },
      {
        "duration": 454,
        "start_time": "2022-01-01T19:06:42.062Z"
      },
      {
        "duration": 6,
        "start_time": "2022-01-01T19:06:42.518Z"
      },
      {
        "duration": 55,
        "start_time": "2022-01-01T19:06:42.526Z"
      },
      {
        "duration": 263,
        "start_time": "2022-01-01T19:06:42.583Z"
      },
      {
        "duration": 280,
        "start_time": "2022-01-01T19:06:42.848Z"
      },
      {
        "duration": 3,
        "start_time": "2022-01-01T19:06:43.129Z"
      },
      {
        "duration": 18,
        "start_time": "2022-01-01T19:06:43.133Z"
      },
      {
        "duration": 4,
        "start_time": "2022-01-01T19:06:43.153Z"
      },
      {
        "duration": 383,
        "start_time": "2022-01-01T19:06:43.158Z"
      },
      {
        "duration": 391,
        "start_time": "2022-01-01T19:06:43.543Z"
      },
      {
        "duration": 26,
        "start_time": "2022-01-01T19:06:43.935Z"
      },
      {
        "duration": 797,
        "start_time": "2022-01-01T19:06:43.963Z"
      },
      {
        "duration": 16,
        "start_time": "2022-01-01T19:06:44.763Z"
      },
      {
        "duration": 10,
        "start_time": "2022-01-01T19:06:44.781Z"
      },
      {
        "duration": 15,
        "start_time": "2022-01-01T19:07:11.468Z"
      },
      {
        "duration": 70,
        "start_time": "2022-01-02T08:20:17.072Z"
      },
      {
        "duration": 4,
        "start_time": "2022-01-02T11:14:01.649Z"
      },
      {
        "duration": 1134,
        "start_time": "2022-01-02T11:14:01.655Z"
      },
      {
        "duration": 39,
        "start_time": "2022-01-02T11:14:02.791Z"
      },
      {
        "duration": 10,
        "start_time": "2022-01-02T11:14:02.832Z"
      },
      {
        "duration": 18,
        "start_time": "2022-01-02T11:14:02.844Z"
      },
      {
        "duration": 16,
        "start_time": "2022-01-02T11:14:02.863Z"
      },
      {
        "duration": 30,
        "start_time": "2022-01-02T11:14:02.880Z"
      },
      {
        "duration": 35,
        "start_time": "2022-01-02T11:14:02.912Z"
      },
      {
        "duration": 18,
        "start_time": "2022-01-02T11:14:02.949Z"
      },
      {
        "duration": 10,
        "start_time": "2022-01-02T11:14:02.969Z"
      },
      {
        "duration": 7,
        "start_time": "2022-01-02T11:14:02.981Z"
      },
      {
        "duration": 23,
        "start_time": "2022-01-02T11:14:02.989Z"
      },
      {
        "duration": 28,
        "start_time": "2022-01-02T11:14:03.042Z"
      },
      {
        "duration": 8,
        "start_time": "2022-01-02T11:14:03.072Z"
      },
      {
        "duration": 6,
        "start_time": "2022-01-02T11:14:03.082Z"
      },
      {
        "duration": 17,
        "start_time": "2022-01-02T11:14:03.090Z"
      },
      {
        "duration": 287,
        "start_time": "2022-01-02T11:14:03.109Z"
      },
      {
        "duration": 2,
        "start_time": "2022-01-02T11:14:03.398Z"
      },
      {
        "duration": 21,
        "start_time": "2022-01-02T11:14:03.402Z"
      },
      {
        "duration": 4,
        "start_time": "2022-01-02T11:14:03.425Z"
      },
      {
        "duration": 3,
        "start_time": "2022-01-02T11:14:03.442Z"
      },
      {
        "duration": 12,
        "start_time": "2022-01-02T11:14:03.447Z"
      },
      {
        "duration": 2,
        "start_time": "2022-01-02T11:14:03.463Z"
      },
      {
        "duration": 4,
        "start_time": "2022-01-02T11:14:03.468Z"
      },
      {
        "duration": 334,
        "start_time": "2022-01-02T11:14:03.474Z"
      },
      {
        "duration": 31,
        "start_time": "2022-01-02T11:14:03.810Z"
      },
      {
        "duration": 17,
        "start_time": "2022-01-02T11:14:03.843Z"
      },
      {
        "duration": 9,
        "start_time": "2022-01-02T11:14:03.862Z"
      },
      {
        "duration": 6,
        "start_time": "2022-01-02T11:14:03.872Z"
      },
      {
        "duration": 346,
        "start_time": "2022-01-02T11:14:03.879Z"
      },
      {
        "duration": 28,
        "start_time": "2022-01-02T11:14:04.227Z"
      },
      {
        "duration": 454,
        "start_time": "2022-01-02T11:14:04.256Z"
      },
      {
        "duration": 190,
        "start_time": "2022-01-02T11:14:04.712Z"
      },
      {
        "duration": 500,
        "start_time": "2022-01-02T11:14:04.904Z"
      },
      {
        "duration": 5,
        "start_time": "2022-01-02T11:14:05.406Z"
      },
      {
        "duration": 499,
        "start_time": "2022-01-02T11:14:05.412Z"
      },
      {
        "duration": 5,
        "start_time": "2022-01-02T11:14:05.912Z"
      },
      {
        "duration": 44,
        "start_time": "2022-01-02T11:14:05.919Z"
      },
      {
        "duration": 377,
        "start_time": "2022-01-02T11:14:05.964Z"
      },
      {
        "duration": 272,
        "start_time": "2022-01-02T11:14:06.342Z"
      },
      {
        "duration": 2,
        "start_time": "2022-01-02T11:14:06.615Z"
      },
      {
        "duration": 9,
        "start_time": "2022-01-02T11:14:06.619Z"
      },
      {
        "duration": 14,
        "start_time": "2022-01-02T11:14:06.629Z"
      },
      {
        "duration": 369,
        "start_time": "2022-01-02T11:14:06.645Z"
      },
      {
        "duration": 392,
        "start_time": "2022-01-02T11:14:07.015Z"
      },
      {
        "duration": 688,
        "start_time": "2022-01-02T11:14:07.409Z"
      },
      {
        "duration": 12,
        "start_time": "2022-01-02T11:14:08.099Z"
      },
      {
        "duration": 11,
        "start_time": "2022-01-02T11:14:08.112Z"
      },
      {
        "duration": 30,
        "start_time": "2022-01-02T11:25:46.431Z"
      },
      {
        "duration": 533,
        "start_time": "2022-01-02T11:33:12.275Z"
      },
      {
        "duration": 432,
        "start_time": "2022-01-02T11:33:34.517Z"
      },
      {
        "duration": 433,
        "start_time": "2022-01-02T11:34:53.755Z"
      },
      {
        "duration": 435,
        "start_time": "2022-01-02T11:35:09.555Z"
      },
      {
        "duration": 439,
        "start_time": "2022-01-02T11:37:58.708Z"
      },
      {
        "duration": 485,
        "start_time": "2022-01-02T11:38:56.255Z"
      },
      {
        "duration": 483,
        "start_time": "2022-01-02T11:39:27.000Z"
      },
      {
        "duration": 72,
        "start_time": "2022-01-02T11:39:50.107Z"
      },
      {
        "duration": 280,
        "start_time": "2022-01-02T11:39:59.965Z"
      },
      {
        "duration": 248,
        "start_time": "2022-01-02T11:40:12.807Z"
      },
      {
        "duration": 405,
        "start_time": "2022-01-02T11:45:53.547Z"
      },
      {
        "duration": 314,
        "start_time": "2022-01-02T11:46:10.868Z"
      },
      {
        "duration": 563,
        "start_time": "2022-01-02T11:50:22.479Z"
      },
      {
        "duration": 539,
        "start_time": "2022-01-02T11:51:12.751Z"
      },
      {
        "duration": 555,
        "start_time": "2022-01-02T11:51:52.771Z"
      },
      {
        "duration": 3,
        "start_time": "2022-01-02T11:54:26.716Z"
      },
      {
        "duration": 1135,
        "start_time": "2022-01-02T11:54:26.721Z"
      },
      {
        "duration": 36,
        "start_time": "2022-01-02T11:54:27.858Z"
      },
      {
        "duration": 9,
        "start_time": "2022-01-02T11:54:27.896Z"
      },
      {
        "duration": 23,
        "start_time": "2022-01-02T11:54:27.906Z"
      },
      {
        "duration": 14,
        "start_time": "2022-01-02T11:54:27.930Z"
      },
      {
        "duration": 26,
        "start_time": "2022-01-02T11:54:27.945Z"
      },
      {
        "duration": 11,
        "start_time": "2022-01-02T11:54:27.972Z"
      },
      {
        "duration": 14,
        "start_time": "2022-01-02T11:54:27.986Z"
      },
      {
        "duration": 22,
        "start_time": "2022-01-02T11:54:28.001Z"
      },
      {
        "duration": 14,
        "start_time": "2022-01-02T11:54:28.025Z"
      },
      {
        "duration": 21,
        "start_time": "2022-01-02T11:54:28.041Z"
      },
      {
        "duration": 26,
        "start_time": "2022-01-02T11:54:28.064Z"
      },
      {
        "duration": 7,
        "start_time": "2022-01-02T11:54:28.091Z"
      },
      {
        "duration": 13,
        "start_time": "2022-01-02T11:54:28.099Z"
      },
      {
        "duration": 33,
        "start_time": "2022-01-02T11:54:28.113Z"
      },
      {
        "duration": 240,
        "start_time": "2022-01-02T11:54:28.147Z"
      },
      {
        "duration": 2,
        "start_time": "2022-01-02T11:54:28.389Z"
      },
      {
        "duration": 13,
        "start_time": "2022-01-02T11:54:28.392Z"
      },
      {
        "duration": 2,
        "start_time": "2022-01-02T11:54:28.406Z"
      },
      {
        "duration": 5,
        "start_time": "2022-01-02T11:54:28.409Z"
      },
      {
        "duration": 27,
        "start_time": "2022-01-02T11:54:28.415Z"
      },
      {
        "duration": 2,
        "start_time": "2022-01-02T11:54:28.443Z"
      },
      {
        "duration": 7,
        "start_time": "2022-01-02T11:54:28.447Z"
      },
      {
        "duration": 301,
        "start_time": "2022-01-02T11:54:28.456Z"
      },
      {
        "duration": 15,
        "start_time": "2022-01-02T11:54:28.758Z"
      },
      {
        "duration": 15,
        "start_time": "2022-01-02T11:54:28.776Z"
      },
      {
        "duration": 9,
        "start_time": "2022-01-02T11:54:28.793Z"
      },
      {
        "duration": 38,
        "start_time": "2022-01-02T11:54:28.803Z"
      },
      {
        "duration": 340,
        "start_time": "2022-01-02T11:54:28.843Z"
      },
      {
        "duration": 22,
        "start_time": "2022-01-02T11:54:29.184Z"
      },
      {
        "duration": 443,
        "start_time": "2022-01-02T11:54:29.208Z"
      },
      {
        "duration": 179,
        "start_time": "2022-01-02T11:54:29.653Z"
      },
      {
        "duration": 404,
        "start_time": "2022-01-02T11:54:29.833Z"
      },
      {
        "duration": 5,
        "start_time": "2022-01-02T11:54:30.238Z"
      },
      {
        "duration": 484,
        "start_time": "2022-01-02T11:54:30.244Z"
      },
      {
        "duration": 6,
        "start_time": "2022-01-02T11:54:30.730Z"
      },
      {
        "duration": 60,
        "start_time": "2022-01-02T11:54:30.741Z"
      },
      {
        "duration": 281,
        "start_time": "2022-01-02T11:54:30.803Z"
      },
      {
        "duration": 283,
        "start_time": "2022-01-02T11:54:31.086Z"
      },
      {
        "duration": 3,
        "start_time": "2022-01-02T11:54:31.371Z"
      },
      {
        "duration": 18,
        "start_time": "2022-01-02T11:54:31.376Z"
      },
      {
        "duration": 13,
        "start_time": "2022-01-02T11:54:31.396Z"
      },
      {
        "duration": 398,
        "start_time": "2022-01-02T11:54:31.410Z"
      },
      {
        "duration": 406,
        "start_time": "2022-01-02T11:54:31.810Z"
      },
      {
        "duration": 692,
        "start_time": "2022-01-02T11:54:32.218Z"
      },
      {
        "duration": 11,
        "start_time": "2022-01-02T11:54:32.911Z"
      },
      {
        "duration": 54,
        "start_time": "2022-01-02T11:54:32.924Z"
      },
      {
        "duration": 16,
        "start_time": "2022-01-02T12:07:18.106Z"
      },
      {
        "duration": 2,
        "start_time": "2022-01-02T12:07:41.922Z"
      },
      {
        "duration": 274,
        "start_time": "2022-01-02T12:23:57.261Z"
      },
      {
        "duration": 265,
        "start_time": "2022-01-02T12:24:24.802Z"
      },
      {
        "duration": 578,
        "start_time": "2022-01-02T12:39:03.463Z"
      },
      {
        "duration": 3,
        "start_time": "2022-01-02T12:45:22.760Z"
      },
      {
        "duration": 1110,
        "start_time": "2022-01-02T12:45:22.765Z"
      },
      {
        "duration": 38,
        "start_time": "2022-01-02T12:45:23.877Z"
      },
      {
        "duration": 12,
        "start_time": "2022-01-02T12:45:23.919Z"
      },
      {
        "duration": 20,
        "start_time": "2022-01-02T12:45:23.933Z"
      },
      {
        "duration": 16,
        "start_time": "2022-01-02T12:45:23.955Z"
      },
      {
        "duration": 28,
        "start_time": "2022-01-02T12:45:23.972Z"
      },
      {
        "duration": 38,
        "start_time": "2022-01-02T12:45:24.004Z"
      },
      {
        "duration": 13,
        "start_time": "2022-01-02T12:45:24.045Z"
      },
      {
        "duration": 11,
        "start_time": "2022-01-02T12:45:24.060Z"
      },
      {
        "duration": 5,
        "start_time": "2022-01-02T12:45:24.073Z"
      },
      {
        "duration": 22,
        "start_time": "2022-01-02T12:45:24.080Z"
      },
      {
        "duration": 64,
        "start_time": "2022-01-02T12:45:24.104Z"
      },
      {
        "duration": 9,
        "start_time": "2022-01-02T12:45:24.170Z"
      },
      {
        "duration": 8,
        "start_time": "2022-01-02T12:45:24.181Z"
      },
      {
        "duration": 17,
        "start_time": "2022-01-02T12:45:24.190Z"
      },
      {
        "duration": 279,
        "start_time": "2022-01-02T12:45:24.208Z"
      },
      {
        "duration": 2,
        "start_time": "2022-01-02T12:45:24.489Z"
      },
      {
        "duration": 23,
        "start_time": "2022-01-02T12:45:24.493Z"
      },
      {
        "duration": 22,
        "start_time": "2022-01-02T12:45:24.517Z"
      },
      {
        "duration": 13,
        "start_time": "2022-01-02T12:45:24.540Z"
      },
      {
        "duration": 17,
        "start_time": "2022-01-02T12:45:24.554Z"
      },
      {
        "duration": 27,
        "start_time": "2022-01-02T12:45:24.572Z"
      },
      {
        "duration": 17,
        "start_time": "2022-01-02T12:45:24.601Z"
      },
      {
        "duration": 22,
        "start_time": "2022-01-02T12:45:24.619Z"
      },
      {
        "duration": 326,
        "start_time": "2022-01-02T12:45:24.645Z"
      },
      {
        "duration": 17,
        "start_time": "2022-01-02T12:45:24.973Z"
      },
      {
        "duration": 17,
        "start_time": "2022-01-02T12:45:24.991Z"
      },
      {
        "duration": 34,
        "start_time": "2022-01-02T12:45:25.010Z"
      },
      {
        "duration": 7,
        "start_time": "2022-01-02T12:45:25.046Z"
      },
      {
        "duration": 323,
        "start_time": "2022-01-02T12:45:25.055Z"
      },
      {
        "duration": 24,
        "start_time": "2022-01-02T12:45:25.380Z"
      },
      {
        "duration": 450,
        "start_time": "2022-01-02T12:45:25.405Z"
      },
      {
        "duration": 177,
        "start_time": "2022-01-02T12:45:25.857Z"
      },
      {
        "duration": 380,
        "start_time": "2022-01-02T12:45:26.035Z"
      },
      {
        "duration": 5,
        "start_time": "2022-01-02T12:45:26.416Z"
      },
      {
        "duration": 470,
        "start_time": "2022-01-02T12:45:26.422Z"
      },
      {
        "duration": 5,
        "start_time": "2022-01-02T12:45:26.893Z"
      },
      {
        "duration": 46,
        "start_time": "2022-01-02T12:45:26.900Z"
      },
      {
        "duration": 263,
        "start_time": "2022-01-02T12:45:26.947Z"
      },
      {
        "duration": 257,
        "start_time": "2022-01-02T12:45:27.211Z"
      },
      {
        "duration": 3,
        "start_time": "2022-01-02T12:45:27.469Z"
      },
      {
        "duration": 12,
        "start_time": "2022-01-02T12:45:27.473Z"
      },
      {
        "duration": 7,
        "start_time": "2022-01-02T12:45:27.487Z"
      },
      {
        "duration": 359,
        "start_time": "2022-01-02T12:45:27.495Z"
      },
      {
        "duration": 364,
        "start_time": "2022-01-02T12:45:27.855Z"
      },
      {
        "duration": 690,
        "start_time": "2022-01-02T12:45:28.221Z"
      },
      {
        "duration": 13,
        "start_time": "2022-01-02T12:45:28.913Z"
      },
      {
        "duration": 21,
        "start_time": "2022-01-02T12:45:28.928Z"
      }
    ],
    "kernelspec": {
      "display_name": "Python 3",
      "language": "python",
      "name": "python3"
    },
    "language_info": {
      "codemirror_mode": {
        "name": "ipython",
        "version": 3
      },
      "file_extension": ".py",
      "mimetype": "text/x-python",
      "name": "python",
      "nbconvert_exporter": "python",
      "pygments_lexer": "ipython3",
      "version": "3.7.8"
    },
    "toc": {
      "base_numbering": 1,
      "nav_menu": {},
      "number_sections": false,
      "sideBar": true,
      "skip_h1_title": false,
      "title_cell": "Table of Contents",
      "title_sidebar": "Contents",
      "toc_cell": false,
      "toc_position": {
        "height": "calc(100% - 180px)",
        "left": "10px",
        "top": "150px",
        "width": "337.003px"
      },
      "toc_section_display": true,
      "toc_window_display": true
    },
    "colab": {
      "name": "Анализ продаж компьютерных игр.ipynb",
      "provenance": [],
      "collapsed_sections": []
    }
  },
  "nbformat": 4,
  "nbformat_minor": 0
}